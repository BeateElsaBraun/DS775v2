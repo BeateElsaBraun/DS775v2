{
 "cells": [
  {
   "cell_type": "markdown",
   "metadata": {},
   "source": [
    "<font size=16>Overview 02: Sensitivity Analysis and Abstract Modeling</font>"
   ]
  },
  {
   "cell_type": "code",
   "execution_count": 2,
   "metadata": {
    "code_folding": [
     0
    ],
    "scrolled": true
   },
   "outputs": [
    {
     "data": {
      "text/html": [
       "\n",
       "\n",
       "<style>\n",
       "    div#notebook-container    { width: 95%; }\n",
       "    div#menubar-container     { width: 65%; }\n",
       "    div#maintoolbar-container { width: 99%; }\n",
       "</style>\n",
       "\n",
       "<style>\n",
       " th{font-size:14px}\n",
       " td{font-size:14px}\n",
       ".tleft td{text-align:left;}\n",
       ".tleft th{text-align:left;}\n",
       ".tbrdtop td{border-top: thin solid;}\n",
       ".tc td{text-align:center;}\n",
       "</style>\n",
       "\n"
      ],
      "text/plain": [
       "<IPython.core.display.HTML object>"
      ]
     },
     "metadata": {},
     "output_type": "display_data"
    }
   ],
   "source": [
    "# includes some css for styling the notebook, execute but not important\n",
    "from IPython.display import display, HTML\n",
    "\n",
    "display(HTML(data=\"\"\"\n",
    "\n",
    "<style>\n",
    "    div#notebook-container    { width: 95%; }\n",
    "    div#menubar-container     { width: 65%; }\n",
    "    div#maintoolbar-container { width: 99%; }\n",
    "</style>\n",
    "\n",
    "<style>\n",
    " th{font-size:14px}\n",
    " td{font-size:14px}\n",
    ".tleft td{text-align:left;}\n",
    ".tleft th{text-align:left;}\n",
    ".tbrdtop td{border-top: thin solid;}\n",
    ".tc td{text-align:center;}\n",
    "</style>\n",
    "\n",
    "\"\"\"))"
   ]
  },
  {
   "cell_type": "markdown",
   "metadata": {},
   "source": [
    "# Topics"
   ]
  },
  {
   "cell_type": "markdown",
   "metadata": {},
   "source": [
    "* Sensitivity analysis\n",
    "* Abstract modeling for setting up larger LP problems\n"
   ]
  },
  {
   "cell_type": "markdown",
   "metadata": {},
   "source": [
    "# Learning Outcomes"
   ]
  },
  {
   "cell_type": "markdown",
   "metadata": {},
   "source": [
    "The student will be able to:\n",
    "\n",
    "* identify sensitive parameters in a linear programming problem.\n",
    "* compute and interpret the shadow price for a resource.\n",
    "* compute and interpret the allowable range for and objective function coefficient in a linear programming problem.\n",
    "* compute and interpret the allowable range for a constraint boundary in a linear programming problem.\n",
    "* produce and interpret a sensitivity report for a linear programming problem.\n",
    "* code a linear programming problem with the model and data separated using dense arrays\n",
    "* code a linear programming problem with the model and data separated using tuples"
   ]
  },
  {
   "cell_type": "markdown",
   "metadata": {},
   "source": [
    "# Student \"To Do\" Checklist"
   ]
  },
  {
   "cell_type": "markdown",
   "metadata": {},
   "source": [
    "* Reading\n",
    "    * read Hillier Section 4.7 \n",
    "    * read the first 7 paragraphs in Hillier Section 7.1\n",
    "    * read Hillier Section 7.3 (but keep in mind that we will use Python and not Excel)\n",
    "* Work your way through the Jupyter notebook called Lesson_02.ipynb.  This is the main presentation and replaces the Storybook presentations used in our other courses.  Use the self-assessments to measure your understanding.  There is a separate Jupyter notebook file with self-assessment solutions in the lesson folder.  *Self-assessments are not collected and do not count toward your grade.*\n",
    "* Complete the homework notebook in CoCalc by the due date which is shown both in Canvas and CoCalc."
   ]
  },
  {
   "cell_type": "code",
   "execution_count": null,
   "metadata": {},
   "outputs": [],
   "source": []
  }
 ],
 "metadata": {
  "kernelspec": {
   "display_name": "Python 3",
   "language": "python",
   "name": "python3"
  },
  "language_info": {
   "codemirror_mode": {
    "name": "ipython",
    "version": 3
   },
   "file_extension": ".py",
   "mimetype": "text/x-python",
   "name": "python",
   "nbconvert_exporter": "python",
   "pygments_lexer": "ipython3",
   "version": "3.7.3"
  },
  "toc": {
   "base_numbering": 1,
   "nav_menu": {},
   "number_sections": true,
   "sideBar": true,
   "skip_h1_title": false,
   "title_cell": "Table of Contents",
   "title_sidebar": "Contents",
   "toc_cell": false,
   "toc_position": {},
   "toc_section_display": true,
   "toc_window_display": false
  }
 },
 "nbformat": 4,
 "nbformat_minor": 2
}
