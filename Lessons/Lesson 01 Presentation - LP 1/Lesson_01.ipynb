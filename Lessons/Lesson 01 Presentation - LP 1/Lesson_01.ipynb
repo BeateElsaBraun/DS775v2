{
 "cells": [
  {
   "cell_type": "markdown",
   "metadata": {},
   "source": [
    "<p><font size=18>Lesson 01: Linear Programming and Pyomo</font></p>"
   ]
  },
  {
   "cell_type": "code",
   "execution_count": 17,
   "metadata": {
    "code_folding": [
     0
    ]
   },
   "outputs": [],
   "source": [
    "# execute to import notebook styling for tables and width etc.\n",
    "from IPython.core.display import HTML\n",
    "import urllib.request\n",
    "response = urllib.request.urlopen('https://raw.githubusercontent.com/DataScienceUWL/DS775v2/master/ds755.css')\n",
    "HTML(response.read().decode(\"utf-8\"));"
   ]
  },
  {
   "cell_type": "markdown",
   "metadata": {
    "heading_collapsed": true
   },
   "source": [
    "# Introduction and Set-Up"
   ]
  },
  {
   "cell_type": "markdown",
   "metadata": {
    "hidden": true
   },
   "source": [
    "## Introduction to CoCalc (video)"
   ]
  },
  {
   "cell_type": "markdown",
   "metadata": {
    "hidden": true
   },
   "source": [
    "The video below demonstrates how we will use CoCalc in this class.  If you got this notebook without signing up for CoCalc (possible through github) then visit Canvas to find and follow the \"CoCalc and Jupyter Instructions\" handout before viewing the video.  Even if you setup your own Jupyter environment at home, you'll still need to submit your assignments via CoCalc."
   ]
  },
  {
   "cell_type": "code",
   "execution_count": 18,
   "metadata": {
    "code_folding": [
     0
    ],
    "hidden": true
   },
   "outputs": [
    {
     "data": {
      "text/html": [
       "\n",
       "        <iframe\n",
       "            width=\"640\"\n",
       "            height=\"360\"\n",
       "            src=\"https://media.uwex.edu/content/ds/ds775_r19/ds775_cocalc-walkthrough/\"\n",
       "            frameborder=\"0\"\n",
       "            allowfullscreen\n",
       "        ></iframe>\n",
       "        "
      ],
      "text/plain": [
       "<IPython.lib.display.IFrame at 0x10a3ef630>"
      ]
     },
     "execution_count": 18,
     "metadata": {},
     "output_type": "execute_result"
    }
   ],
   "source": [
    "# execute this cell for video\n",
    "from IPython.display import IFrame\n",
    "IFrame(\n",
    "    \"https://media.uwex.edu/content/ds/ds775_r19/ds775_cocalc-walkthrough/\",\n",
    "    width=640,\n",
    "    height=360)"
   ]
  },
  {
   "cell_type": "markdown",
   "metadata": {
    "heading_collapsed": true,
    "hidden": true
   },
   "source": [
    "## Configure Notebook Extensions (video)"
   ]
  },
  {
   "cell_type": "markdown",
   "metadata": {
    "hidden": true
   },
   "source": [
    "Whether you're using Jupyter at home or in CoCalc, enable these notebook extensions to view and use the class notebooks in the intended manner (table of contents, code folding,  etc.)."
   ]
  },
  {
   "cell_type": "code",
   "execution_count": 19,
   "metadata": {
    "hidden": true
   },
   "outputs": [
    {
     "data": {
      "text/html": [
       "\n",
       "        <iframe\n",
       "            width=\"640\"\n",
       "            height=\"360\"\n",
       "            src=\"https://media.uwex.edu/content/ds/ds775_r19/ds775_nb-extensions/index.html\"\n",
       "            frameborder=\"0\"\n",
       "            allowfullscreen\n",
       "        ></iframe>\n",
       "        "
      ],
      "text/plain": [
       "<IPython.lib.display.IFrame at 0x10a3ef0f0>"
      ]
     },
     "execution_count": 19,
     "metadata": {},
     "output_type": "execute_result"
    }
   ],
   "source": [
    "# execute this cell for video\n",
    "from IPython.display import IFrame\n",
    "IFrame(\n",
    "    \"https://media.uwex.edu/content/ds/ds775_r19/ds775_nb-extensions/index.html\",\n",
    "    width=640,\n",
    "    height=360)"
   ]
  },
  {
   "cell_type": "markdown",
   "metadata": {
    "heading_collapsed": true
   },
   "source": [
    "# What is a Linear Program?"
   ]
  },
  {
   "cell_type": "markdown",
   "metadata": {
    "hidden": true
   },
   "source": [
    "**Before progressing through the remainder of this notebook, you really should have read Chapter 3 so that you know the basics of a linear program.**"
   ]
  },
  {
   "cell_type": "markdown",
   "metadata": {
    "heading_collapsed": true,
    "hidden": true
   },
   "source": [
    "## <font color = \"blue\"> Self Assessment: LP Assumptions </font>"
   ]
  },
  {
   "cell_type": "markdown",
   "metadata": {
    "hidden": true
   },
   "source": [
    "Read Hillier 3.3 and answer the questions below.  Solutions are found in the **Self_Assessment_Solutions** notebook.\n",
    "\n",
    "For parts (a) - (c) below, state which, if any, linear programming model assumptions are violated and why.\n",
    "\n",
    "(a) Maximize $Z = 2x_1 + 7x_2 + x_1 x_2,$ \n",
    "\n",
    "subject to \n",
    "\n",
    "$\n",
    "\\begin{array}{rcrcr}\n",
    "5 x_1 & + &  3 x_2 & \\leq & 30 \\\\\n",
    " x_1 & + &  3 x_2 & \\leq & 40 \\\\\n",
    "12 x_1 & + & x^2_2 & \\leq & 50\n",
    "\\end{array}\n",
    "$\n",
    "\n",
    "and $x_1 \\geq 0, x_2 \\geq 0.$\n",
    "\n",
    "(b) Minimize $Z = x_1 + 2x_2 + 3,$ \n",
    "\n",
    "subject to \n",
    "\n",
    "$\n",
    "\\begin{array}{rcrcr}\n",
    " & + &  5 x_2 & \\geq & 8 \\\\\n",
    " x_1 & + &  & \\geq & 4 \\\\\n",
    " x_1 & + & x_2 & \\geq & 10\n",
    "\\end{array}\n",
    "$\n",
    "\n",
    "and $x_1 = 1,2,3, \\ldots, x_2 = 1,2,3, \\ldots$\n",
    "\n",
    "(c)  Maximize $Z = 0.5 x + 0.3 y$\n",
    "\n",
    "subject to \n",
    "\n",
    "$\n",
    "\\begin{array}{rcrcr}\n",
    "2x & - & 0.1 y & \\leq & 2.5 \\\\\n",
    "0.25 x & + & 1 & \\leq & 5.5 \\\\\n",
    " 3 x & + & a_2 y & \\leq & 7.9\n",
    "\\end{array}\n",
    "$\n",
    "\n",
    "$x \\geq 0, y \\geq 0,$ \n",
    "\n",
    "$2 \\leq a_2 \\leq 3$"
   ]
  },
  {
   "cell_type": "markdown",
   "metadata": {},
   "source": [
    "# Graphical Solutions"
   ]
  },
  {
   "cell_type": "markdown",
   "metadata": {
    "heading_collapsed": true
   },
   "source": [
    "## Paper Example (video)"
   ]
  },
  {
   "cell_type": "markdown",
   "metadata": {
    "hidden": true
   },
   "source": [
    "Get \"old school\" and solve a graphical example with paper and pencil along with some graphing and algebra.  This video talks you through an example.  Doing this yourself will help your understanding (and appreciation) of how optimal solutions are found graphically using various software applications. "
   ]
  },
  {
   "cell_type": "code",
   "execution_count": 9,
   "metadata": {
    "code_folding": [
     0
    ],
    "hidden": true
   },
   "outputs": [
    {
     "data": {
      "text/html": [
       "\n",
       "        <iframe\n",
       "            width=\"640\"\n",
       "            height=\"360\"\n",
       "            src=\"https://media.uwex.edu/content/ds/ds775_r19/ds775_lesson1-graphical-by-hand/index.html\"\n",
       "            frameborder=\"0\"\n",
       "            allowfullscreen\n",
       "        ></iframe>\n",
       "        "
      ],
      "text/plain": [
       "<IPython.lib.display.IFrame at 0x10a3cd208>"
      ]
     },
     "execution_count": 9,
     "metadata": {},
     "output_type": "execute_result"
    }
   ],
   "source": [
    "# execute this cell for video\n",
    "from IPython.display import IFrame\n",
    "IFrame(\n",
    "    \"https://media.uwex.edu/content/ds/ds775_r19/ds775_lesson1-graphical-by-hand/index.html\",\n",
    "    width=640,\n",
    "    height=360)"
   ]
  },
  {
   "cell_type": "markdown",
   "metadata": {
    "heading_collapsed": true,
    "hidden": true
   },
   "source": [
    "### <font color = \"blue\"> Self Assessment: Paper and Pencil Method </font>"
   ]
  },
  {
   "cell_type": "markdown",
   "metadata": {
    "hidden": true
   },
   "source": [
    "**Textbook Problem 3.1-6.** Use paper and pencil to solve this problem using the graphical method.\n",
    "\n",
    "Maximize $Z = 10x_1 + 20x_2,$ \n",
    "\n",
    "subject to \n",
    "\n",
    "$\n",
    "\\begin{array}{rcrcr}\n",
    "-x_1 & + & 2x_2 & \\leq & 15 \\\\\n",
    " x_1 & + &  x_2 & \\leq & 12 \\\\\n",
    "5x_1 & + & 3x_2 & \\leq & 45\n",
    "\\end{array}\n",
    "$\n",
    "\n",
    "and $x_1 \\geq 0, x_2 \\geq 0.$"
   ]
  },
  {
   "cell_type": "markdown",
   "metadata": {
    "heading_collapsed": true
   },
   "source": [
    "## Using Software for Graphical Solutions"
   ]
  },
  {
   "cell_type": "markdown",
   "metadata": {
    "hidden": true
   },
   "source": [
    "We present two tools below, they are: \n",
    "\n",
    "* <a href = http://www.phpsimplex.com/en> PHPSimplex </a> is a virtual \"paper and pencil\" graphical solver.  \n",
    "* <a href = https://www.desmos.com> Desmos </a> is an interactive graphing tool that can be used to solve linear programs and much more."
   ]
  },
  {
   "cell_type": "markdown",
   "metadata": {
    "heading_collapsed": true,
    "hidden": true
   },
   "source": [
    "### PHPSimplex Example (video)"
   ]
  },
  {
   "cell_type": "markdown",
   "metadata": {
    "hidden": true
   },
   "source": [
    "<a href=\"http://www.phpsimplex.com/en\">PHPSimplex </a> is a site dedicated to learning linear programming.   We'll utilize their implementation of the graphical method. "
   ]
  },
  {
   "cell_type": "code",
   "execution_count": 2,
   "metadata": {
    "code_folding": [
     0
    ],
    "hidden": true
   },
   "outputs": [
    {
     "data": {
      "text/html": [
       "\n",
       "        <iframe\n",
       "            width=\"640\"\n",
       "            height=\"360\"\n",
       "            src=\"https://media.uwex.edu/content/ds/ds775_r19/ds775_lesson1-graphical-method-phpsimplex/index.html\"\n",
       "            frameborder=\"0\"\n",
       "            allowfullscreen\n",
       "        ></iframe>\n",
       "        "
      ],
      "text/plain": [
       "<IPython.lib.display.IFrame at 0x10a5b5d30>"
      ]
     },
     "execution_count": 2,
     "metadata": {},
     "output_type": "execute_result"
    }
   ],
   "source": [
    "# execute this cell for video\n",
    "from IPython.display import IFrame\n",
    "IFrame(\n",
    "    \"https://media.uwex.edu/content/ds/ds775_r19/ds775_lesson1-graphical-method-phpsimplex/index.html\",\n",
    "    width=640,\n",
    "    height=360)"
   ]
  },
  {
   "cell_type": "markdown",
   "metadata": {
    "heading_collapsed": true,
    "hidden": true
   },
   "source": [
    "### Desmos Example (video)"
   ]
  },
  {
   "cell_type": "markdown",
   "metadata": {
    "hidden": true
   },
   "source": [
    "<a href=\"https://www.desmos.com/\">Desmos</a> is a step up from \"paper and pencil\", but is still pretty hands-on.  It's a nice place to work with graphical solutions to LP problems where you still have a lot of control over the objective function and constraints.  "
   ]
  },
  {
   "cell_type": "code",
   "execution_count": 3,
   "metadata": {
    "code_folding": [
     0
    ],
    "hidden": true
   },
   "outputs": [
    {
     "data": {
      "text/html": [
       "\n",
       "        <iframe\n",
       "            width=\"640\"\n",
       "            height=\"360\"\n",
       "            src=\"https://media.uwex.edu/content/ds/ds775_r19/ds775_lesson1-graphical-example-desmos/index.html\"\n",
       "            frameborder=\"0\"\n",
       "            allowfullscreen\n",
       "        ></iframe>\n",
       "        "
      ],
      "text/plain": [
       "<IPython.lib.display.IFrame at 0x10a6a3da0>"
      ]
     },
     "execution_count": 3,
     "metadata": {},
     "output_type": "execute_result"
    }
   ],
   "source": [
    "# execute this cell for video\n",
    "from IPython.display import IFrame\n",
    "IFrame(\n",
    "    \"https://media.uwex.edu/content/ds/ds775_r19/ds775_lesson1-graphical-example-desmos/index.html\",\n",
    "    width=640,\n",
    "    height=360)"
   ]
  },
  {
   "cell_type": "markdown",
   "metadata": {
    "heading_collapsed": true,
    "hidden": true
   },
   "source": [
    "### <font color=\"blue\">Self Assessment:  Graphical Method #1 </font>"
   ]
  },
  {
   "cell_type": "markdown",
   "metadata": {
    "hidden": true
   },
   "source": [
    "**Textbook Problem 3.1-9.** The Primo Insurance Company is introducing two new product lines: special risk insurance and mortgages. The expected profit is \\\\$5 per unit on special risk insurance and \\\\$2 per unit on mortgages.  Management wishes to establish sales quotas for the new product lines to maximize total expected profit. The work requirements are as follows:\n",
    "\n",
    "<img src=\"images/screen-problem2.png\" width=\"440\" height=\"250\">\n",
    "\n",
    "(a) Formulate a linear programming model for this problem.\n",
    "\n",
    "(b) Use DESMOS (at www.desmos.com) to solve this model using the graphical method. Paste screen shots of your solution into your homework file.\n",
    "\n",
    "(c) Verify the exact value of your optimal solution from  (b)\n",
    "  by solving algebraically for the simultaneous solution of the\n",
    "  relevant two equations"
   ]
  },
  {
   "cell_type": "markdown",
   "metadata": {
    "heading_collapsed": true,
    "hidden": true
   },
   "source": [
    "### <font color=\"blue\">Self Assessment: Graphical Method #2 </font>"
   ]
  },
  {
   "cell_type": "markdown",
   "metadata": {
    "hidden": true
   },
   "source": [
    "**Textbook Problem 3.2-3.** This is your lucky day. You have just won a \\\\$20,000\n",
    "  prize. You are setting aside \\\\$8,000 for taxes and partying\n",
    "  expenses, but you have decided to invest the other \\\\$12,000. Upon\n",
    "  hearing this news, two different friends have offered you an\n",
    "  opportunity to become a partner in two different entrepreneurial\n",
    "  ventures, one planned by each friend. In both cases, this investment\n",
    "  would involve expending some of your time next summer as well as\n",
    "  putting up cash. Becoming a full partner in the first friend’s\n",
    "  venture would require an investment of \\\\$10,000 and 400 hours, and\n",
    "  your estimated profit (ignoring the value of your time) would be\n",
    "  \\\\$9,000. The corresponding figures for the second friend’s venture\n",
    "  are \\\\$8,000 and 500 hours, with an estimated profit to you of\n",
    "  \\\\$9,000. However, both friends are flexible and would allow you to\n",
    "  come in at any fraction of a full partnership you would like. If you\n",
    "  choose a fraction of a full partnership, all the above figures given\n",
    "  for a full partnership (money investment, time investment, and your\n",
    "  profit) would be multiplied by this same fraction.  Because you were\n",
    "  looking for an interesting summer job anyway (maximum of 600 hours),\n",
    "  you have decided to participate in one or both friends’ ventures in\n",
    "  whichever combination would maximize your total estimated\n",
    "  profit. You now need to solve the problem of finding the best\n",
    "  combination.\n",
    "  \n",
    "(a) Describe the analogy between this problem and\n",
    "  the Wyndor Glass Co. problem discussed in Sec. 3.1. Then construct\n",
    "  and fill in a table like Table 3.1 for this problem, identifying\n",
    "  both the activities and the resources.  \n",
    "\n",
    "(b) Formulate a linear\n",
    "  programming model for this problem.  \n",
    "\n",
    "(c) Use PHPSimplex (at www.phpsimplex.com/en) to solve this model by the graphical\n",
    "  method. Paste screen shots of your solution into your homework file.  What are the values of the decision variables at the optimal solution?  What is the total estimated profit?  "
   ]
  },
  {
   "cell_type": "markdown",
   "metadata": {
    "heading_collapsed": true,
    "hidden": true
   },
   "source": [
    "### <font color=\"blue\">Self Assessment: Graphical Method #3 </font>"
   ]
  },
  {
   "cell_type": "markdown",
   "metadata": {
    "hidden": true
   },
   "source": [
    "**Textbook Problem 3.2-4.** Use the graphical method to find all optimal soutions for the\n",
    "following model:  \n",
    "\n",
    "Maximize $Z = 500x_1 + 300x_2,$ \n",
    "\n",
    "subject to \n",
    "\n",
    "$\n",
    "\\begin{array}{rcrcr}\n",
    "15 x_1 & + &  5 x_2 & \\leq & 300 \\\\\n",
    "10 x_1 & + &   6 x_2 & \\leq & 240 \\\\\n",
    "8x_1 & + & 12x_2 & \\leq & 450\n",
    "\\end{array}\n",
    "$\n",
    "\n",
    "and $x_1 \\geq 0, x_2 \\geq 0.$"
   ]
  },
  {
   "cell_type": "markdown",
   "metadata": {
    "heading_collapsed": true
   },
   "source": [
    "## Graphical Widget for Exploring Wyndor Problem"
   ]
  },
  {
   "cell_type": "markdown",
   "metadata": {
    "hidden": true
   },
   "source": [
    "Here is the Wyndor model.  $Z$ is the profit in thousands of dollars.  $x_1$ and $x_2$ are the batches of doors and windows, respectively.  The constraints, in order, represent the production capacities of Plants 1, 2, and 3.\n",
    "\n",
    "Maximize $Z = 3 x_1 + 5 x_2$\n",
    "\n",
    "Subject to:\n",
    "\n",
    "$\n",
    "\\begin{array}{ccccc}\n",
    " x_1 &   &      & \\leq & 4 \\\\\n",
    "     &   & 2x_2 & \\leq & 12 \\\\\n",
    "3x_1 & + & 2x_2 & \\leq & 18\n",
    "\\end{array}\n",
    "$\n",
    "\n",
    "$x_1 \\geq 0$, $x_2 \\geq 0$\n",
    "\n",
    "Use the widget below to explore the Wyndor model. \n",
    "\n",
    "* Slide profScl (Profit Scale).  Do you see why the maximum value of profit occurs at a corner point?\n",
    "* Change the objective function coefficients, $c1$ and $c2$.  Can you get the location of maximum to change?  Can you get it be an entire edge of the feasible region (infinitely many solutions)?\n",
    "* $b1, b2, b3$ are the values of the right hand sides of the constraints.  How does changing those values effect the feasible region and the maximum profit?"
   ]
  },
  {
   "cell_type": "code",
   "execution_count": 10,
   "metadata": {
    "code_folding": [
     0
    ],
    "hidden": true
   },
   "outputs": [
    {
     "ename": "ModuleNotFoundError",
     "evalue": "No module named 'pyomo'",
     "output_type": "error",
     "traceback": [
      "\u001b[0;31m---------------------------------------------------------------------------\u001b[0m",
      "\u001b[0;31mModuleNotFoundError\u001b[0m                       Traceback (most recent call last)",
      "\u001b[0;32m<ipython-input-10-d50854308921>\u001b[0m in \u001b[0;36m<module>\u001b[0;34m\u001b[0m\n\u001b[1;32m      6\u001b[0m \u001b[0;32mfrom\u001b[0m \u001b[0mmatplotlib\u001b[0m\u001b[0;34m.\u001b[0m\u001b[0mpatches\u001b[0m \u001b[0;32mimport\u001b[0m \u001b[0mPathPatch\u001b[0m\u001b[0;34m\u001b[0m\u001b[0;34m\u001b[0m\u001b[0m\n\u001b[1;32m      7\u001b[0m \u001b[0;32mimport\u001b[0m \u001b[0mnumpy\u001b[0m \u001b[0;32mas\u001b[0m \u001b[0mnp\u001b[0m\u001b[0;34m\u001b[0m\u001b[0;34m\u001b[0m\u001b[0m\n\u001b[0;32m----> 8\u001b[0;31m \u001b[0;32mfrom\u001b[0m \u001b[0mpyomo\u001b[0m\u001b[0;34m.\u001b[0m\u001b[0menviron\u001b[0m \u001b[0;32mimport\u001b[0m \u001b[0;34m*\u001b[0m\u001b[0;34m\u001b[0m\u001b[0;34m\u001b[0m\u001b[0m\n\u001b[0m\u001b[1;32m      9\u001b[0m \u001b[0;34m\u001b[0m\u001b[0m\n\u001b[1;32m     10\u001b[0m \u001b[0;32mdef\u001b[0m \u001b[0mWyndorInteractiveGraph\u001b[0m\u001b[0;34m(\u001b[0m \u001b[0mcoefSlider\u001b[0m \u001b[0;34m=\u001b[0m \u001b[0;32mFalse\u001b[0m\u001b[0;34m,\u001b[0m \u001b[0mconstraintSlider\u001b[0m \u001b[0;34m=\u001b[0m \u001b[0;32mFalse\u001b[0m\u001b[0;34m)\u001b[0m\u001b[0;34m:\u001b[0m\u001b[0;34m\u001b[0m\u001b[0;34m\u001b[0m\u001b[0m\n",
      "\u001b[0;31mModuleNotFoundError\u001b[0m: No module named 'pyomo'"
     ]
    }
   ],
   "source": [
    "# Run this to see widget, it isn't important to understand the code\n",
    "%matplotlib notebook\n",
    "from ipywidgets import *\n",
    "from matplotlib import pyplot as plt\n",
    "from matplotlib.path import Path\n",
    "from matplotlib.patches import PathPatch\n",
    "import numpy as np\n",
    "from pyomo.environ import *\n",
    "\n",
    "def WyndorInteractiveGraph( coefSlider = False, constraintSlider = False):\n",
    "\n",
    "    # create model instance\n",
    "    model = ConcreteModel( name = \"Wyndor\" )\n",
    "\n",
    "    # decision variables\n",
    "    model.doors = Var( domain = NonNegativeReals )\n",
    "    model.windows = Var( domain = NonNegativeReals )\n",
    "\n",
    "    # objective function\n",
    "    model.c1 = Param(default=3,mutable=True)\n",
    "    model.c2 = Param(default=5,mutable=True)\n",
    "    model.profit = Objective(expr = model.c1 * model.doors + \n",
    "                             model.c2 * model.windows, sense = maximize )\n",
    "\n",
    "    # constraints\n",
    "    model.b1 = Param(default=4,mutable=True)\n",
    "    model.b2 = Param(default=12,mutable=True)\n",
    "    model.b3 = Param(default=18,mutable=True)\n",
    "    model.ct_plant1 = Constraint( expr = model.doors <= model.b1 )\n",
    "    model.ct_plant2 = Constraint( expr = 2*model.windows <= model.b2 )\n",
    "    model.ct_plant3 = Constraint( expr = 3*model.doors + 2*model.windows <= model.b3 )\n",
    "\n",
    "    # solver\n",
    "    solver = SolverFactory('glpk')\n",
    "\n",
    "    # use seaborn to change the default graphics to something nicer\n",
    "    # and set a nice color palette\n",
    "    import seaborn as sns\n",
    "    sns.set_palette('Set1')\n",
    "\n",
    "    # create the plot object\n",
    "    fig, ax = plt.subplots(figsize=(5,5))\n",
    "    d = np.linspace(0, 12)\n",
    "\n",
    "    # plant 1 capacity\n",
    "    plant1_line, = plt.plot(4 * np.ones_like(d), d, lw=3, label='Plant 1',color='b')\n",
    "    plant1_fill = plt.fill_betweenx(d, 0, 4, alpha=0.1,color='b')\n",
    "\n",
    "    # plant 2 capacity\n",
    "    plant2_line, = plt.plot(d, 12/2*np.ones_like(d), lw=3, label='Plant 2',color='r')\n",
    "    plant2_fill = plt.fill_between(d, 0, 6, alpha=0.1,color='r')\n",
    "\n",
    "    # plant 3 capacity\n",
    "    plant3_line, = plt.plot(d, (18-3*d)/2, lw=3, label='Plant 3',color='g')\n",
    "    plant3_fill = plt.fill_between(d, 0, (18-3*d)/2, alpha=0.1,color='g')\n",
    "\n",
    "    # add non-negativity constraints\n",
    "    plt.plot(np.zeros_like(d), d, lw=3, label='d non-negative',color='c')\n",
    "    plt.plot(d, np.zeros_like(d), lw=3, label='w non-negative',color='m')\n",
    "\n",
    "\n",
    "    # level curve for profit P\n",
    "    profit_line, = plt.plot(d, (36-3*d)/5, 'k--', lw = 3, label = 'profit')\n",
    "\n",
    "    # labels and stuff\n",
    "    plt.xlabel('doors', fontsize=16)\n",
    "    plt.ylabel('windows', fontsize=16)\n",
    "    plt.xlim(-0.05, 12)\n",
    "    plt.ylim(-0.05, 12)\n",
    "    plt.legend(loc = 'upper right',fontsize=12)\n",
    "\n",
    "    # additional elements\n",
    "    # pt, = plt.plot(20, 60, 'k.', markersize = 20 )\n",
    "    # txt = plt.text( 81, 67.5, '= 180', fontsize = 14, zorder=10)\n",
    "    txt = plt.text( 6.2, 6.4, 'Profit = 18', fontsize = 12)\n",
    "    # txt2 = plt.text( 7, 6.6, 'Max Prof. = 36',fontsize = 12)\n",
    "\n",
    "    plt.show()\n",
    "    \n",
    "    plim = (.5,1.5,.05)\n",
    "    c1lim = (0,8,.5)\n",
    "    c1fix = fixed(3)\n",
    "    c2lim = (0,8,.5)\n",
    "    c2fix = fixed(5)\n",
    "    b1lim = (1,7)\n",
    "    b1fix = fixed(4)\n",
    "    b2lim = (6,18)\n",
    "    b2fix = fixed(12)\n",
    "    b3lim = (12,24)\n",
    "    b3fix = fixed(18)\n",
    "\n",
    "    def update( profScl = .5, c1 = 3, c2 = 5, b1 = 4, b2 = 12, b3 = 18):\n",
    "        model.c1 = c1\n",
    "        model.c2 = c2\n",
    "        model.b1 = b1\n",
    "        model.b2 = b2\n",
    "        model.b3 = b3\n",
    "        solver.solve(model)\n",
    "        mxprofit = model.profit()\n",
    "        profit = mxprofit*profScl\n",
    " \n",
    "        profit_line.set_ydata((profit-c1*d)/(c2+.0001)) # hack to avoid div by 0\n",
    "        \n",
    "        ax.collections.clear()\n",
    "\n",
    "        plant1_line.set_xdata(b1 * np.ones_like(d))\n",
    "        plt.fill_betweenx(d, 0, b1, alpha=0.1,color='b')\n",
    "        \n",
    "        plant2_line.set_ydata(b2/2 * np.ones_like(d))\n",
    "        plt.fill_between(d, 0, b2/2, alpha=0.1,color='r')\n",
    "        \n",
    "        plant3_line.set_ydata((b3-3*d)/2)\n",
    "        plt.fill_between(d, 0, (b3-3*d)/2, alpha=0.1,color='g')    \n",
    "\n",
    "        txt.set_text('Profit = {:3.2f}'.format(profit) )\n",
    "        # txt2.set_text('Max Prof. = {:3.2f}'.format(mxprofit) )\n",
    "        fig.canvas.draw()\n",
    "    \n",
    "    if (coefSlider and constraintSlider):\n",
    "        interact(update,profScl=plim,c1=c1lim,c2=c2lim,b1=b1lim,b2=b2lim,b3=b3lim);\n",
    "    elif (coefSlider and not constraintSlider):\n",
    "        interact(update,profScl=plim,c1=c1lim,c2=c2lim,b1=b1fix,b2=b2fix,b3=b3fix);\n",
    "    elif (not coefSlider and constraintSlider):\n",
    "        interact(update,profScl=plim,c1=c1fix,c2=c2fix,b1=b1lim,b2=b2lim,b3=b3lim);\n",
    "    else: \n",
    "        interact(update,profScl=plim,c1=c1fix,c2=c2fix,b1=b1fix,b2=b2fix,b3=b3fix);\n",
    "                 \n",
    "WyndorInteractiveGraph(True,True)"
   ]
  },
  {
   "cell_type": "markdown",
   "metadata": {
    "heading_collapsed": true
   },
   "source": [
    "## Wyndor Minimize Cost Widget"
   ]
  },
  {
   "cell_type": "markdown",
   "metadata": {
    "hidden": true
   },
   "source": [
    "Let's modify the Wyndor problem to minimize the cost of producing doors and windows.\n",
    "\n",
    "$Z$ now represents the cost in thousands of dollars.  $x_1$ and $x_2$ are the batches of doors and windows, respectively.  If we include only the original constraints, then the minimum cost occurs when $x_1 = 0$ and $x_2 = 0$, that is we produce nothing.  However, the Wyndor Company also wants to produce a total of at least 3 batches of doors and/or windows to keep the plants running. \n",
    "\n",
    "The constraints below, in order, represent the production capacities of Plants 1, 2, and 3, as well as the minimum production constraint.  \n",
    "\n",
    "Minimize $Z = 2 x_1 + 3 x_2$\n",
    "\n",
    "Subject to:\n",
    "\n",
    "$\n",
    "\\begin{array}{ccccc}\n",
    " x_1 &   &      & \\leq & 4 \\\\\n",
    "     &   & 2x_2 & \\leq & 12 \\\\\n",
    "3x_1 & + & 2x_2 & \\leq & 18 \\\\\n",
    " x_1 & + &  x_2 & \\geq & 3 \n",
    "\\end{array}\n",
    "$\n",
    "\n",
    "Use the widget below to explore the Wyndor cost minimization model. \n",
    "\n",
    "* Where does the minimum cost occur?\n",
    "* If b4 is 0 so that the minimum number produced is zero, then what is the minimum cost?\n",
    "* What is the maximum cost?  Where does it occur?"
   ]
  },
  {
   "cell_type": "code",
   "execution_count": null,
   "metadata": {
    "code_folding": [
     0
    ],
    "collapsed": true,
    "hidden": true
   },
   "outputs": [],
   "source": [
    "# Run this to see widget, it isn't important to understand the code\n",
    "%matplotlib notebook\n",
    "from ipywidgets import *\n",
    "from matplotlib import pyplot as plt\n",
    "from matplotlib.path import Path\n",
    "from matplotlib.patches import PathPatch\n",
    "import numpy as np\n",
    "from pyomo.environ import *\n",
    "\n",
    "def WyndorInteractiveGraph2( coefSlider = False, constraintSlider = False):\n",
    "\n",
    "    # create model instance\n",
    "    model = ConcreteModel( name = \"Wyndor\" )\n",
    "\n",
    "    # decision variables\n",
    "    model.doors = Var( domain = NonNegativeReals )\n",
    "    model.windows = Var( domain = NonNegativeReals )\n",
    "\n",
    "    # objective function\n",
    "    model.c1 = Param(default=2,mutable=True)\n",
    "    model.c2 = Param(default=3,mutable=True)\n",
    "    model.cost = Objective(expr = model.c1 * model.doors + \n",
    "                             model.c2 * model.windows, sense = minimize)\n",
    "\n",
    "    # constraints\n",
    "    model.b1 = Param(default=4,mutable=True)\n",
    "    model.b2 = Param(default=12,mutable=True)\n",
    "    model.b3 = Param(default=18,mutable=True)\n",
    "    model.b4 = Param(default=3,mutable=True)\n",
    "    model.ct_plant1 = Constraint( expr = model.doors <= model.b1 )\n",
    "    model.ct_plant2 = Constraint( expr = 2*model.windows <= model.b2 )\n",
    "    model.ct_plant3 = Constraint( expr = 3*model.doors + 2*model.windows <= model.b3 )\n",
    "    model.ct_minprod = Constraint( expr = model.doors + model.windows >= model.b4 )\n",
    "\n",
    "    # solver\n",
    "    solver = SolverFactory('glpk')\n",
    "\n",
    "    # use seaborn to change the default graphics to something nicer\n",
    "    # and set a nice color palette\n",
    "    import seaborn as sns\n",
    "    sns.set_palette('Set1')\n",
    "\n",
    "    # create the plot object\n",
    "    fig, ax = plt.subplots(figsize=(5,5))\n",
    "    d = np.linspace(0, 12)\n",
    "\n",
    "    # plant 1 capacity\n",
    "    plant1_line, = plt.plot(4 * np.ones_like(d), d, lw=3, label='Plant 1',color='b')\n",
    "    plant1_fill = plt.fill_betweenx(d, 0, 4, alpha=0.1,color='b')\n",
    "\n",
    "    # plant 2 capacity\n",
    "    plant2_line, = plt.plot(d, 12/2*np.ones_like(d), lw=3, label='Plant 2',color='r')\n",
    "    plant2_fill = plt.fill_between(d, 0, 6, alpha=0.1,color='r')\n",
    "\n",
    "    # plant 3 capacity\n",
    "    plant3_line, = plt.plot(d, (18-3*d)/2, lw=3, label='Plant 3',color='g')\n",
    "    plant3_fill = plt.fill_between(d, 0, (18-3*d)/2, alpha=0.1,color='g')\n",
    "    \n",
    "    # min production\n",
    "    minprod_line, = plt.plot(d, 3 - d, lw=3, label = 'Min Prod', color='y')\n",
    "    minprod_fill = plt.fill_between(d, 3-d, 12, alpha=0.1, color='y')\n",
    "\n",
    "    # add non-negativity constraints\n",
    "    plt.plot(np.zeros_like(d), d, lw=3, label='d non-negative',color='c')\n",
    "    plt.plot(d, np.zeros_like(d), lw=3, label='w non-negative',color='m')\n",
    "\n",
    "\n",
    "    # level curve for profit P\n",
    "    cost_line, = plt.plot(d, (13.5-2*d)/3, 'k--', lw = 3, label = 'cost')\n",
    "\n",
    "    # labels and stuff\n",
    "    plt.xlabel('doors', fontsize=16)\n",
    "    plt.ylabel('windows', fontsize=16)\n",
    "    plt.xlim(-0.05, 12)\n",
    "    plt.ylim(-0.05, 12)\n",
    "    plt.legend(loc = 'upper right',fontsize=12)\n",
    "\n",
    "    # additional elements\n",
    "    # pt, = plt.plot(20, 60, 'k.', markersize = 20 )\n",
    "    # txt = plt.text( 81, 67.5, '= 180', fontsize = 14, zorder=10)\n",
    "    txt = plt.text( 6.2, 5.4, 'Cost = 999', fontsize = 12)\n",
    "    # txt2 = plt.text( 7, 6.6, 'Max Prof. = 36',fontsize = 12)\n",
    "\n",
    "    plt.show()\n",
    "    \n",
    "    clim = (.05,1.95,.05)\n",
    "    c1lim = (0,8,.5)\n",
    "    c1fix = fixed(2)\n",
    "    c2lim = (0,8,.5)\n",
    "    c2fix = fixed(3)\n",
    "    b1lim = (1,7)\n",
    "    b1fix = fixed(4)\n",
    "    b2lim = (6,18)\n",
    "    b2fix = fixed(12)\n",
    "    b3lim = (12,24)\n",
    "    b3fix = fixed(18)\n",
    "    b4lim = (0,4)\n",
    "    b4fix = fixed(3)\n",
    "\n",
    "    def update( costScl = 1.95, c1 = 2, c2 = 3, b1 = 4, b2 = 12, b3 = 18, b4 = 3):\n",
    "        model.c1 = c1\n",
    "        model.c2 = c2\n",
    "        model.b1 = b1\n",
    "        model.b2 = b2\n",
    "        model.b3 = b3\n",
    "        model.b4 = b4\n",
    "        solver.solve(model)\n",
    "        mncost = model.cost()\n",
    "        cost = mncost*costScl\n",
    " \n",
    "        cost_line.set_ydata((cost-c1*d)/(c2+.0001)) # hack to avoid div by 0\n",
    "        \n",
    "        ax.collections.clear()\n",
    "\n",
    "        plant1_line.set_xdata(b1 * np.ones_like(d))\n",
    "        plt.fill_betweenx(d, 0, b1, alpha=0.1,color='b')\n",
    "        \n",
    "        plant2_line.set_ydata(b2/2 * np.ones_like(d))\n",
    "        plt.fill_between(d, 0, b2/2, alpha=0.1,color='r')\n",
    "        \n",
    "        plant3_line.set_ydata((b3-3*d)/2)\n",
    "        plt.fill_between(d, 0, (b3-3*d)/2, alpha=0.1,color='g')  \n",
    "        \n",
    "        minprod_line.set_ydata(b4-d)\n",
    "        plt.fill_between(d,b4-d,12,alpha=0.1,color='y')\n",
    "\n",
    "        txt.set_text('Cost = {:3.2f}'.format(cost) )\n",
    "        fig.canvas.draw()\n",
    "    \n",
    "    if (coefSlider and constraintSlider):\n",
    "        interact(update,costScl=clim,c1=c1lim,c2=c2lim,b1=b1lim,b2=b2lim,b3=b3lim,b4=b4lim);\n",
    "    elif (coefSlider and not constraintSlider):\n",
    "        interact(update,costScl=clim,c1=c1lim,c2=c2lim,b1=b1fix,b2=b2fix,b3=b3fix,b4=b4fix);\n",
    "    elif (not coefSlider and constraintSlider):\n",
    "        interact(update,costScl=clim,c1=c1fix,c2=c2fix,b1=b1lim,b2=b2lim,b3=b3lim,b4=b4lim);\n",
    "    else: \n",
    "        interact(update,costScl=clim,c1=c1fix,c2=c2fix,b1=b1fix,b2=b2fix,b3=b3fix,b4=b4fix);\n",
    "                 \n",
    "WyndorInteractiveGraph2(True,True)"
   ]
  },
  {
   "cell_type": "markdown",
   "metadata": {
    "heading_collapsed": true,
    "hidden": true
   },
   "source": [
    "### <font color=\"blue\"> Self Assessment:  Graphical Method #4 "
   ]
  },
  {
   "cell_type": "markdown",
   "metadata": {
    "hidden": true
   },
   "source": [
    "**Textbook Problem 3.4-4.** Use the graphical method to solve the problem:  \n",
    "\n",
    "Minimize $Z = 15x_1 + 20x_2,$ \n",
    "\n",
    "subject to \n",
    "\n",
    "$\n",
    "\\begin{array}{rcrcr}\n",
    "x_1 & + & 2x_2 & \\geq & 10 \\\\\n",
    "2 x_1 & - &  3x_2 & \\leq & 6 \\\\\n",
    "x_1 & + & x_2 & \\geq & 6\n",
    "\\end{array}\n",
    "$\n",
    "\n",
    "and $x_1 \\geq 0, x_2 \\geq 0.$ "
   ]
  },
  {
   "cell_type": "markdown",
   "metadata": {
    "heading_collapsed": true
   },
   "source": [
    "## Unbounded Regions"
   ]
  },
  {
   "cell_type": "markdown",
   "metadata": {
    "hidden": true
   },
   "source": [
    "### Widget\n",
    "Play with the widget to see how a maximization (or minimization) linear program may or may not have a maximum value on an unbounded region.  It depends on the objective function.\n",
    "\n",
    "In the problem below there is no upper bound on $x$ so the feasible region is a strip that extends to infinity in the horizontal direction.\n",
    "\n",
    "Try and answer some questions on your own and then watch the video that follows if you want more guidance.\n",
    "\n",
    "* Without changing any other sliders play with zMult.  Is there a minimum value?  Is there a maximum value?\n",
    "* Now change the coefficients c1 and c2 ($ Z = c_1 x + c_2 y $).  Can you find an objective function that has maximum value but no minimum value?\n",
    "* Find coefficients c1 and c2 so that there are infinitely many solutions.\n"
   ]
  },
  {
   "cell_type": "code",
   "execution_count": 3,
   "metadata": {
    "code_folding": [
     0
    ],
    "hidden": true,
    "scrolled": true
   },
   "outputs": [
    {
     "data": {
      "application/javascript": [
       "/* Put everything inside the global mpl namespace */\n",
       "window.mpl = {};\n",
       "\n",
       "\n",
       "mpl.get_websocket_type = function() {\n",
       "    if (typeof(WebSocket) !== 'undefined') {\n",
       "        return WebSocket;\n",
       "    } else if (typeof(MozWebSocket) !== 'undefined') {\n",
       "        return MozWebSocket;\n",
       "    } else {\n",
       "        alert('Your browser does not have WebSocket support.' +\n",
       "              'Please try Chrome, Safari or Firefox ≥ 6. ' +\n",
       "              'Firefox 4 and 5 are also supported but you ' +\n",
       "              'have to enable WebSockets in about:config.');\n",
       "    };\n",
       "}\n",
       "\n",
       "mpl.figure = function(figure_id, websocket, ondownload, parent_element) {\n",
       "    this.id = figure_id;\n",
       "\n",
       "    this.ws = websocket;\n",
       "\n",
       "    this.supports_binary = (this.ws.binaryType != undefined);\n",
       "\n",
       "    if (!this.supports_binary) {\n",
       "        var warnings = document.getElementById(\"mpl-warnings\");\n",
       "        if (warnings) {\n",
       "            warnings.style.display = 'block';\n",
       "            warnings.textContent = (\n",
       "                \"This browser does not support binary websocket messages. \" +\n",
       "                    \"Performance may be slow.\");\n",
       "        }\n",
       "    }\n",
       "\n",
       "    this.imageObj = new Image();\n",
       "\n",
       "    this.context = undefined;\n",
       "    this.message = undefined;\n",
       "    this.canvas = undefined;\n",
       "    this.rubberband_canvas = undefined;\n",
       "    this.rubberband_context = undefined;\n",
       "    this.format_dropdown = undefined;\n",
       "\n",
       "    this.image_mode = 'full';\n",
       "\n",
       "    this.root = $('<div/>');\n",
       "    this._root_extra_style(this.root)\n",
       "    this.root.attr('style', 'display: inline-block');\n",
       "\n",
       "    $(parent_element).append(this.root);\n",
       "\n",
       "    this._init_header(this);\n",
       "    this._init_canvas(this);\n",
       "    this._init_toolbar(this);\n",
       "\n",
       "    var fig = this;\n",
       "\n",
       "    this.waiting = false;\n",
       "\n",
       "    this.ws.onopen =  function () {\n",
       "            fig.send_message(\"supports_binary\", {value: fig.supports_binary});\n",
       "            fig.send_message(\"send_image_mode\", {});\n",
       "            if (mpl.ratio != 1) {\n",
       "                fig.send_message(\"set_dpi_ratio\", {'dpi_ratio': mpl.ratio});\n",
       "            }\n",
       "            fig.send_message(\"refresh\", {});\n",
       "        }\n",
       "\n",
       "    this.imageObj.onload = function() {\n",
       "            if (fig.image_mode == 'full') {\n",
       "                // Full images could contain transparency (where diff images\n",
       "                // almost always do), so we need to clear the canvas so that\n",
       "                // there is no ghosting.\n",
       "                fig.context.clearRect(0, 0, fig.canvas.width, fig.canvas.height);\n",
       "            }\n",
       "            fig.context.drawImage(fig.imageObj, 0, 0);\n",
       "        };\n",
       "\n",
       "    this.imageObj.onunload = function() {\n",
       "        fig.ws.close();\n",
       "    }\n",
       "\n",
       "    this.ws.onmessage = this._make_on_message_function(this);\n",
       "\n",
       "    this.ondownload = ondownload;\n",
       "}\n",
       "\n",
       "mpl.figure.prototype._init_header = function() {\n",
       "    var titlebar = $(\n",
       "        '<div class=\"ui-dialog-titlebar ui-widget-header ui-corner-all ' +\n",
       "        'ui-helper-clearfix\"/>');\n",
       "    var titletext = $(\n",
       "        '<div class=\"ui-dialog-title\" style=\"width: 100%; ' +\n",
       "        'text-align: center; padding: 3px;\"/>');\n",
       "    titlebar.append(titletext)\n",
       "    this.root.append(titlebar);\n",
       "    this.header = titletext[0];\n",
       "}\n",
       "\n",
       "\n",
       "\n",
       "mpl.figure.prototype._canvas_extra_style = function(canvas_div) {\n",
       "\n",
       "}\n",
       "\n",
       "\n",
       "mpl.figure.prototype._root_extra_style = function(canvas_div) {\n",
       "\n",
       "}\n",
       "\n",
       "mpl.figure.prototype._init_canvas = function() {\n",
       "    var fig = this;\n",
       "\n",
       "    var canvas_div = $('<div/>');\n",
       "\n",
       "    canvas_div.attr('style', 'position: relative; clear: both; outline: 0');\n",
       "\n",
       "    function canvas_keyboard_event(event) {\n",
       "        return fig.key_event(event, event['data']);\n",
       "    }\n",
       "\n",
       "    canvas_div.keydown('key_press', canvas_keyboard_event);\n",
       "    canvas_div.keyup('key_release', canvas_keyboard_event);\n",
       "    this.canvas_div = canvas_div\n",
       "    this._canvas_extra_style(canvas_div)\n",
       "    this.root.append(canvas_div);\n",
       "\n",
       "    var canvas = $('<canvas/>');\n",
       "    canvas.addClass('mpl-canvas');\n",
       "    canvas.attr('style', \"left: 0; top: 0; z-index: 0; outline: 0\")\n",
       "\n",
       "    this.canvas = canvas[0];\n",
       "    this.context = canvas[0].getContext(\"2d\");\n",
       "\n",
       "    var backingStore = this.context.backingStorePixelRatio ||\n",
       "\tthis.context.webkitBackingStorePixelRatio ||\n",
       "\tthis.context.mozBackingStorePixelRatio ||\n",
       "\tthis.context.msBackingStorePixelRatio ||\n",
       "\tthis.context.oBackingStorePixelRatio ||\n",
       "\tthis.context.backingStorePixelRatio || 1;\n",
       "\n",
       "    mpl.ratio = (window.devicePixelRatio || 1) / backingStore;\n",
       "\n",
       "    var rubberband = $('<canvas/>');\n",
       "    rubberband.attr('style', \"position: absolute; left: 0; top: 0; z-index: 1;\")\n",
       "\n",
       "    var pass_mouse_events = true;\n",
       "\n",
       "    canvas_div.resizable({\n",
       "        start: function(event, ui) {\n",
       "            pass_mouse_events = false;\n",
       "        },\n",
       "        resize: function(event, ui) {\n",
       "            fig.request_resize(ui.size.width, ui.size.height);\n",
       "        },\n",
       "        stop: function(event, ui) {\n",
       "            pass_mouse_events = true;\n",
       "            fig.request_resize(ui.size.width, ui.size.height);\n",
       "        },\n",
       "    });\n",
       "\n",
       "    function mouse_event_fn(event) {\n",
       "        if (pass_mouse_events)\n",
       "            return fig.mouse_event(event, event['data']);\n",
       "    }\n",
       "\n",
       "    rubberband.mousedown('button_press', mouse_event_fn);\n",
       "    rubberband.mouseup('button_release', mouse_event_fn);\n",
       "    // Throttle sequential mouse events to 1 every 20ms.\n",
       "    rubberband.mousemove('motion_notify', mouse_event_fn);\n",
       "\n",
       "    rubberband.mouseenter('figure_enter', mouse_event_fn);\n",
       "    rubberband.mouseleave('figure_leave', mouse_event_fn);\n",
       "\n",
       "    canvas_div.on(\"wheel\", function (event) {\n",
       "        event = event.originalEvent;\n",
       "        event['data'] = 'scroll'\n",
       "        if (event.deltaY < 0) {\n",
       "            event.step = 1;\n",
       "        } else {\n",
       "            event.step = -1;\n",
       "        }\n",
       "        mouse_event_fn(event);\n",
       "    });\n",
       "\n",
       "    canvas_div.append(canvas);\n",
       "    canvas_div.append(rubberband);\n",
       "\n",
       "    this.rubberband = rubberband;\n",
       "    this.rubberband_canvas = rubberband[0];\n",
       "    this.rubberband_context = rubberband[0].getContext(\"2d\");\n",
       "    this.rubberband_context.strokeStyle = \"#000000\";\n",
       "\n",
       "    this._resize_canvas = function(width, height) {\n",
       "        // Keep the size of the canvas, canvas container, and rubber band\n",
       "        // canvas in synch.\n",
       "        canvas_div.css('width', width)\n",
       "        canvas_div.css('height', height)\n",
       "\n",
       "        canvas.attr('width', width * mpl.ratio);\n",
       "        canvas.attr('height', height * mpl.ratio);\n",
       "        canvas.attr('style', 'width: ' + width + 'px; height: ' + height + 'px;');\n",
       "\n",
       "        rubberband.attr('width', width);\n",
       "        rubberband.attr('height', height);\n",
       "    }\n",
       "\n",
       "    // Set the figure to an initial 600x600px, this will subsequently be updated\n",
       "    // upon first draw.\n",
       "    this._resize_canvas(600, 600);\n",
       "\n",
       "    // Disable right mouse context menu.\n",
       "    $(this.rubberband_canvas).bind(\"contextmenu\",function(e){\n",
       "        return false;\n",
       "    });\n",
       "\n",
       "    function set_focus () {\n",
       "        canvas.focus();\n",
       "        canvas_div.focus();\n",
       "    }\n",
       "\n",
       "    window.setTimeout(set_focus, 100);\n",
       "}\n",
       "\n",
       "mpl.figure.prototype._init_toolbar = function() {\n",
       "    var fig = this;\n",
       "\n",
       "    var nav_element = $('<div/>')\n",
       "    nav_element.attr('style', 'width: 100%');\n",
       "    this.root.append(nav_element);\n",
       "\n",
       "    // Define a callback function for later on.\n",
       "    function toolbar_event(event) {\n",
       "        return fig.toolbar_button_onclick(event['data']);\n",
       "    }\n",
       "    function toolbar_mouse_event(event) {\n",
       "        return fig.toolbar_button_onmouseover(event['data']);\n",
       "    }\n",
       "\n",
       "    for(var toolbar_ind in mpl.toolbar_items) {\n",
       "        var name = mpl.toolbar_items[toolbar_ind][0];\n",
       "        var tooltip = mpl.toolbar_items[toolbar_ind][1];\n",
       "        var image = mpl.toolbar_items[toolbar_ind][2];\n",
       "        var method_name = mpl.toolbar_items[toolbar_ind][3];\n",
       "\n",
       "        if (!name) {\n",
       "            // put a spacer in here.\n",
       "            continue;\n",
       "        }\n",
       "        var button = $('<button/>');\n",
       "        button.addClass('ui-button ui-widget ui-state-default ui-corner-all ' +\n",
       "                        'ui-button-icon-only');\n",
       "        button.attr('role', 'button');\n",
       "        button.attr('aria-disabled', 'false');\n",
       "        button.click(method_name, toolbar_event);\n",
       "        button.mouseover(tooltip, toolbar_mouse_event);\n",
       "\n",
       "        var icon_img = $('<span/>');\n",
       "        icon_img.addClass('ui-button-icon-primary ui-icon');\n",
       "        icon_img.addClass(image);\n",
       "        icon_img.addClass('ui-corner-all');\n",
       "\n",
       "        var tooltip_span = $('<span/>');\n",
       "        tooltip_span.addClass('ui-button-text');\n",
       "        tooltip_span.html(tooltip);\n",
       "\n",
       "        button.append(icon_img);\n",
       "        button.append(tooltip_span);\n",
       "\n",
       "        nav_element.append(button);\n",
       "    }\n",
       "\n",
       "    var fmt_picker_span = $('<span/>');\n",
       "\n",
       "    var fmt_picker = $('<select/>');\n",
       "    fmt_picker.addClass('mpl-toolbar-option ui-widget ui-widget-content');\n",
       "    fmt_picker_span.append(fmt_picker);\n",
       "    nav_element.append(fmt_picker_span);\n",
       "    this.format_dropdown = fmt_picker[0];\n",
       "\n",
       "    for (var ind in mpl.extensions) {\n",
       "        var fmt = mpl.extensions[ind];\n",
       "        var option = $(\n",
       "            '<option/>', {selected: fmt === mpl.default_extension}).html(fmt);\n",
       "        fmt_picker.append(option)\n",
       "    }\n",
       "\n",
       "    // Add hover states to the ui-buttons\n",
       "    $( \".ui-button\" ).hover(\n",
       "        function() { $(this).addClass(\"ui-state-hover\");},\n",
       "        function() { $(this).removeClass(\"ui-state-hover\");}\n",
       "    );\n",
       "\n",
       "    var status_bar = $('<span class=\"mpl-message\"/>');\n",
       "    nav_element.append(status_bar);\n",
       "    this.message = status_bar[0];\n",
       "}\n",
       "\n",
       "mpl.figure.prototype.request_resize = function(x_pixels, y_pixels) {\n",
       "    // Request matplotlib to resize the figure. Matplotlib will then trigger a resize in the client,\n",
       "    // which will in turn request a refresh of the image.\n",
       "    this.send_message('resize', {'width': x_pixels, 'height': y_pixels});\n",
       "}\n",
       "\n",
       "mpl.figure.prototype.send_message = function(type, properties) {\n",
       "    properties['type'] = type;\n",
       "    properties['figure_id'] = this.id;\n",
       "    this.ws.send(JSON.stringify(properties));\n",
       "}\n",
       "\n",
       "mpl.figure.prototype.send_draw_message = function() {\n",
       "    if (!this.waiting) {\n",
       "        this.waiting = true;\n",
       "        this.ws.send(JSON.stringify({type: \"draw\", figure_id: this.id}));\n",
       "    }\n",
       "}\n",
       "\n",
       "\n",
       "mpl.figure.prototype.handle_save = function(fig, msg) {\n",
       "    var format_dropdown = fig.format_dropdown;\n",
       "    var format = format_dropdown.options[format_dropdown.selectedIndex].value;\n",
       "    fig.ondownload(fig, format);\n",
       "}\n",
       "\n",
       "\n",
       "mpl.figure.prototype.handle_resize = function(fig, msg) {\n",
       "    var size = msg['size'];\n",
       "    if (size[0] != fig.canvas.width || size[1] != fig.canvas.height) {\n",
       "        fig._resize_canvas(size[0], size[1]);\n",
       "        fig.send_message(\"refresh\", {});\n",
       "    };\n",
       "}\n",
       "\n",
       "mpl.figure.prototype.handle_rubberband = function(fig, msg) {\n",
       "    var x0 = msg['x0'] / mpl.ratio;\n",
       "    var y0 = (fig.canvas.height - msg['y0']) / mpl.ratio;\n",
       "    var x1 = msg['x1'] / mpl.ratio;\n",
       "    var y1 = (fig.canvas.height - msg['y1']) / mpl.ratio;\n",
       "    x0 = Math.floor(x0) + 0.5;\n",
       "    y0 = Math.floor(y0) + 0.5;\n",
       "    x1 = Math.floor(x1) + 0.5;\n",
       "    y1 = Math.floor(y1) + 0.5;\n",
       "    var min_x = Math.min(x0, x1);\n",
       "    var min_y = Math.min(y0, y1);\n",
       "    var width = Math.abs(x1 - x0);\n",
       "    var height = Math.abs(y1 - y0);\n",
       "\n",
       "    fig.rubberband_context.clearRect(\n",
       "        0, 0, fig.canvas.width, fig.canvas.height);\n",
       "\n",
       "    fig.rubberband_context.strokeRect(min_x, min_y, width, height);\n",
       "}\n",
       "\n",
       "mpl.figure.prototype.handle_figure_label = function(fig, msg) {\n",
       "    // Updates the figure title.\n",
       "    fig.header.textContent = msg['label'];\n",
       "}\n",
       "\n",
       "mpl.figure.prototype.handle_cursor = function(fig, msg) {\n",
       "    var cursor = msg['cursor'];\n",
       "    switch(cursor)\n",
       "    {\n",
       "    case 0:\n",
       "        cursor = 'pointer';\n",
       "        break;\n",
       "    case 1:\n",
       "        cursor = 'default';\n",
       "        break;\n",
       "    case 2:\n",
       "        cursor = 'crosshair';\n",
       "        break;\n",
       "    case 3:\n",
       "        cursor = 'move';\n",
       "        break;\n",
       "    }\n",
       "    fig.rubberband_canvas.style.cursor = cursor;\n",
       "}\n",
       "\n",
       "mpl.figure.prototype.handle_message = function(fig, msg) {\n",
       "    fig.message.textContent = msg['message'];\n",
       "}\n",
       "\n",
       "mpl.figure.prototype.handle_draw = function(fig, msg) {\n",
       "    // Request the server to send over a new figure.\n",
       "    fig.send_draw_message();\n",
       "}\n",
       "\n",
       "mpl.figure.prototype.handle_image_mode = function(fig, msg) {\n",
       "    fig.image_mode = msg['mode'];\n",
       "}\n",
       "\n",
       "mpl.figure.prototype.updated_canvas_event = function() {\n",
       "    // Called whenever the canvas gets updated.\n",
       "    this.send_message(\"ack\", {});\n",
       "}\n",
       "\n",
       "// A function to construct a web socket function for onmessage handling.\n",
       "// Called in the figure constructor.\n",
       "mpl.figure.prototype._make_on_message_function = function(fig) {\n",
       "    return function socket_on_message(evt) {\n",
       "        if (evt.data instanceof Blob) {\n",
       "            /* FIXME: We get \"Resource interpreted as Image but\n",
       "             * transferred with MIME type text/plain:\" errors on\n",
       "             * Chrome.  But how to set the MIME type?  It doesn't seem\n",
       "             * to be part of the websocket stream */\n",
       "            evt.data.type = \"image/png\";\n",
       "\n",
       "            /* Free the memory for the previous frames */\n",
       "            if (fig.imageObj.src) {\n",
       "                (window.URL || window.webkitURL).revokeObjectURL(\n",
       "                    fig.imageObj.src);\n",
       "            }\n",
       "\n",
       "            fig.imageObj.src = (window.URL || window.webkitURL).createObjectURL(\n",
       "                evt.data);\n",
       "            fig.updated_canvas_event();\n",
       "            fig.waiting = false;\n",
       "            return;\n",
       "        }\n",
       "        else if (typeof evt.data === 'string' && evt.data.slice(0, 21) == \"data:image/png;base64\") {\n",
       "            fig.imageObj.src = evt.data;\n",
       "            fig.updated_canvas_event();\n",
       "            fig.waiting = false;\n",
       "            return;\n",
       "        }\n",
       "\n",
       "        var msg = JSON.parse(evt.data);\n",
       "        var msg_type = msg['type'];\n",
       "\n",
       "        // Call the  \"handle_{type}\" callback, which takes\n",
       "        // the figure and JSON message as its only arguments.\n",
       "        try {\n",
       "            var callback = fig[\"handle_\" + msg_type];\n",
       "        } catch (e) {\n",
       "            console.log(\"No handler for the '\" + msg_type + \"' message type: \", msg);\n",
       "            return;\n",
       "        }\n",
       "\n",
       "        if (callback) {\n",
       "            try {\n",
       "                // console.log(\"Handling '\" + msg_type + \"' message: \", msg);\n",
       "                callback(fig, msg);\n",
       "            } catch (e) {\n",
       "                console.log(\"Exception inside the 'handler_\" + msg_type + \"' callback:\", e, e.stack, msg);\n",
       "            }\n",
       "        }\n",
       "    };\n",
       "}\n",
       "\n",
       "// from http://stackoverflow.com/questions/1114465/getting-mouse-location-in-canvas\n",
       "mpl.findpos = function(e) {\n",
       "    //this section is from http://www.quirksmode.org/js/events_properties.html\n",
       "    var targ;\n",
       "    if (!e)\n",
       "        e = window.event;\n",
       "    if (e.target)\n",
       "        targ = e.target;\n",
       "    else if (e.srcElement)\n",
       "        targ = e.srcElement;\n",
       "    if (targ.nodeType == 3) // defeat Safari bug\n",
       "        targ = targ.parentNode;\n",
       "\n",
       "    // jQuery normalizes the pageX and pageY\n",
       "    // pageX,Y are the mouse positions relative to the document\n",
       "    // offset() returns the position of the element relative to the document\n",
       "    var x = e.pageX - $(targ).offset().left;\n",
       "    var y = e.pageY - $(targ).offset().top;\n",
       "\n",
       "    return {\"x\": x, \"y\": y};\n",
       "};\n",
       "\n",
       "/*\n",
       " * return a copy of an object with only non-object keys\n",
       " * we need this to avoid circular references\n",
       " * http://stackoverflow.com/a/24161582/3208463\n",
       " */\n",
       "function simpleKeys (original) {\n",
       "  return Object.keys(original).reduce(function (obj, key) {\n",
       "    if (typeof original[key] !== 'object')\n",
       "        obj[key] = original[key]\n",
       "    return obj;\n",
       "  }, {});\n",
       "}\n",
       "\n",
       "mpl.figure.prototype.mouse_event = function(event, name) {\n",
       "    var canvas_pos = mpl.findpos(event)\n",
       "\n",
       "    if (name === 'button_press')\n",
       "    {\n",
       "        this.canvas.focus();\n",
       "        this.canvas_div.focus();\n",
       "    }\n",
       "\n",
       "    var x = canvas_pos.x * mpl.ratio;\n",
       "    var y = canvas_pos.y * mpl.ratio;\n",
       "\n",
       "    this.send_message(name, {x: x, y: y, button: event.button,\n",
       "                             step: event.step,\n",
       "                             guiEvent: simpleKeys(event)});\n",
       "\n",
       "    /* This prevents the web browser from automatically changing to\n",
       "     * the text insertion cursor when the button is pressed.  We want\n",
       "     * to control all of the cursor setting manually through the\n",
       "     * 'cursor' event from matplotlib */\n",
       "    event.preventDefault();\n",
       "    return false;\n",
       "}\n",
       "\n",
       "mpl.figure.prototype._key_event_extra = function(event, name) {\n",
       "    // Handle any extra behaviour associated with a key event\n",
       "}\n",
       "\n",
       "mpl.figure.prototype.key_event = function(event, name) {\n",
       "\n",
       "    // Prevent repeat events\n",
       "    if (name == 'key_press')\n",
       "    {\n",
       "        if (event.which === this._key)\n",
       "            return;\n",
       "        else\n",
       "            this._key = event.which;\n",
       "    }\n",
       "    if (name == 'key_release')\n",
       "        this._key = null;\n",
       "\n",
       "    var value = '';\n",
       "    if (event.ctrlKey && event.which != 17)\n",
       "        value += \"ctrl+\";\n",
       "    if (event.altKey && event.which != 18)\n",
       "        value += \"alt+\";\n",
       "    if (event.shiftKey && event.which != 16)\n",
       "        value += \"shift+\";\n",
       "\n",
       "    value += 'k';\n",
       "    value += event.which.toString();\n",
       "\n",
       "    this._key_event_extra(event, name);\n",
       "\n",
       "    this.send_message(name, {key: value,\n",
       "                             guiEvent: simpleKeys(event)});\n",
       "    return false;\n",
       "}\n",
       "\n",
       "mpl.figure.prototype.toolbar_button_onclick = function(name) {\n",
       "    if (name == 'download') {\n",
       "        this.handle_save(this, null);\n",
       "    } else {\n",
       "        this.send_message(\"toolbar_button\", {name: name});\n",
       "    }\n",
       "};\n",
       "\n",
       "mpl.figure.prototype.toolbar_button_onmouseover = function(tooltip) {\n",
       "    this.message.textContent = tooltip;\n",
       "};\n",
       "mpl.toolbar_items = [[\"Home\", \"Reset original view\", \"fa fa-home icon-home\", \"home\"], [\"Back\", \"Back to  previous view\", \"fa fa-arrow-left icon-arrow-left\", \"back\"], [\"Forward\", \"Forward to next view\", \"fa fa-arrow-right icon-arrow-right\", \"forward\"], [\"\", \"\", \"\", \"\"], [\"Pan\", \"Pan axes with left mouse, zoom with right\", \"fa fa-arrows icon-move\", \"pan\"], [\"Zoom\", \"Zoom to rectangle\", \"fa fa-square-o icon-check-empty\", \"zoom\"], [\"\", \"\", \"\", \"\"], [\"Download\", \"Download plot\", \"fa fa-floppy-o icon-save\", \"download\"]];\n",
       "\n",
       "mpl.extensions = [\"eps\", \"jpeg\", \"pdf\", \"png\", \"ps\", \"raw\", \"svg\", \"tif\"];\n",
       "\n",
       "mpl.default_extension = \"png\";var comm_websocket_adapter = function(comm) {\n",
       "    // Create a \"websocket\"-like object which calls the given IPython comm\n",
       "    // object with the appropriate methods. Currently this is a non binary\n",
       "    // socket, so there is still some room for performance tuning.\n",
       "    var ws = {};\n",
       "\n",
       "    ws.close = function() {\n",
       "        comm.close()\n",
       "    };\n",
       "    ws.send = function(m) {\n",
       "        //console.log('sending', m);\n",
       "        comm.send(m);\n",
       "    };\n",
       "    // Register the callback with on_msg.\n",
       "    comm.on_msg(function(msg) {\n",
       "        //console.log('receiving', msg['content']['data'], msg);\n",
       "        // Pass the mpl event to the overriden (by mpl) onmessage function.\n",
       "        ws.onmessage(msg['content']['data'])\n",
       "    });\n",
       "    return ws;\n",
       "}\n",
       "\n",
       "mpl.mpl_figure_comm = function(comm, msg) {\n",
       "    // This is the function which gets called when the mpl process\n",
       "    // starts-up an IPython Comm through the \"matplotlib\" channel.\n",
       "\n",
       "    var id = msg.content.data.id;\n",
       "    // Get hold of the div created by the display call when the Comm\n",
       "    // socket was opened in Python.\n",
       "    var element = $(\"#\" + id);\n",
       "    var ws_proxy = comm_websocket_adapter(comm)\n",
       "\n",
       "    function ondownload(figure, format) {\n",
       "        window.open(figure.imageObj.src);\n",
       "    }\n",
       "\n",
       "    var fig = new mpl.figure(id, ws_proxy,\n",
       "                           ondownload,\n",
       "                           element.get(0));\n",
       "\n",
       "    // Call onopen now - mpl needs it, as it is assuming we've passed it a real\n",
       "    // web socket which is closed, not our websocket->open comm proxy.\n",
       "    ws_proxy.onopen();\n",
       "\n",
       "    fig.parent_element = element.get(0);\n",
       "    fig.cell_info = mpl.find_output_cell(\"<div id='\" + id + \"'></div>\");\n",
       "    if (!fig.cell_info) {\n",
       "        console.error(\"Failed to find cell for figure\", id, fig);\n",
       "        return;\n",
       "    }\n",
       "\n",
       "    var output_index = fig.cell_info[2]\n",
       "    var cell = fig.cell_info[0];\n",
       "\n",
       "};\n",
       "\n",
       "mpl.figure.prototype.handle_close = function(fig, msg) {\n",
       "    var width = fig.canvas.width/mpl.ratio\n",
       "    fig.root.unbind('remove')\n",
       "\n",
       "    // Update the output cell to use the data from the current canvas.\n",
       "    fig.push_to_output();\n",
       "    var dataURL = fig.canvas.toDataURL();\n",
       "    // Re-enable the keyboard manager in IPython - without this line, in FF,\n",
       "    // the notebook keyboard shortcuts fail.\n",
       "    IPython.keyboard_manager.enable()\n",
       "    $(fig.parent_element).html('<img src=\"' + dataURL + '\" width=\"' + width + '\">');\n",
       "    fig.close_ws(fig, msg);\n",
       "}\n",
       "\n",
       "mpl.figure.prototype.close_ws = function(fig, msg){\n",
       "    fig.send_message('closing', msg);\n",
       "    // fig.ws.close()\n",
       "}\n",
       "\n",
       "mpl.figure.prototype.push_to_output = function(remove_interactive) {\n",
       "    // Turn the data on the canvas into data in the output cell.\n",
       "    var width = this.canvas.width/mpl.ratio\n",
       "    var dataURL = this.canvas.toDataURL();\n",
       "    this.cell_info[1]['text/html'] = '<img src=\"' + dataURL + '\" width=\"' + width + '\">';\n",
       "}\n",
       "\n",
       "mpl.figure.prototype.updated_canvas_event = function() {\n",
       "    // Tell IPython that the notebook contents must change.\n",
       "    IPython.notebook.set_dirty(true);\n",
       "    this.send_message(\"ack\", {});\n",
       "    var fig = this;\n",
       "    // Wait a second, then push the new image to the DOM so\n",
       "    // that it is saved nicely (might be nice to debounce this).\n",
       "    setTimeout(function () { fig.push_to_output() }, 1000);\n",
       "}\n",
       "\n",
       "mpl.figure.prototype._init_toolbar = function() {\n",
       "    var fig = this;\n",
       "\n",
       "    var nav_element = $('<div/>')\n",
       "    nav_element.attr('style', 'width: 100%');\n",
       "    this.root.append(nav_element);\n",
       "\n",
       "    // Define a callback function for later on.\n",
       "    function toolbar_event(event) {\n",
       "        return fig.toolbar_button_onclick(event['data']);\n",
       "    }\n",
       "    function toolbar_mouse_event(event) {\n",
       "        return fig.toolbar_button_onmouseover(event['data']);\n",
       "    }\n",
       "\n",
       "    for(var toolbar_ind in mpl.toolbar_items){\n",
       "        var name = mpl.toolbar_items[toolbar_ind][0];\n",
       "        var tooltip = mpl.toolbar_items[toolbar_ind][1];\n",
       "        var image = mpl.toolbar_items[toolbar_ind][2];\n",
       "        var method_name = mpl.toolbar_items[toolbar_ind][3];\n",
       "\n",
       "        if (!name) { continue; };\n",
       "\n",
       "        var button = $('<button class=\"btn btn-default\" href=\"#\" title=\"' + name + '\"><i class=\"fa ' + image + ' fa-lg\"></i></button>');\n",
       "        button.click(method_name, toolbar_event);\n",
       "        button.mouseover(tooltip, toolbar_mouse_event);\n",
       "        nav_element.append(button);\n",
       "    }\n",
       "\n",
       "    // Add the status bar.\n",
       "    var status_bar = $('<span class=\"mpl-message\" style=\"text-align:right; float: right;\"/>');\n",
       "    nav_element.append(status_bar);\n",
       "    this.message = status_bar[0];\n",
       "\n",
       "    // Add the close button to the window.\n",
       "    var buttongrp = $('<div class=\"btn-group inline pull-right\"></div>');\n",
       "    var button = $('<button class=\"btn btn-mini btn-primary\" href=\"#\" title=\"Stop Interaction\"><i class=\"fa fa-power-off icon-remove icon-large\"></i></button>');\n",
       "    button.click(function (evt) { fig.handle_close(fig, {}); } );\n",
       "    button.mouseover('Stop Interaction', toolbar_mouse_event);\n",
       "    buttongrp.append(button);\n",
       "    var titlebar = this.root.find($('.ui-dialog-titlebar'));\n",
       "    titlebar.prepend(buttongrp);\n",
       "}\n",
       "\n",
       "mpl.figure.prototype._root_extra_style = function(el){\n",
       "    var fig = this\n",
       "    el.on(\"remove\", function(){\n",
       "\tfig.close_ws(fig, {});\n",
       "    });\n",
       "}\n",
       "\n",
       "mpl.figure.prototype._canvas_extra_style = function(el){\n",
       "    // this is important to make the div 'focusable\n",
       "    el.attr('tabindex', 0)\n",
       "    // reach out to IPython and tell the keyboard manager to turn it's self\n",
       "    // off when our div gets focus\n",
       "\n",
       "    // location in version 3\n",
       "    if (IPython.notebook.keyboard_manager) {\n",
       "        IPython.notebook.keyboard_manager.register_events(el);\n",
       "    }\n",
       "    else {\n",
       "        // location in version 2\n",
       "        IPython.keyboard_manager.register_events(el);\n",
       "    }\n",
       "\n",
       "}\n",
       "\n",
       "mpl.figure.prototype._key_event_extra = function(event, name) {\n",
       "    var manager = IPython.notebook.keyboard_manager;\n",
       "    if (!manager)\n",
       "        manager = IPython.keyboard_manager;\n",
       "\n",
       "    // Check for shift+enter\n",
       "    if (event.shiftKey && event.which == 13) {\n",
       "        this.canvas_div.blur();\n",
       "        event.shiftKey = false;\n",
       "        // Send a \"J\" for go to next cell\n",
       "        event.which = 74;\n",
       "        event.keyCode = 74;\n",
       "        manager.command_mode();\n",
       "        manager.handle_keydown(event);\n",
       "    }\n",
       "}\n",
       "\n",
       "mpl.figure.prototype.handle_save = function(fig, msg) {\n",
       "    fig.ondownload(fig, null);\n",
       "}\n",
       "\n",
       "\n",
       "mpl.find_output_cell = function(html_output) {\n",
       "    // Return the cell and output element which can be found *uniquely* in the notebook.\n",
       "    // Note - this is a bit hacky, but it is done because the \"notebook_saving.Notebook\"\n",
       "    // IPython event is triggered only after the cells have been serialised, which for\n",
       "    // our purposes (turning an active figure into a static one), is too late.\n",
       "    var cells = IPython.notebook.get_cells();\n",
       "    var ncells = cells.length;\n",
       "    for (var i=0; i<ncells; i++) {\n",
       "        var cell = cells[i];\n",
       "        if (cell.cell_type === 'code'){\n",
       "            for (var j=0; j<cell.output_area.outputs.length; j++) {\n",
       "                var data = cell.output_area.outputs[j];\n",
       "                if (data.data) {\n",
       "                    // IPython >= 3 moved mimebundle to data attribute of output\n",
       "                    data = data.data;\n",
       "                }\n",
       "                if (data['text/html'] == html_output) {\n",
       "                    return [cell, data, j];\n",
       "                }\n",
       "            }\n",
       "        }\n",
       "    }\n",
       "}\n",
       "\n",
       "// Register the function which deals with the matplotlib target/channel.\n",
       "// The kernel may be null if the page has been refreshed.\n",
       "if (IPython.notebook.kernel != null) {\n",
       "    IPython.notebook.kernel.comm_manager.register_target('matplotlib', mpl.mpl_figure_comm);\n",
       "}\n"
      ],
      "text/plain": [
       "<IPython.core.display.Javascript object>"
      ]
     },
     "metadata": {},
     "output_type": "display_data"
    },
    {
     "data": {
      "text/html": [
       "<img src=\"data:image/png;base64,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\" width=\"800\">"
      ],
      "text/plain": [
       "<IPython.core.display.HTML object>"
      ]
     },
     "metadata": {},
     "output_type": "display_data"
    },
    {
     "data": {
      "application/vnd.jupyter.widget-view+json": {
       "model_id": "695a14276f8147ad905785184765f7e2",
       "version_major": 2,
       "version_minor": 0
      },
      "text/plain": [
       "A Jupyter Widget"
      ]
     },
     "metadata": {},
     "output_type": "display_data"
    }
   ],
   "source": [
    "# Run this to see widget, it isn't important to understand the code\n",
    "%matplotlib notebook\n",
    "from ipywidgets import *\n",
    "from matplotlib import pyplot as plt\n",
    "from matplotlib.path import Path\n",
    "from matplotlib.patches import PathPatch\n",
    "import numpy as np\n",
    "def MaxMinInteractiveGraph( coefSlider = True, coefx = 2, coefy = 3 ):\n",
    "\n",
    "    # use -3 <= coefx <= 3, -3 <= coefy <= 3, there is no error catching\n",
    "    \n",
    "    import seaborn as sns\n",
    "    sns.set_palette('Set1')\n",
    "\n",
    "    # create the plot object\n",
    "    fig, ax = plt.subplots(figsize=(8,4))\n",
    "    x = np.linspace(-3, 24)\n",
    "\n",
    "    # constraint 1\n",
    "    ct1_line, = plt.plot(x, 0*x + 5, lw=3, label='y <= 5',color='b')\n",
    "    ct1_fill = plt.fill_between(x, 0, 5, alpha=0.1,color='b')\n",
    "\n",
    "    # constraint 2\n",
    "    ct2_line, = plt.plot(x, 2-x, lw=3, label='x + y >= 2',color='r')\n",
    "    ct2_fill = plt.fill_between(x, 2-x, 12, alpha=0.1,color='r')\n",
    "\n",
    "    # add non-negativity constraints\n",
    "    plt.plot(np.zeros_like(x), x, lw=3, label='x >= 0',color='c')\n",
    "    plt.fill_betweenx(x,0,24,alpha=0.1,color='c')\n",
    "    plt.plot(x, np.zeros_like(x), lw=3, label='y >= 0',color='m')\n",
    "    plt.fill_between(x,0,12,alpha=0.1,color='m')\n",
    "\n",
    "    # highlight the feasible region\n",
    "    path = Path([(2,0),(24,0),(24,5),(0,5),(0,2),(2,0)])\n",
    "    patch = PathPatch(path, label='feasible region', alpha=0.5)\n",
    "    ax.add_patch(patch)\n",
    "\n",
    "    # level curve for profit P\n",
    "    obj_line, = plt.plot(x, (20-coefx*x)/coefy, 'k--', lw = 3, label = 'Z')\n",
    "\n",
    "    # labels and stuff\n",
    "    plt.xlabel('x', fontsize=16)\n",
    "    plt.ylabel('y', fontsize=16)\n",
    "    plt.xlim(-3, 24)\n",
    "    plt.ylim(-3, 12)\n",
    "    plt.legend(loc = 'upper right',fontsize=12)\n",
    "\n",
    "    # additional elements\n",
    "    txt = plt.text( 6, 11, 'Z = 20', fontsize = 12)\n",
    "\n",
    "    plt.show()\n",
    "    \n",
    "    zlim = (-.4,1.5,.05)\n",
    "    c1lim = (-3,3,.5)\n",
    "    c1fix = fixed(coefx)\n",
    "    c2lim = (-3,3,.5)\n",
    "    c2fix = fixed(coefy)\n",
    "\n",
    "    def update( zMult = .5, c1 = coefx, c2 = coefy  ):\n",
    "        \n",
    "        xcps = np.array([2,24,24,0,0])\n",
    "        ycps = np.array([0, 0, 5,5,2])\n",
    "        zcps = c1*xcps + c2*ycps\n",
    "        zmin = np.min(zcps)\n",
    "        zmax = np.max(zcps)\n",
    "        z = ((1-zMult)*zmin + zMult*zmax)\n",
    " \n",
    "        if (c1 == 0 and c2 == 0):\n",
    "            obj_line.set_ydata(0*x -4)\n",
    "        else:\n",
    "            obj_line.set_ydata((z-c1*x)/(c2+.0001)) # hack to avoid div by 0\n",
    "            \n",
    "\n",
    "        #txt.set_text('Z = {:3.2f}'.format(z) )\n",
    "        if (c2 >= 0):\n",
    "            txt.set_text('Z = {:2.1f} x + '.format(c1) + '{:2.1f} y '.format(c2) + '= {:3.1f}'.format(z) )\n",
    "        else:\n",
    "            txt.set_text('Z = {:2.1f} x - '.format(c1) + '{:2.1f} y '.format(-c2) + '= {:3.1f}'.format(z) )\n",
    "        fig.canvas.draw()\n",
    "    \n",
    "    if (coefSlider):\n",
    "        interact(update,zMult=zlim,c1=c1lim,c2=c2lim);\n",
    "    else: \n",
    "        interact(update,zMult=zlim,c1=c1fix,c2=c2fix);\n",
    "                 \n",
    "MaxMinInteractiveGraph(True)"
   ]
  },
  {
   "cell_type": "markdown",
   "metadata": {
    "hidden": true
   },
   "source": [
    "### Video"
   ]
  },
  {
   "cell_type": "code",
   "execution_count": 3,
   "metadata": {
    "hidden": true
   },
   "outputs": [
    {
     "data": {
      "text/html": [
       "\n",
       "        <iframe\n",
       "            width=\"640\"\n",
       "            height=\"360\"\n",
       "            src=\"https://media.uwex.edu/content/ds/ds775_r19/ds775_lesson1-unbounded-feasible-region/index.html\"\n",
       "            frameborder=\"0\"\n",
       "            allowfullscreen\n",
       "        ></iframe>\n",
       "        "
      ],
      "text/plain": [
       "<IPython.lib.display.IFrame at 0x10a3c2208>"
      ]
     },
     "execution_count": 3,
     "metadata": {},
     "output_type": "execute_result"
    }
   ],
   "source": [
    "# execute this cell for video\n",
    "from IPython.display import IFrame\n",
    "IFrame(\n",
    "    \"https://media.uwex.edu/content/ds/ds775_r19/ds775_lesson1-unbounded-feasible-region/index.html\",\n",
    "    width=640,\n",
    "    height=360)"
   ]
  },
  {
   "cell_type": "code",
   "execution_count": 5,
   "metadata": {
    "code_folding": [
     0
    ],
    "hidden": true
   },
   "outputs": [
    {
     "data": {
      "image/jpeg": "[encoded data removed]",
      "text/html": [
       "\n",
       "        <iframe\n",
       "            width=\"640\"\n",
       "            height=\"480\"\n",
       "            src=\"https://www.youtube.com/embed/gWcy2fYwtfo\"\n",
       "            frameborder=\"0\"\n",
       "            allowfullscreen\n",
       "        ></iframe>\n",
       "        "
      ],
      "text/plain": [
       "<IPython.lib.display.YouTubeVideo at 0x1074c6a58>"
      ]
     },
     "execution_count": 5,
     "metadata": {},
     "output_type": "execute_result"
    }
   ],
   "source": [
    "# Hidden code to display YouTube video\n",
    "from IPython.display import YouTubeVideo\n",
    "YouTubeVideo('gWcy2fYwtfo', width=640, height=480)"
   ]
  },
  {
   "cell_type": "markdown",
   "metadata": {
    "heading_collapsed": true
   },
   "source": [
    "# Solving Linear Programs with Pyomo"
   ]
  },
  {
   "cell_type": "markdown",
   "metadata": {
    "hidden": true
   },
   "source": [
    "## What is Pyomo?"
   ]
  },
  {
   "cell_type": "markdown",
   "metadata": {
    "hidden": true
   },
   "source": [
    "* A Python framework for formulating optimization models\n",
    "* Similar to other mathematical programming languages such as AMPL and LINDO\n",
    "* Uses natural math syntax for models (we'll get into examples below)\n",
    "* Allows separation of the model from the data to formulate large models concisely\n",
    "* Works with many solvers including GLPK, CPLEX, Gurobi, etc.\n",
    "\n",
    "Pyomo is an example of a declarative programming language.  Instead of specifying exactly how to get the solution (imperative programming) we *declare* the problem mathematically.  Pyomo then translates the mathematical problem into a computer problem that can be solved by one of many avaialable solvers."
   ]
  },
  {
   "cell_type": "markdown",
   "metadata": {
    "hidden": true
   },
   "source": [
    "## Pyomo Resources"
   ]
  },
  {
   "cell_type": "markdown",
   "metadata": {
    "hidden": true
   },
   "source": [
    "Some resources to help you learn more about Pyomo:\n",
    "    \n",
    "* <a href=\"https://pyomo.readthedocs.io/en/stable/\"> The Official Pyomo Documentation. </a> \n",
    "* The <a href=\"https://www.osti.gov/servlets/purl/1376827\"> Pyomo Tutorial </a> is a large set of slides from the Pyomo developers at Sandia National Labs\n",
    "* Professor Jeffrey Cantor's <a href=\"https://jckantor.github.io/ND-Pyomo-Cookbook/\"> ND Pyomo Cookbook </a> gives many examples\n",
    "* <a href = \"https://github.com/Pyomo/PyomoGallery\"> The Pyomo Gallery </a> also has several examples."
   ]
  },
  {
   "cell_type": "markdown",
   "metadata": {
    "hidden": true
   },
   "source": [
    "## Installing Pyomo and GLPK"
   ]
  },
  {
   "cell_type": "markdown",
   "metadata": {
    "hidden": true
   },
   "source": [
    "If you're working in CoCalc these are already installed.  If you want to install them at home we suggest using the Anocanda distribution, then in a terminal window:\n",
    "\n",
    "install Pyomo with:\n",
    "```conda install -c conda-forge pyomo```\n",
    "\n",
    "install GLPK with:\n",
    "```conda install -c conda-forge glpk```"
   ]
  },
  {
   "cell_type": "markdown",
   "metadata": {
    "hidden": true
   },
   "source": [
    "## Two kinds of Pyomo models"
   ]
  },
  {
   "cell_type": "markdown",
   "metadata": {
    "hidden": true
   },
   "source": [
    "**Concrete Models:** data first, then model\n",
    "<img src=\"images/concrete_model.png\" width=\"220\">\n",
    "* 1-pass construction: numerical constants supplied as model is built\n",
    "* easier to script\n",
    "* harder to reuse model\n",
    "\n",
    "**Abstract Models:** model first, then data\n",
    "<img src=\"images/abstract_model.png\" width=\"320\">\n",
    "* 2-pass construction\n",
    "* Pass 1: Model is constructed with unknown numerical constants\n",
    "* Pass 2: Numerical constants added from separate file at runtime\n",
    "* harder to script\n",
    "* easier for large problems and model reuse\n",
    "\n",
    "We'll stick to concrete models in this course, but we'll take steps toward making them abstract by separating the data and the model "
   ]
  },
  {
   "cell_type": "markdown",
   "metadata": {
    "heading_collapsed": true,
    "hidden": true
   },
   "source": [
    "## Pyomo Example"
   ]
  },
  {
   "cell_type": "markdown",
   "metadata": {
    "hidden": true
   },
   "source": [
    "### Wyndor Glass Company"
   ]
  },
  {
   "cell_type": "markdown",
   "metadata": {
    "hidden": true
   },
   "source": [
    "Here is the Wyndor model as described in the textbook.  $Z$ is the profit in thousands of dollars.  $d$ and $w$ are the batches of doors and windows, respectively.  The constraints, in order, represent the production capacities of Plants 1, 2, and 3.\n",
    "\n",
    "Maximize $Z = 3 d + 5 w$\n",
    "\n",
    "Subject to:\n",
    "\n",
    "$\n",
    "\\begin{array}{ccccc}\n",
    " d &   &    & \\leq & 4 \\\\\n",
    "   &   & 2w & \\leq & 12 \\\\\n",
    "3d & + & 2w & \\leq & 18\n",
    "\\end{array}\n",
    "$\n",
    "\n",
    "$d \\geq 0$, $w \\geq 0$"
   ]
  },
  {
   "cell_type": "markdown",
   "metadata": {
    "hidden": true
   },
   "source": [
    "### First Pyomo Solution"
   ]
  },
  {
   "cell_type": "markdown",
   "metadata": {
    "heading_collapsed": true,
    "hidden": true
   },
   "source": [
    "#### Video: Code Walkthrough"
   ]
  },
  {
   "cell_type": "code",
   "execution_count": 4,
   "metadata": {
    "hidden": true
   },
   "outputs": [
    {
     "data": {
      "text/html": [
       "\n",
       "        <iframe\n",
       "            width=\"640\"\n",
       "            height=\"360\"\n",
       "            src=\"https://media.uwex.edu/content/ds/ds775_r19/ds775_lesson1-wyndor1/index.html\"\n",
       "            frameborder=\"0\"\n",
       "            allowfullscreen\n",
       "        ></iframe>\n",
       "        "
      ],
      "text/plain": [
       "<IPython.lib.display.IFrame at 0x10a3c2438>"
      ]
     },
     "execution_count": 4,
     "metadata": {},
     "output_type": "execute_result"
    }
   ],
   "source": [
    "# execute this cell for video\n",
    "from IPython.display import IFrame\n",
    "IFrame(\n",
    "    \"https://media.uwex.edu/content/ds/ds775_r19/ds775_lesson1-wyndor1/index.html\",\n",
    "    width=640,\n",
    "    height=360)"
   ]
  },
  {
   "cell_type": "markdown",
   "metadata": {
    "hidden": true
   },
   "source": [
    "#### Pyomo Solution"
   ]
  },
  {
   "cell_type": "code",
   "execution_count": 11,
   "metadata": {
    "code_folding": [
     0
    ],
    "hidden": true
   },
   "outputs": [
    {
     "ename": "ModuleNotFoundError",
     "evalue": "No module named 'pyomo'",
     "output_type": "error",
     "traceback": [
      "\u001b[0;31m---------------------------------------------------------------------------\u001b[0m",
      "\u001b[0;31mModuleNotFoundError\u001b[0m                       Traceback (most recent call last)",
      "\u001b[0;32m<ipython-input-11-8b03bf895232>\u001b[0m in \u001b[0;36m<module>\u001b[0;34m\u001b[0m\n\u001b[1;32m      1\u001b[0m \u001b[0;31m# Unfold to see the Pyomo solution with individual decision variables\u001b[0m\u001b[0;34m\u001b[0m\u001b[0;34m\u001b[0m\u001b[0;34m\u001b[0m\u001b[0m\n\u001b[0;32m----> 2\u001b[0;31m \u001b[0;32mfrom\u001b[0m \u001b[0mpyomo\u001b[0m\u001b[0;34m.\u001b[0m\u001b[0menviron\u001b[0m \u001b[0;32mimport\u001b[0m \u001b[0;34m*\u001b[0m\u001b[0;34m\u001b[0m\u001b[0;34m\u001b[0m\u001b[0m\n\u001b[0m\u001b[1;32m      3\u001b[0m \u001b[0;34m\u001b[0m\u001b[0m\n\u001b[1;32m      4\u001b[0m \u001b[0;31m# Concrete Model\u001b[0m\u001b[0;34m\u001b[0m\u001b[0;34m\u001b[0m\u001b[0;34m\u001b[0m\u001b[0m\n\u001b[1;32m      5\u001b[0m \u001b[0mmodel\u001b[0m \u001b[0;34m=\u001b[0m \u001b[0mConcreteModel\u001b[0m\u001b[0;34m(\u001b[0m\u001b[0mname\u001b[0m\u001b[0;34m=\u001b[0m\u001b[0;34m\"Wyndor\"\u001b[0m\u001b[0;34m)\u001b[0m\u001b[0;34m\u001b[0m\u001b[0;34m\u001b[0m\u001b[0m\n",
      "\u001b[0;31mModuleNotFoundError\u001b[0m: No module named 'pyomo'"
     ]
    }
   ],
   "source": [
    "# Unfold to see the Pyomo solution with individual decision variables\n",
    "from pyomo.environ import *\n",
    "\n",
    "# Concrete Model\n",
    "model = ConcreteModel(name=\"Wyndor\")\n",
    "\n",
    "# Decision Variables\n",
    "model.doors = Var(domain=Reals)\n",
    "model.windows = Var(domain=Reals)\n",
    "\n",
    "# Objective\n",
    "model.profit = Objective(expr=3.0 * model.doors + 5.0 * model.windows,\n",
    "                         sense=maximize)\n",
    "\n",
    "# Constraints\n",
    "model.Plant1 = Constraint(expr=model.doors <= 4)\n",
    "model.Plant2 = Constraint(expr=2.0 * model.windows <= 12)\n",
    "model.Plant3 = Constraint(expr=3.0 * model.doors + 2.0 * model.windows <= 18)\n",
    "model.dgeq0 = Constraint(expr=model.doors >= 0)\n",
    "model.wgeq0 = Constraint(expr=model.windows >= 0)\n",
    "\n",
    "# Solve\n",
    "solver = SolverFactory('glpk')\n",
    "solver.solve(model)\n",
    "\n",
    "#display(model)\n",
    "\n",
    "# display solution\n",
    "import babel.numbers as numbers  # needed to display as currency\n",
    "print(\"Maximum Profit = \",\n",
    "      numbers.format_currency(1000 * model.profit(), 'USD', locale='en_US'))\n",
    "print(\"Batches of Doors = {}\".format(model.doors()))\n",
    "print(\"Batches of Windows = {}\".format(model.windows()))"
   ]
  },
  {
   "cell_type": "markdown",
   "metadata": {
    "hidden": true
   },
   "source": [
    "#### <font color=\"blue\"> Self-Assessment: Specifying Bounds </font>"
   ]
  },
  {
   "cell_type": "markdown",
   "metadata": {
    "hidden": true
   },
   "source": [
    "Non-negativity constraints like $d\\geq0$ can be included in the variable declarations by changing ```domain=Reals``` to ```domain=NonNegativeReals```.  \n",
    "\n",
    "We can also include lower and upper bounds in the variable declarations like this: ```model.doors = Var(domain=Reals, bounds = (0,4) )```.  \n",
    "\n",
    "*Try this:*  Copy the Pyomo Wyndor solution into a new code block, add appropriate bounds to the doors and windows variables and delete all constraints except the constraint for Plant 3.  Run the code.  Do you get the same answer?"
   ]
  },
  {
   "cell_type": "code",
   "execution_count": null,
   "metadata": {
    "hidden": true
   },
   "outputs": [],
   "source": []
  },
  {
   "cell_type": "markdown",
   "metadata": {
    "hidden": true
   },
   "source": [
    "### Pyomo solution using a vector of decision variables"
   ]
  },
  {
   "cell_type": "markdown",
   "metadata": {
    "hidden": true
   },
   "source": [
    "#### Video: Code Walkthrough"
   ]
  },
  {
   "cell_type": "code",
   "execution_count": 12,
   "metadata": {
    "code_folding": [
     0
    ],
    "hidden": true
   },
   "outputs": [
    {
     "data": {
      "text/html": [
       "\n",
       "        <iframe\n",
       "            width=\"640\"\n",
       "            height=\"360\"\n",
       "            src=\"https://media.uwex.edu/content/ds/ds775_r19/ds775_lesson1-wyndor2/index.html\"\n",
       "            frameborder=\"0\"\n",
       "            allowfullscreen\n",
       "        ></iframe>\n",
       "        "
      ],
      "text/plain": [
       "<IPython.lib.display.IFrame at 0x10a3eaba8>"
      ]
     },
     "execution_count": 12,
     "metadata": {},
     "output_type": "execute_result"
    }
   ],
   "source": [
    "# execute this cell for video\n",
    "from IPython.display import IFrame\n",
    "IFrame(\n",
    "    \"https://media.uwex.edu/content/ds/ds775_r19/ds775_lesson1-wyndor2/index.html\",\n",
    "    width=640,\n",
    "    height=360)"
   ]
  },
  {
   "cell_type": "markdown",
   "metadata": {
    "hidden": true
   },
   "source": [
    "#### Pyomo Solutions"
   ]
  },
  {
   "cell_type": "code",
   "execution_count": 10,
   "metadata": {
    "code_folding": [],
    "hidden": true
   },
   "outputs": [
    {
     "name": "stdout",
     "output_type": "stream",
     "text": [
      "Profit =  $36,000.00\n",
      "Batches of Doors =  2.0\n",
      "Batches of Windows =  6.0\n"
     ]
    }
   ],
   "source": [
    "# unfold to see Pyomo solution with a vector of decision variables\n",
    "from pyomo.environ import *\n",
    "\n",
    "# Concrete Model\n",
    "model = ConcreteModel(name=\"Wyndor\")\n",
    "\n",
    "products = ['drs', 'wdw']\n",
    "\n",
    "bounds_dict = {'drs': (0, 4), 'wdw': (0, 6)}\n",
    "def bounds_rule(model, product):\n",
    "    return (bounds_dict[product])\n",
    "model.x = Var(products, domain=Reals, bounds=bounds_rule)\n",
    "\n",
    "# Objective\n",
    "model.profit = Objective(expr=3.0 * model.x['drs'] + 5.0 * model.x['wdw'],\n",
    "                         sense=maximize)\n",
    "\n",
    "# Constraints\n",
    "model.Constraint3 = Constraint(\n",
    "    expr=3.0 * model.x['drs'] + 2.0 * model.x['wdw'] <= 18)\n",
    "\n",
    "# Solve\n",
    "solver = SolverFactory('glpk')\n",
    "solver.solve(model)\n",
    "\n",
    "# display(model)\n",
    "\n",
    "# display solution\n",
    "import babel.numbers as numbers  # needed to display as currency\n",
    "print(\"Profit = \",\n",
    "      numbers.format_currency(1000 * model.profit(), 'USD', locale='en_US'))\n",
    "print(\"Batches of Doors = \", model.x['drs']())\n",
    "print(\"Batches of Windows = \", model.x['wdw']())"
   ]
  },
  {
   "cell_type": "markdown",
   "metadata": {
    "hidden": true
   },
   "source": [
    "### <font color=\"blue\"> Self-Assessment: Formulate and Solve #1 </font>"
   ]
  },
  {
   "cell_type": "markdown",
   "metadata": {
    "hidden": true
   },
   "source": [
    "**Textbook Problem 3.4-8 (a,c)** Ralph Edmund loves steaks and potatoes. Therefore, he has\n",
    "  decided to go on a steady diet of only these two foods (plus some\n",
    "  liquids and vitamin supplements) for all his meals. Ralph realizes\n",
    "  that this isn’t the healthiest diet, so he wants to make sure that\n",
    "  he eats the right quantities of the two foods to satisfy some key\n",
    "  nutritional requirements. He has obtained the nutritional and cost\n",
    "  information shown below.  Ralph wishes to\n",
    "  determine the number of daily servings (may be fractional) of steak\n",
    "  and potatoes that will meet these requirements at a minimum cost.\n",
    "  \n",
    "<img src=\"images/screen-problem3.png\" alt=\"Solution\" width=\"440\" height=\"250\">\n",
    "\n",
    "(a) Formulate a mathematical model (the linear program) for this problem.\n",
    "\n",
    "(c) Use Pyomo to solve the model.  Report the minimum cost as well as the number of servings each of steak and potatoes at the minimum."
   ]
  },
  {
   "cell_type": "markdown",
   "metadata": {
    "heading_collapsed": true
   },
   "source": [
    "# Start to Finish: Formulate a Model and Code it in Pyomo "
   ]
  },
  {
   "cell_type": "markdown",
   "metadata": {
    "hidden": true
   },
   "source": [
    "## Problem Description (video)"
   ]
  },
  {
   "cell_type": "markdown",
   "metadata": {
    "hidden": true
   },
   "source": [
    "This is problem 3.4-9, page 85, from the textbook.\n",
    "\n",
    "Web Mercantile sells many household products through an online catalog. The company needs substantial warehouse space for storing its goods. Plans now are being made for leasing warehouse storage space over the next 5 months. Just how much space will be required in each of these months is known. However, since these space requirements are quite different, it may be most economical to lease only the amount needed each month on a month-by-month basis. On the other hand, the additional cost for leasing space for additional months is much less than for the first month, so it may be less expensive to lease the maximum amount needed for the entire 5 months. Another option is the intermediate approach of changing the total amount of space leased (by adding a new lease and/or having an old lease expire) at least once but not every month.\n",
    "\n",
    "The space requirement and the leasing costs for the various leasing periods are as follows:"
   ]
  },
  {
   "cell_type": "code",
   "execution_count": 7,
   "metadata": {
    "code_folding": [
     0
    ],
    "hidden": true
   },
   "outputs": [
    {
     "data": {
      "text/html": [
       "\n",
       "        <iframe\n",
       "            width=\"640\"\n",
       "            height=\"360\"\n",
       "            src=\"https://media.uwex.edu/content/ds/ds775_r19/ds775_lesson1-ex-3-4-9-model-requirements/index.html\"\n",
       "            frameborder=\"0\"\n",
       "            allowfullscreen\n",
       "        ></iframe>\n",
       "        "
      ],
      "text/plain": [
       "<IPython.lib.display.IFrame at 0x10a6d0390>"
      ]
     },
     "execution_count": 7,
     "metadata": {},
     "output_type": "execute_result"
    }
   ],
   "source": [
    "# execute this cell for video\n",
    "from IPython.display import IFrame\n",
    "IFrame(\n",
    "    \"https://media.uwex.edu/content/ds/ds775_r19/ds775_lesson1-ex-3-4-9-model-requirements/index.html\",\n",
    "    width=640,\n",
    "    height=360)"
   ]
  },
  {
   "cell_type": "markdown",
   "metadata": {
    "hidden": true
   },
   "source": [
    "## Mathematical Formulation (video)"
   ]
  },
  {
   "cell_type": "code",
   "execution_count": 8,
   "metadata": {
    "code_folding": [],
    "hidden": true
   },
   "outputs": [
    {
     "data": {
      "text/html": [
       "\n",
       "        <iframe\n",
       "            width=\"640\"\n",
       "            height=\"360\"\n",
       "            src=\"https://media.uwex.edu/content/ds/ds775_r19/ds775_lesson1-ex-3-4-9-model-formulation/index.html\"\n",
       "            frameborder=\"0\"\n",
       "            allowfullscreen\n",
       "        ></iframe>\n",
       "        "
      ],
      "text/plain": [
       "<IPython.lib.display.IFrame at 0x10a6d0198>"
      ]
     },
     "execution_count": 8,
     "metadata": {},
     "output_type": "execute_result"
    }
   ],
   "source": [
    "# execute this cell for video\n",
    "from IPython.display import IFrame\n",
    "IFrame(\n",
    "    \"https://media.uwex.edu/content/ds/ds775_r19/ds775_lesson1-ex-3-4-9-model-formulation/index.html\",\n",
    "    width=640,\n",
    "    height=360)"
   ]
  },
  {
   "cell_type": "markdown",
   "metadata": {
    "hidden": true
   },
   "source": [
    "Using design variables $x_{ij}$ that represent the square feet leased for $j$ months beginning in the $i^{th}$ month, the model is\n",
    "\n",
    "Minimize $Z =65(x_{11} +x_{21} +x_{31} +x_{41} +x_{51})+100(x_{12} +x_{22} +x_{32} +x_{42}) +135(x_{13} + x_{23} + x_{33}) + 160(x_{14} + x_{24}) + 190x_{15}$\n",
    "\n",
    "Subject to:\n",
    "\n",
    "$\n",
    "\\begin{array}{lcl}\n",
    " x_{11} + x_{12} + x_{13} + x_{14} + x_{15} & \\geq & 30,000 \\\\\n",
    " x_{12} + x_{13} + x_{14} + x_{15} + x_{21} + x_{22} + x_{23} + x_{24} & \\geq & 20,000 \\\\\n",
    "x_{13} + x_{14} + x_{15} + x_{22} + x_{23} + x_{24} + x_{31} + x_{32} + x_{33} & \\geq & 40,000 \\\\\n",
    "x_{14} + x_{15} + x_{23} + x_{24} + x_{32} + x_{33} + x_{41} + x_{42} & \\geq & 10,000  \\\\\n",
    "x_{15} + x_{24} + x_{33} + x_{42} + x_{51} & \\geq & 50,000 \\\\\n",
    "\\end{array}\n",
    "$\n",
    "\n",
    "and all $x_{ij} \\geq 0$.\n",
    "\n",
    "To learn about typesetting mathematics like this go to the section below labeled \"Typesetting mathematical notation with LaTeX code.\""
   ]
  },
  {
   "cell_type": "markdown",
   "metadata": {
    "hidden": true
   },
   "source": [
    "## Solving the model in Pyomo"
   ]
  },
  {
   "cell_type": "code",
   "execution_count": 14,
   "metadata": {
    "code_folding": [
     0
    ],
    "hidden": true,
    "scrolled": true
   },
   "outputs": [
    {
     "ename": "ModuleNotFoundError",
     "evalue": "No module named 'pyomo'",
     "output_type": "error",
     "traceback": [
      "\u001b[0;31m---------------------------------------------------------------------------\u001b[0m",
      "\u001b[0;31mModuleNotFoundError\u001b[0m                       Traceback (most recent call last)",
      "\u001b[0;32m<ipython-input-14-bddbe4b7c1d6>\u001b[0m in \u001b[0;36m<module>\u001b[0;34m\u001b[0m\n\u001b[1;32m      1\u001b[0m \u001b[0;31m# unfold to see Pyomo solution with a vector of decision variables\u001b[0m\u001b[0;34m\u001b[0m\u001b[0;34m\u001b[0m\u001b[0;34m\u001b[0m\u001b[0m\n\u001b[1;32m      2\u001b[0m \u001b[0;34m\u001b[0m\u001b[0m\n\u001b[0;32m----> 3\u001b[0;31m \u001b[0;32mfrom\u001b[0m \u001b[0mpyomo\u001b[0m\u001b[0;34m.\u001b[0m\u001b[0menviron\u001b[0m \u001b[0;32mimport\u001b[0m \u001b[0;34m*\u001b[0m\u001b[0;34m\u001b[0m\u001b[0;34m\u001b[0m\u001b[0m\n\u001b[0m\u001b[1;32m      4\u001b[0m \u001b[0;34m\u001b[0m\u001b[0m\n\u001b[1;32m      5\u001b[0m \u001b[0;31m# Concret Model\u001b[0m\u001b[0;34m\u001b[0m\u001b[0;34m\u001b[0m\u001b[0;34m\u001b[0m\u001b[0m\n",
      "\u001b[0;31mModuleNotFoundError\u001b[0m: No module named 'pyomo'"
     ]
    }
   ],
   "source": [
    "# unfold to see Pyomo solution with a vector of decision variables\n",
    "\n",
    "from pyomo.environ import *\n",
    "\n",
    "# Concret Model\n",
    "model = ConcreteModel(name = \"WebMerc\")\n",
    "\n",
    "# Decision Variables\n",
    "model.x = Var( ['x11','x12','x13','x14','x15','x21','x22','x23','x24',\n",
    "                'x31','x32','x33','x41','x42','x51'], \n",
    "              domain = NonNegativeReals )\n",
    "\n",
    "# Objective \n",
    "model.obj = Objective( expr = 65 * (model.x['x11'] + model.x['x21'] + model.x['x31'] + \n",
    "                                   model.x['x41'] + model.x['x51']) + \n",
    "                      100 * (model.x['x12'] + model.x['x22'] + model.x['x32'] + \n",
    "                            model.x['x42']) + \n",
    "                      135 * (model.x['x13'] + model.x['x23'] + model.x['x33']) + \n",
    "                      160 * (model.x['x14'] + model.x['x24']) + \n",
    "                      190 * model.x['x15'], sense = minimize)\n",
    "\n",
    "# Constraints\n",
    "model.Constraint1 = Constraint( expr = model.x['x11'] + model.x['x12'] + model.x['x13'] +\n",
    "                               model.x['x14'] + model.x['x15'] >= 30000 )\n",
    "model.Constraint2 = Constraint( expr = model.x['x12'] + model.x['x13'] + model.x['x14'] +\n",
    "                               model.x['x15'] + model.x['x21'] + model.x['x22'] + \n",
    "                               model.x['x23'] + model.x['x24'] >= 20000 )\n",
    "model.Constraint3 = Constraint( expr = model.x['x13'] + model.x['x14'] + model.x['x15'] +\n",
    "                               model.x['x22'] + model.x['x23'] + model.x['x24'] +\n",
    "                               model.x['x31'] + model.x['x32'] + model.x['x33'] >= 40000 )\n",
    "model.Constraint4 = Constraint( expr = model.x['x14'] + model.x['x15'] + model.x['x23'] + \n",
    "                               model.x['x24'] + model.x['x32'] + model.x['x33'] + \n",
    "                               model.x['x41'] + model.x['x42'] >= 10000 )\n",
    "model.Constraint5 = Constraint( expr = model.x['x15'] + model.x['x24'] + model.x['x33'] + \n",
    "                               model.x['x42'] + model.x['x51'] >= 50000 )\n",
    "\n",
    "# Solve\n",
    "solver = SolverFactory('glpk')\n",
    "solver.solve(model)\n",
    "\n",
    "# display(model)\n",
    "\n",
    "\n",
    "# print a shorter summary of relevant results\n",
    "import babel.numbers as numbers   # needed to display as currency\n",
    "print(\"Total Cost = \", numbers.format_currency(model.obj(),'USD', locale='en_US'))\n",
    "print(\"Lease \", '%.0f' % model.x['x15'](), \"sq. ft. in month 1 for 5 months\")\n",
    "print(\"Lease\", '%.0f' % model.x['x31'](), \"sq. tf. in month 3 for 1 month\")\n",
    "print(\"Lease\", '%.0f' % model.x['x51'](), \"sq. ft. in month 5 for 1 month\")\n",
    "\n"
   ]
  },
  {
   "cell_type": "markdown",
   "metadata": {
    "hidden": true
   },
   "source": [
    "## Typesetting mathematical notation with LaTeX code (video)"
   ]
  },
  {
   "cell_type": "code",
   "execution_count": 9,
   "metadata": {
    "hidden": true
   },
   "outputs": [
    {
     "data": {
      "text/html": [
       "\n",
       "        <iframe\n",
       "            width=\"640\"\n",
       "            height=\"360\"\n",
       "            src=\"https://media.uwex.edu/content/ds/ds775_r19/ds775_lesson1-latex-demo/index.html\"\n",
       "            frameborder=\"0\"\n",
       "            allowfullscreen\n",
       "        ></iframe>\n",
       "        "
      ],
      "text/plain": [
       "<IPython.lib.display.IFrame at 0x10a6ee0f0>"
      ]
     },
     "execution_count": 9,
     "metadata": {},
     "output_type": "execute_result"
    }
   ],
   "source": [
    "# execute this cell for video\n",
    "from IPython.display import IFrame\n",
    "IFrame(\n",
    "    \"https://media.uwex.edu/content/ds/ds775_r19/ds775_lesson1-latex-demo/index.html\",\n",
    "    width=640,\n",
    "    height=360)"
   ]
  },
  {
   "cell_type": "markdown",
   "metadata": {
    "hidden": true
   },
   "source": [
    "### <font color=\"blue\"> Self-Assessment: Formulate and Solve #2 </font>"
   ]
  },
  {
   "cell_type": "markdown",
   "metadata": {
    "hidden": true
   },
   "source": [
    "**Textbook Problem 3.4-10** Larry Edison is the director of the Computer Center for Buckly\n",
    "College. He now needs to schedule the staffing of the center. It is\n",
    "open from 8 A.M. until midnight. Larry has monitored the usage of the\n",
    "center at various times of the day, and determined that the following\n",
    "number of computer consultants are required: \n",
    "\n",
    "<img src=\"images/screen-problem3_4-10.png\" alt=\"Solution\" width=\"440\" height=\"250\">\n",
    "\n",
    "Two types of computer consultants can be hired: full-time and\n",
    "part-time. The full-time consultants work for 8 consecutive hours in\n",
    "any of the following shifts: morning (8 A.M.–4 P.M.), afternoon\n",
    "(noon–8 P.M.), and evening (4 P.M.–midnight). Full-time consultants\n",
    "are paid \\\\$40 per hour.  Part-time consultants can be hired to work\n",
    "any of the four shifts listed in the above table. Part-time\n",
    "consultants are paid \\\\$30 per hour.  An additional requirement is that\n",
    "during every time period, there must be at least 2 full-time\n",
    "consultants on duty for every part-time consultant on duty.  Larry\n",
    "would like to determine how many full-time and how many part-time\n",
    "workers should work each shift to meet the above requirements at the\n",
    "minimum possible cost.\n",
    "\n",
    "(a) Formulate a linear programming model for this problem. (Hint: you could have 7 design variables - 3 for the number of full-time workers on each shift and 4 for the number of part-time workers on each shift.)\n",
    "\n",
    "(b) Solve this model using Pyomo.  You may\n",
    "  find fractional numbers of consultants per shift so round the\n",
    "  answers to get an approximate solution.  Report the total cost with\n",
    "  both fractional and rounded numbers of consultants.\n",
    "  \n",
    "(c) (not in book) Using Pyomo in Python, require the decision variables to be integers (specify **domain=NonNegativeIntegers** rather than **NonNegativeReals** for the decision variables), and compute the solution.  *How does it compare to the solution in (b)?* This is now an integer programming problem and is not solved by the simplex method.  We'll learn more about integer programming soon.  Be aware that integer programming problems are generally much more computationally intense than those using real valued variables."
   ]
  },
  {
   "cell_type": "markdown",
   "metadata": {
    "hidden": true
   },
   "source": [
    "### <font color=\"blue\"> Self-Assessment: Formulate and Solve #3 </font>"
   ]
  },
  {
   "cell_type": "markdown",
   "metadata": {
    "hidden": true
   },
   "source": [
    "**Textbook Problem 3.5-6 (a,e).** Maureen Laird is the chief financial officer for the Alva\n",
    "  Electric Co., a major public utility in the midwest. The company has\n",
    "  scheduled the construction of new hydroelectric plants 5, 10, and 20\n",
    "  years from now to meet the needs of the growing population in the\n",
    "  region served by the company. To cover at least the construction\n",
    "  costs, Maureen needs to invest some of the company’s money now to\n",
    "  meet these future cash-flow needs. Maureen may purchase only three\n",
    "  kinds of financial assets, each of which costs \\$1 million per\n",
    "  unit. Fractional units may be purchased. The assets produce income\n",
    "  5, 10, and 20 years from now, and that income is needed to cover at\n",
    "  least minimum cash-flow requirements in those years. (Any excess\n",
    "  income above the minimum requirement for each time period will be\n",
    "  used to increase dividend payments to shareholders rather than\n",
    "  saving it to help meet the minimum cash-flow requirement in the\n",
    "  next time period.) The following table shows both the amount of\n",
    "  income generated by each unit of each asset and the minimum amount\n",
    "  of income needed for each of the future time periods when a new\n",
    "  hydroelectric plant will be constructed. \n",
    "  \n",
    "<img src=\"images/screen-problem7.png\" width=\"440\" height=\"250\">\n",
    "\n",
    "Maureen wishes to determine the mix of investments in these assets\n",
    "that will cover the cash-flow requirements while minimizing the total\n",
    "amount invested.\n",
    "\n",
    "(a) Formulate a linear programming model for this problem.\n",
    "  \n",
    "(e) Use Pyomo to solve the model."
   ]
  },
  {
   "cell_type": "markdown",
   "metadata": {
    "heading_collapsed": true
   },
   "source": [
    "# Sausages Blending Problem "
   ]
  },
  {
   "cell_type": "markdown",
   "metadata": {
    "hidden": true
   },
   "source": [
    "Here is an extra example, with no videos, of a blending problem.  We'll revisit this example in the next lesson.\n",
    "\n",
    "This example adapted from here: http://benalexkeen.com/linear-programming-with-python-and-pulp-part-4/.  "
   ]
  },
  {
   "cell_type": "markdown",
   "metadata": {
    "heading_collapsed": true,
    "hidden": true
   },
   "source": [
    "## Problem Description"
   ]
  },
  {
   "cell_type": "markdown",
   "metadata": {
    "hidden": true
   },
   "source": [
    "We're going to make sausages by blending pork, wheat, and starch.  Our objective is to minimize the cost of making the sausages.  The table below shows the ingredients available, the cost, and the amount of each ingredient available from our supplier:\n",
    "\n",
    "Ingredient | Cost ($/kg) | Amount (kg)\n",
    "-----------|------|--------------\n",
    "Pork       | 4.32 | 7\n",
    "Wheat      | 2.46 | 20.0\n",
    "Starch     | 1.86 | 17\n",
    "\n",
    "Additionally, we have 23 kg of pork on hand that we must use in the sausages.\n",
    "\n",
    "We want to make 2 types of sausage:\n",
    "* Economy ( > 40% pork)\n",
    "* Premium ( > 60% pork)\n",
    "\n",
    "Each sausage is 50 grams (0.05 kg).  \n",
    "\n",
    "According to government regulations, the most starch we can use in our sausages is 25% by weight.\n",
    "\n",
    "We have a demand for 350 economy sausages and 500 premium sausages."
   ]
  },
  {
   "cell_type": "markdown",
   "metadata": {
    "heading_collapsed": true,
    "hidden": true
   },
   "source": [
    "## The linear program"
   ]
  },
  {
   "cell_type": "markdown",
   "metadata": {
    "hidden": true
   },
   "source": [
    "The decision variables are the kg of each ingredient to use:\n",
    "\n",
    "Variable | Description\n",
    "--- | ---\n",
    "$p_e$ | kg pork in the economy sausages  \n",
    "$w_e$ | kg wheat in the economy sausages  \n",
    "$s_e$ | kg starch in the economy sausages  \n",
    "$p_p$ | kg pork in the premium sausages  \n",
    "$w_p$ | kg wheat in the premium sausages  \n",
    "$s_p$ | kg starch in the premium sausages\n",
    "\n",
    "We want to minimize the cost:\n",
    "$$ \\mbox{Cost} = 4.32 ( p_e + p_p) + 2.46( w_e + w_p) + 1.86 (s_e + s_p) $$\n",
    "\n",
    "Subject to the following constraints:\n",
    "\n",
    "<p style=\"padding-right: 120px;\"> Constraint</p> | Description\n",
    "---------------------------------| ---\n",
    "$p_e + w_e + s_e = 350 \\times 0.05$ | total kg of economy sausages\n",
    "$p_p + w_p + s_p = 500 \\times 0.05$ | total kg of premium sausages\n",
    "$p_e \\geq 0.4 (p_e + w_e + s_e)$ | ecomony sausage must be at least 40% pork\n",
    "$p_p \\geq 0.6 (p_p + w_p + s_p)$ | premium sausage must be at least 60% pork\n",
    "$s_e \\leq 0.25 (p_e + w_e + s_e)$ | no more than 25% starch\n",
    "$s_p \\leq 0.25 (p_p + w_p + s_p)$ | no more than 25% starch\n",
    "$p_e + p_p \\leq 30$ | 30 kg of pork available\n",
    "$w_e + w_p \\leq 20$ | 20 kg of wheat available\n",
    "$s_e + s_p \\leq 17$ | 17 kg of starch avaialble\n",
    "$p_e + p_p \\geq 23$ | must use the 23 kg of pork we already purchased"
   ]
  },
  {
   "cell_type": "markdown",
   "metadata": {
    "heading_collapsed": true,
    "hidden": true
   },
   "source": [
    "## Pyomo Solution"
   ]
  },
  {
   "cell_type": "code",
   "execution_count": 3,
   "metadata": {
    "hidden": true
   },
   "outputs": [
    {
     "name": "stdout",
     "output_type": "stream",
     "text": [
      "Minimum Cost =  $140.96\n",
      "Kilograms of each ingredient in each type of sausage:\n"
     ]
    },
    {
     "data": {
      "text/html": [
       "<div>\n",
       "<style scoped>\n",
       "    .dataframe tbody tr th:only-of-type {\n",
       "        vertical-align: middle;\n",
       "    }\n",
       "\n",
       "    .dataframe tbody tr th {\n",
       "        vertical-align: top;\n",
       "    }\n",
       "\n",
       "    .dataframe thead th {\n",
       "        text-align: right;\n",
       "    }\n",
       "</style>\n",
       "<table border=\"1\" class=\"dataframe\">\n",
       "  <thead>\n",
       "    <tr style=\"text-align: right;\">\n",
       "      <th></th>\n",
       "      <th>Economy</th>\n",
       "      <th>Premium</th>\n",
       "    </tr>\n",
       "  </thead>\n",
       "  <tbody>\n",
       "    <tr>\n",
       "      <th>Pork</th>\n",
       "      <td>8.000</td>\n",
       "      <td>15.00</td>\n",
       "    </tr>\n",
       "    <tr>\n",
       "      <th>Wheat</th>\n",
       "      <td>5.125</td>\n",
       "      <td>3.75</td>\n",
       "    </tr>\n",
       "    <tr>\n",
       "      <th>Starch</th>\n",
       "      <td>4.375</td>\n",
       "      <td>6.25</td>\n",
       "    </tr>\n",
       "  </tbody>\n",
       "</table>\n",
       "</div>"
      ],
      "text/plain": [
       "        Economy  Premium\n",
       "Pork      8.000    15.00\n",
       "Wheat     5.125     3.75\n",
       "Starch    4.375     6.25"
      ]
     },
     "execution_count": 3,
     "metadata": {},
     "output_type": "execute_result"
    }
   ],
   "source": [
    "# Unfold to see the Pyomo solution with individual decision variables\n",
    "from pyomo.environ import *\n",
    "\n",
    "# Concrete Model\n",
    "M = ConcreteModel(name = \"Sausages1\")\n",
    "\n",
    "# Decision Variables\n",
    "M.pe = Var(domain = NonNegativeReals)\n",
    "M.we = Var(domain = NonNegativeReals)\n",
    "M.se = Var(domain = NonNegativeReals)\n",
    "M.pp = Var(domain = NonNegativeReals)\n",
    "M.wp = Var(domain = NonNegativeReals)\n",
    "M.sp = Var(domain = NonNegativeReals)\n",
    "\n",
    "# Objective \n",
    "M.cost = Objective( expr = 4.32*(M.pe+M.pp)+2.46*(M.we+M.wp)+1.86*(M.se+M.sp),\n",
    "                      sense = minimize )\n",
    "\n",
    "# Constraints\n",
    "M.tot_econ_ct = Constraint( expr = M.pe + M.we + M.se == 17.5 )\n",
    "M.tot_prem_ct = Constraint( expr = M.pp + M.wp + M.sp == 25 )\n",
    "M.p_prp_econ_ct = Constraint( expr = M.pe >= 0.4*(M.pe + M.we + M.se) )\n",
    "M.p_prp_prem_ct = Constraint( expr = M.pp >= 0.6*(M.pp + M.wp + M.sp) )\n",
    "M.s_prp_econ_ct = Constraint( expr = M.se <= 0.25*(M.pe + M.we + M.se) )\n",
    "M.s_prp_prem_ct = Constraint( expr = M.sp <= 0.25*(M.pp + M.wp + M.sp) )\n",
    "M.p_tot_mx_ct = Constraint( expr = M.pe + M.pp <= 30 )\n",
    "M.w_tot_mx_ct = Constraint( expr = M.we + M.wp <= 20 )\n",
    "M.s_tot_mx_ct = Constraint( expr = M.se + M.sp <= 17 )\n",
    "M.p_tot_mn_ct = Constraint( expr = M.pe + M.pp >= 23 )\n",
    "\n",
    "# Solve\n",
    "solver = SolverFactory('glpk')\n",
    "solver.solve(M)\n",
    "\n",
    "# display(M)\n",
    "\n",
    "# display solution\n",
    "import babel.numbers as numbers  # needed to display as currency\n",
    "print(\"Minimum Cost = \", numbers.format_currency(M.cost(), 'USD', locale='en_US'))\n",
    "\n",
    "import pandas as pd\n",
    "dvars = pd.DataFrame( [[M.pe(),M.pp()],\n",
    "                       [M.we(),M.wp()],\n",
    "                       [M.se(),M.sp()]],\n",
    "                    index = ['Pork','Wheat','Starch'],\n",
    "                    columns = ['Economy','Premium'])\n",
    "print(\"Kilograms of each ingredient in each type of sausage:\")\n",
    "dvars"
   ]
  }
 ],
 "metadata": {
  "kernelspec": {
   "display_name": "Python 3",
   "language": "python",
   "name": "python3"
  },
  "language_info": {
   "codemirror_mode": {
    "name": "ipython",
    "version": 3
   },
   "file_extension": ".py",
   "mimetype": "text/x-python",
   "name": "python",
   "nbconvert_exporter": "python",
   "pygments_lexer": "ipython3",
   "version": "3.7.3"
  },
  "toc": {
   "base_numbering": 1,
   "nav_menu": {},
   "number_sections": true,
   "sideBar": true,
   "skip_h1_title": false,
   "title_cell": "Table of Contents",
   "title_sidebar": "Contents",
   "toc_cell": false,
   "toc_position": {
    "height": "calc(100% - 180px)",
    "left": "10px",
    "top": "150px",
    "width": "300.175px"
   },
   "toc_section_display": true,
   "toc_window_display": true
  },
  "varInspector": {
   "cols": {
    "lenName": 16,
    "lenType": 16,
    "lenVar": 40
   },
   "kernels_config": {
    "python": {
     "delete_cmd_postfix": "",
     "delete_cmd_prefix": "del ",
     "library": "var_list.py",
     "varRefreshCmd": "print(var_dic_list())"
    },
    "r": {
     "delete_cmd_postfix": ") ",
     "delete_cmd_prefix": "rm(",
     "library": "var_list.r",
     "varRefreshCmd": "cat(var_dic_list()) "
    }
   },
   "types_to_exclude": [
    "module",
    "function",
    "builtin_function_or_method",
    "instance",
    "_Feature"
   ],
   "window_display": false
  }
 },
 "nbformat": 4,
 "nbformat_minor": 2
}
