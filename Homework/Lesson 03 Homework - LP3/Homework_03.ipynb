{
 "cells": [
  {
   "cell_type": "markdown",
   "metadata": {},
   "source": [
    "# Transportation with Capacity Constraint"
   ]
  },
  {
   "cell_type": "markdown",
   "metadata": {},
   "source": [
    "In addition to the supply and demand constraints sometimes transportation problems can have capacity restrictions such that each route will have a maximum number of units that may be shipped along that route. (Similar to worker availability in the worker scheduling problem.)\n",
    "\n",
    "For this problem there are 3 warehouses that ship a the same product to 21 stores.  The supply at the warehouses, demand at the stores, unit shipping costs, and route capacities are stored in the `transpSingle.xlsx` file in the `data` folder.  Use the `openpyxl` package to read the problem data into lists and nested lists.  Once you have the problem data converted into dictionaries, then adapt the transportation code in the lesson to minimize the total shipping cost.  You'll need to add the extra capacity constraint to give an upper bound to the number of units shipped on each route.  Your code should also use Technique 3 to eliminate unneeded decision variables.\n",
    "\n",
    "To get you started the code cell below shows how to use `openpyxl` to read ranges from the Excel workbook."
   ]
  },
  {
   "cell_type": "code",
   "execution_count": 3,
   "metadata": {},
   "outputs": [],
   "source": [
    "# using openpyxl\n",
    "from openpyxl import load_workbook\n",
    "wb = load_workbook(filename='data/transp_prob_1.xlsx', data_only=True)\n",
    "sheet = wb.active\n",
    "\n",
    "# specify upper left and lower right cells, returns a list or list of lists representing rows\n",
    "def read_range(sheet, begin, end):\n",
    "    table = sheet[begin:end]\n",
    "    height = len(table)\n",
    "    width = len(table[0])\n",
    "    if height == 1 or width == 1:\n",
    "        # for a single row or column produce a list\n",
    "        tmp = [cell.value for row in table for cell in row]\n",
    "    else:\n",
    "        # for an array of cells produces a list of row lists\n",
    "        tmp = [[cell.value for cell in row] for row in table]\n",
    "    return (tmp)\n",
    "\n",
    "\n",
    "# finish reading the data\n",
    "warehouses = read_range(sheet, 'A3', 'A5')\n",
    "# stores = ...\n",
    "wares_stores = [(w,s) for [w,s] in read_range(sheet,'D3','E31')]\n",
    "# capacity_dict = ...\n",
    "cost_dict = {(w,s):cap for [w,s,cost,cap] in read_range(sheet,'D3','G31')}\n",
    "supply_dict = { w:q for [w,q] in read_range(sheet,'I3','J5')}\n",
    "# demand_dict = ...\n",
    "\n",
    "# throw an error if total supply and demand do not match\n",
    "assert (sum(supply_dict.values()) == sum(demand_dict.values()))\n",
    "\n",
    "# build the model\n",
    "\n",
    "# solve\n",
    "\n",
    "# display"
   ]
  },
  {
   "cell_type": "markdown",
   "metadata": {},
   "source": [
    "# Shipping Wood to Market"
   ]
  },
  {
   "cell_type": "markdown",
   "metadata": {},
   "source": [
    "This problem is Case 9.1 on page 370 of the textbook.\n",
    "\n",
    "Alabama Atlantic is a lumber company that has three sources of wood and five markets to be supplied. The annual availability of wood at sources 1, 2, and 3 is 15, 20, and 15 million board feet, respectively. The amount that can be sold annually at markets 1, 2, 3, 4, and 5 is 11, 12, 9, 10, and 8 million board feet, respectively.  In the past the company has shipped the wood by train. However, because shipping costs have been increasing, the alternative of using ships to make some of the deliveries is being investigated. This alternative would require the company to invest in some ships. Except for these investment costs, the shipping costs in thousands of dollars per million board feet by rail and by water (when feasible) would be the following for each route:\n",
    "\n",
    "<img src=\"images/wood_table_1.png\" width=\"600\">\n",
    "\n",
    "The capital investment (in thousands of dollars) in ships required for each million board feet to be transported annually by ship along each route is given as follows:\n",
    "\n",
    "<img src = \"images/wood_table_2.png\" width=\"600\">\n",
    "\n",
    "You are the head of the team that has been assigned the task of determining this shipping plan for each of the following three options.\n",
    "* *Option 1:* Continue shipping exclusively by rail.\n",
    "* *Option 2:* Switch to shipping exclusively by water (except where only rail is feasible).\n",
    "* *Option 3:* Ship by either rail or water, depending on which is less expensive for the particular route.\n",
    "\n",
    "Present your results for each option. Compare."
   ]
  },
  {
   "cell_type": "markdown",
   "metadata": {},
   "source": [
    "# Transporting Multiple Products"
   ]
  },
  {
   "cell_type": "code",
   "execution_count": null,
   "metadata": {},
   "outputs": [],
   "source": []
  }
 ],
 "metadata": {
  "kernelspec": {
   "display_name": "Python 3",
   "language": "python",
   "name": "python3"
  },
  "language_info": {
   "codemirror_mode": {
    "name": "ipython",
    "version": 3
   },
   "file_extension": ".py",
   "mimetype": "text/x-python",
   "name": "python",
   "nbconvert_exporter": "python",
   "pygments_lexer": "ipython3",
   "version": "3.7.3"
  },
  "toc": {
   "base_numbering": 1,
   "nav_menu": {},
   "number_sections": true,
   "sideBar": true,
   "skip_h1_title": false,
   "title_cell": "Table of Contents",
   "title_sidebar": "Contents",
   "toc_cell": false,
   "toc_position": {},
   "toc_section_display": true,
   "toc_window_display": false
  }
 },
 "nbformat": 4,
 "nbformat_minor": 2
}
