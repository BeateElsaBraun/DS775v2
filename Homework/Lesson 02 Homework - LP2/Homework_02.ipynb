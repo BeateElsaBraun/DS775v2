{
 "cells": [
  {
   "cell_type": "code",
   "execution_count": 1,
   "metadata": {
    "code_folding": []
   },
   "outputs": [],
   "source": [
    "# execute to import notebook styling for tables and width etc.\n",
    "from IPython.core.display import HTML\n",
    "import urllib.request\n",
    "response = urllib.request.urlopen('https://raw.githubusercontent.com/DataScienceUWL/DS775v2/master/ds755.css')\n",
    "HTML(response.read().decode(\"utf-8\"));"
   ]
  },
  {
   "cell_type": "markdown",
   "metadata": {},
   "source": [
    "<font size=18>Lesson 02 Homework</font>"
   ]
  },
  {
   "cell_type": "markdown",
   "metadata": {
    "heading_collapsed": true
   },
   "source": [
    "# Sensitive Parameter (**HW2.1**)"
   ]
  },
  {
   "cell_type": "markdown",
   "metadata": {
    "hidden": true
   },
   "source": [
    "A “sensitive parameter” is a parameter\n",
    "\n",
    "a.    that can be set outside of  its allowable range.\n",
    "\n",
    "b.    that satisfies the certainty assumption.\n",
    "\n",
    "c.    whose value must be estimated.\n",
    "\n",
    "d.      is a constraint boundary that can be changed without affecting the optimal solution.    \n",
    "\n",
    "e.    whose values cannot be changed without changing the optimal solution."
   ]
  },
  {
   "cell_type": "markdown",
   "metadata": {
    "hidden": true
   },
   "source": [
    "<font color = \"blue\"> *** 2 points -  answer in cell below *** (don't delete this cell) </font>"
   ]
  },
  {
   "cell_type": "markdown",
   "metadata": {
    "hidden": true
   },
   "source": [
    "<font color = \"green\">\n",
    "replace this text with answer, your answer should be green   \n",
    "</font>"
   ]
  },
  {
   "cell_type": "markdown",
   "metadata": {
    "heading_collapsed": true
   },
   "source": [
    "# Shadow Price (**HW2.2**)"
   ]
  },
  {
   "cell_type": "markdown",
   "metadata": {
    "hidden": true
   },
   "source": [
    "The shadow price for a resource is\n",
    "\n",
    "\n",
    "a.  the amount the objective function Z increases for each one unit  increase in the amount of the resource available when it goes beyond its allowable range.\n",
    "\n",
    "b.     the amount the objective function Z increases for each one unit  increase in the amount of the resource available, provided that is stays within its allowable range.\n",
    "\n",
    "c.  the range of values for the right-hand side over which the current optimal solution remains feasible.  \n",
    "\n",
    "d.  a constraint that must be satisfied.  \n",
    "\n",
    "e.  a constraint boundary that can be characterized by a random variable. "
   ]
  },
  {
   "cell_type": "markdown",
   "metadata": {
    "hidden": true
   },
   "source": [
    "<font color = \"blue\"> *** 2 points -  answer in cell below *** (don't delete this cell) </font>"
   ]
  },
  {
   "cell_type": "markdown",
   "metadata": {
    "hidden": true
   },
   "source": [
    "<font color = \"green\">\n",
    "replace this text with answer, your answer should be green   \n",
    "</font>"
   ]
  },
  {
   "cell_type": "markdown",
   "metadata": {
    "heading_collapsed": true
   },
   "source": [
    "# Giapetto Interactive Widget Problem"
   ]
  },
  {
   "cell_type": "markdown",
   "metadata": {
    "hidden": true
   },
   "source": [
    "Giapetto's Woodcarving, Inc., manufactures two types of wooden toys: soldiers and trains.\n",
    "\n",
    "A soldier sells for 27 dollars and uses 10 dollars worth of raw materials. Each soldier that is manufactured increases Giapetto’s variable labor and overhead costs by 14 dollars (so think about what the unit profit would be). A train sells for 21 dollars and uses 9 dollars worth of raw materials. Each train built increases Giapetto’s variable labor and overhead costs by 10 dollars. The manufacture of wooden soldiers and trains requires two types of skilled labor: carpentry and finishing. A soldier requires 2 hours of finishing labor and 1 hour of carpentry labor. A train requires 1 hour of finishing labor and 1 hour of carpentry labor. Each week, Giapetto can obtain all the needed raw material but only 80 carpentry hours and 100 finishing hours. Demand for trains ($x_2$) is unlimited, but at most 40 soldiers ($x_1$) are bought each week. Giapetto wants to maximize weekly profit (revenues-costs). (This example is from the textbook \"Operations Research\" by Wayne L. Winston.)\n",
    "\n",
    "The model formulation that can be used to maximize Giapetto’s weekly profit is:\n",
    "\n",
    "Maximize $Z = 3x_1 + 2x_2,$ \n",
    "\n",
    "subject to \n",
    "\n",
    "$\n",
    "\\begin{array}{rcrcr}\n",
    "x_1 & + & x_2 & \\leq & 80 \\\\\n",
    "2x_1 & + & x_2 & \\leq & 100 \\\\\n",
    " x_1        &         &  & \\leq & 40 \n",
    "\\end{array}\n",
    "$\n",
    "\n",
    "and $x_1 \\geq 0, x_2 \\geq 0.$\n",
    "\n",
    "**Use the widget below** to answer the following questions (after the widget) about Giapetto's production of wooden soldiers and trains.  Do not use other methods to find the answers."
   ]
  },
  {
   "cell_type": "code",
   "execution_count": 1,
   "metadata": {
    "code_folding": [],
    "hidden": true,
    "scrolled": false
   },
   "outputs": [
    {
     "data": {
      "application/javascript": [
       "/* Put everything inside the global mpl namespace */\n",
       "window.mpl = {};\n",
       "\n",
       "\n",
       "mpl.get_websocket_type = function() {\n",
       "    if (typeof(WebSocket) !== 'undefined') {\n",
       "        return WebSocket;\n",
       "    } else if (typeof(MozWebSocket) !== 'undefined') {\n",
       "        return MozWebSocket;\n",
       "    } else {\n",
       "        alert('Your browser does not have WebSocket support.' +\n",
       "              'Please try Chrome, Safari or Firefox ≥ 6. ' +\n",
       "              'Firefox 4 and 5 are also supported but you ' +\n",
       "              'have to enable WebSockets in about:config.');\n",
       "    };\n",
       "}\n",
       "\n",
       "mpl.figure = function(figure_id, websocket, ondownload, parent_element) {\n",
       "    this.id = figure_id;\n",
       "\n",
       "    this.ws = websocket;\n",
       "\n",
       "    this.supports_binary = (this.ws.binaryType != undefined);\n",
       "\n",
       "    if (!this.supports_binary) {\n",
       "        var warnings = document.getElementById(\"mpl-warnings\");\n",
       "        if (warnings) {\n",
       "            warnings.style.display = 'block';\n",
       "            warnings.textContent = (\n",
       "                \"This browser does not support binary websocket messages. \" +\n",
       "                    \"Performance may be slow.\");\n",
       "        }\n",
       "    }\n",
       "\n",
       "    this.imageObj = new Image();\n",
       "\n",
       "    this.context = undefined;\n",
       "    this.message = undefined;\n",
       "    this.canvas = undefined;\n",
       "    this.rubberband_canvas = undefined;\n",
       "    this.rubberband_context = undefined;\n",
       "    this.format_dropdown = undefined;\n",
       "\n",
       "    this.image_mode = 'full';\n",
       "\n",
       "    this.root = $('<div/>');\n",
       "    this._root_extra_style(this.root)\n",
       "    this.root.attr('style', 'display: inline-block');\n",
       "\n",
       "    $(parent_element).append(this.root);\n",
       "\n",
       "    this._init_header(this);\n",
       "    this._init_canvas(this);\n",
       "    this._init_toolbar(this);\n",
       "\n",
       "    var fig = this;\n",
       "\n",
       "    this.waiting = false;\n",
       "\n",
       "    this.ws.onopen =  function () {\n",
       "            fig.send_message(\"supports_binary\", {value: fig.supports_binary});\n",
       "            fig.send_message(\"send_image_mode\", {});\n",
       "            if (mpl.ratio != 1) {\n",
       "                fig.send_message(\"set_dpi_ratio\", {'dpi_ratio': mpl.ratio});\n",
       "            }\n",
       "            fig.send_message(\"refresh\", {});\n",
       "        }\n",
       "\n",
       "    this.imageObj.onload = function() {\n",
       "            if (fig.image_mode == 'full') {\n",
       "                // Full images could contain transparency (where diff images\n",
       "                // almost always do), so we need to clear the canvas so that\n",
       "                // there is no ghosting.\n",
       "                fig.context.clearRect(0, 0, fig.canvas.width, fig.canvas.height);\n",
       "            }\n",
       "            fig.context.drawImage(fig.imageObj, 0, 0);\n",
       "        };\n",
       "\n",
       "    this.imageObj.onunload = function() {\n",
       "        fig.ws.close();\n",
       "    }\n",
       "\n",
       "    this.ws.onmessage = this._make_on_message_function(this);\n",
       "\n",
       "    this.ondownload = ondownload;\n",
       "}\n",
       "\n",
       "mpl.figure.prototype._init_header = function() {\n",
       "    var titlebar = $(\n",
       "        '<div class=\"ui-dialog-titlebar ui-widget-header ui-corner-all ' +\n",
       "        'ui-helper-clearfix\"/>');\n",
       "    var titletext = $(\n",
       "        '<div class=\"ui-dialog-title\" style=\"width: 100%; ' +\n",
       "        'text-align: center; padding: 3px;\"/>');\n",
       "    titlebar.append(titletext)\n",
       "    this.root.append(titlebar);\n",
       "    this.header = titletext[0];\n",
       "}\n",
       "\n",
       "\n",
       "\n",
       "mpl.figure.prototype._canvas_extra_style = function(canvas_div) {\n",
       "\n",
       "}\n",
       "\n",
       "\n",
       "mpl.figure.prototype._root_extra_style = function(canvas_div) {\n",
       "\n",
       "}\n",
       "\n",
       "mpl.figure.prototype._init_canvas = function() {\n",
       "    var fig = this;\n",
       "\n",
       "    var canvas_div = $('<div/>');\n",
       "\n",
       "    canvas_div.attr('style', 'position: relative; clear: both; outline: 0');\n",
       "\n",
       "    function canvas_keyboard_event(event) {\n",
       "        return fig.key_event(event, event['data']);\n",
       "    }\n",
       "\n",
       "    canvas_div.keydown('key_press', canvas_keyboard_event);\n",
       "    canvas_div.keyup('key_release', canvas_keyboard_event);\n",
       "    this.canvas_div = canvas_div\n",
       "    this._canvas_extra_style(canvas_div)\n",
       "    this.root.append(canvas_div);\n",
       "\n",
       "    var canvas = $('<canvas/>');\n",
       "    canvas.addClass('mpl-canvas');\n",
       "    canvas.attr('style', \"left: 0; top: 0; z-index: 0; outline: 0\")\n",
       "\n",
       "    this.canvas = canvas[0];\n",
       "    this.context = canvas[0].getContext(\"2d\");\n",
       "\n",
       "    var backingStore = this.context.backingStorePixelRatio ||\n",
       "\tthis.context.webkitBackingStorePixelRatio ||\n",
       "\tthis.context.mozBackingStorePixelRatio ||\n",
       "\tthis.context.msBackingStorePixelRatio ||\n",
       "\tthis.context.oBackingStorePixelRatio ||\n",
       "\tthis.context.backingStorePixelRatio || 1;\n",
       "\n",
       "    mpl.ratio = (window.devicePixelRatio || 1) / backingStore;\n",
       "\n",
       "    var rubberband = $('<canvas/>');\n",
       "    rubberband.attr('style', \"position: absolute; left: 0; top: 0; z-index: 1;\")\n",
       "\n",
       "    var pass_mouse_events = true;\n",
       "\n",
       "    canvas_div.resizable({\n",
       "        start: function(event, ui) {\n",
       "            pass_mouse_events = false;\n",
       "        },\n",
       "        resize: function(event, ui) {\n",
       "            fig.request_resize(ui.size.width, ui.size.height);\n",
       "        },\n",
       "        stop: function(event, ui) {\n",
       "            pass_mouse_events = true;\n",
       "            fig.request_resize(ui.size.width, ui.size.height);\n",
       "        },\n",
       "    });\n",
       "\n",
       "    function mouse_event_fn(event) {\n",
       "        if (pass_mouse_events)\n",
       "            return fig.mouse_event(event, event['data']);\n",
       "    }\n",
       "\n",
       "    rubberband.mousedown('button_press', mouse_event_fn);\n",
       "    rubberband.mouseup('button_release', mouse_event_fn);\n",
       "    // Throttle sequential mouse events to 1 every 20ms.\n",
       "    rubberband.mousemove('motion_notify', mouse_event_fn);\n",
       "\n",
       "    rubberband.mouseenter('figure_enter', mouse_event_fn);\n",
       "    rubberband.mouseleave('figure_leave', mouse_event_fn);\n",
       "\n",
       "    canvas_div.on(\"wheel\", function (event) {\n",
       "        event = event.originalEvent;\n",
       "        event['data'] = 'scroll'\n",
       "        if (event.deltaY < 0) {\n",
       "            event.step = 1;\n",
       "        } else {\n",
       "            event.step = -1;\n",
       "        }\n",
       "        mouse_event_fn(event);\n",
       "    });\n",
       "\n",
       "    canvas_div.append(canvas);\n",
       "    canvas_div.append(rubberband);\n",
       "\n",
       "    this.rubberband = rubberband;\n",
       "    this.rubberband_canvas = rubberband[0];\n",
       "    this.rubberband_context = rubberband[0].getContext(\"2d\");\n",
       "    this.rubberband_context.strokeStyle = \"#000000\";\n",
       "\n",
       "    this._resize_canvas = function(width, height) {\n",
       "        // Keep the size of the canvas, canvas container, and rubber band\n",
       "        // canvas in synch.\n",
       "        canvas_div.css('width', width)\n",
       "        canvas_div.css('height', height)\n",
       "\n",
       "        canvas.attr('width', width * mpl.ratio);\n",
       "        canvas.attr('height', height * mpl.ratio);\n",
       "        canvas.attr('style', 'width: ' + width + 'px; height: ' + height + 'px;');\n",
       "\n",
       "        rubberband.attr('width', width);\n",
       "        rubberband.attr('height', height);\n",
       "    }\n",
       "\n",
       "    // Set the figure to an initial 600x600px, this will subsequently be updated\n",
       "    // upon first draw.\n",
       "    this._resize_canvas(600, 600);\n",
       "\n",
       "    // Disable right mouse context menu.\n",
       "    $(this.rubberband_canvas).bind(\"contextmenu\",function(e){\n",
       "        return false;\n",
       "    });\n",
       "\n",
       "    function set_focus () {\n",
       "        canvas.focus();\n",
       "        canvas_div.focus();\n",
       "    }\n",
       "\n",
       "    window.setTimeout(set_focus, 100);\n",
       "}\n",
       "\n",
       "mpl.figure.prototype._init_toolbar = function() {\n",
       "    var fig = this;\n",
       "\n",
       "    var nav_element = $('<div/>')\n",
       "    nav_element.attr('style', 'width: 100%');\n",
       "    this.root.append(nav_element);\n",
       "\n",
       "    // Define a callback function for later on.\n",
       "    function toolbar_event(event) {\n",
       "        return fig.toolbar_button_onclick(event['data']);\n",
       "    }\n",
       "    function toolbar_mouse_event(event) {\n",
       "        return fig.toolbar_button_onmouseover(event['data']);\n",
       "    }\n",
       "\n",
       "    for(var toolbar_ind in mpl.toolbar_items) {\n",
       "        var name = mpl.toolbar_items[toolbar_ind][0];\n",
       "        var tooltip = mpl.toolbar_items[toolbar_ind][1];\n",
       "        var image = mpl.toolbar_items[toolbar_ind][2];\n",
       "        var method_name = mpl.toolbar_items[toolbar_ind][3];\n",
       "\n",
       "        if (!name) {\n",
       "            // put a spacer in here.\n",
       "            continue;\n",
       "        }\n",
       "        var button = $('<button/>');\n",
       "        button.addClass('ui-button ui-widget ui-state-default ui-corner-all ' +\n",
       "                        'ui-button-icon-only');\n",
       "        button.attr('role', 'button');\n",
       "        button.attr('aria-disabled', 'false');\n",
       "        button.click(method_name, toolbar_event);\n",
       "        button.mouseover(tooltip, toolbar_mouse_event);\n",
       "\n",
       "        var icon_img = $('<span/>');\n",
       "        icon_img.addClass('ui-button-icon-primary ui-icon');\n",
       "        icon_img.addClass(image);\n",
       "        icon_img.addClass('ui-corner-all');\n",
       "\n",
       "        var tooltip_span = $('<span/>');\n",
       "        tooltip_span.addClass('ui-button-text');\n",
       "        tooltip_span.html(tooltip);\n",
       "\n",
       "        button.append(icon_img);\n",
       "        button.append(tooltip_span);\n",
       "\n",
       "        nav_element.append(button);\n",
       "    }\n",
       "\n",
       "    var fmt_picker_span = $('<span/>');\n",
       "\n",
       "    var fmt_picker = $('<select/>');\n",
       "    fmt_picker.addClass('mpl-toolbar-option ui-widget ui-widget-content');\n",
       "    fmt_picker_span.append(fmt_picker);\n",
       "    nav_element.append(fmt_picker_span);\n",
       "    this.format_dropdown = fmt_picker[0];\n",
       "\n",
       "    for (var ind in mpl.extensions) {\n",
       "        var fmt = mpl.extensions[ind];\n",
       "        var option = $(\n",
       "            '<option/>', {selected: fmt === mpl.default_extension}).html(fmt);\n",
       "        fmt_picker.append(option)\n",
       "    }\n",
       "\n",
       "    // Add hover states to the ui-buttons\n",
       "    $( \".ui-button\" ).hover(\n",
       "        function() { $(this).addClass(\"ui-state-hover\");},\n",
       "        function() { $(this).removeClass(\"ui-state-hover\");}\n",
       "    );\n",
       "\n",
       "    var status_bar = $('<span class=\"mpl-message\"/>');\n",
       "    nav_element.append(status_bar);\n",
       "    this.message = status_bar[0];\n",
       "}\n",
       "\n",
       "mpl.figure.prototype.request_resize = function(x_pixels, y_pixels) {\n",
       "    // Request matplotlib to resize the figure. Matplotlib will then trigger a resize in the client,\n",
       "    // which will in turn request a refresh of the image.\n",
       "    this.send_message('resize', {'width': x_pixels, 'height': y_pixels});\n",
       "}\n",
       "\n",
       "mpl.figure.prototype.send_message = function(type, properties) {\n",
       "    properties['type'] = type;\n",
       "    properties['figure_id'] = this.id;\n",
       "    this.ws.send(JSON.stringify(properties));\n",
       "}\n",
       "\n",
       "mpl.figure.prototype.send_draw_message = function() {\n",
       "    if (!this.waiting) {\n",
       "        this.waiting = true;\n",
       "        this.ws.send(JSON.stringify({type: \"draw\", figure_id: this.id}));\n",
       "    }\n",
       "}\n",
       "\n",
       "\n",
       "mpl.figure.prototype.handle_save = function(fig, msg) {\n",
       "    var format_dropdown = fig.format_dropdown;\n",
       "    var format = format_dropdown.options[format_dropdown.selectedIndex].value;\n",
       "    fig.ondownload(fig, format);\n",
       "}\n",
       "\n",
       "\n",
       "mpl.figure.prototype.handle_resize = function(fig, msg) {\n",
       "    var size = msg['size'];\n",
       "    if (size[0] != fig.canvas.width || size[1] != fig.canvas.height) {\n",
       "        fig._resize_canvas(size[0], size[1]);\n",
       "        fig.send_message(\"refresh\", {});\n",
       "    };\n",
       "}\n",
       "\n",
       "mpl.figure.prototype.handle_rubberband = function(fig, msg) {\n",
       "    var x0 = msg['x0'] / mpl.ratio;\n",
       "    var y0 = (fig.canvas.height - msg['y0']) / mpl.ratio;\n",
       "    var x1 = msg['x1'] / mpl.ratio;\n",
       "    var y1 = (fig.canvas.height - msg['y1']) / mpl.ratio;\n",
       "    x0 = Math.floor(x0) + 0.5;\n",
       "    y0 = Math.floor(y0) + 0.5;\n",
       "    x1 = Math.floor(x1) + 0.5;\n",
       "    y1 = Math.floor(y1) + 0.5;\n",
       "    var min_x = Math.min(x0, x1);\n",
       "    var min_y = Math.min(y0, y1);\n",
       "    var width = Math.abs(x1 - x0);\n",
       "    var height = Math.abs(y1 - y0);\n",
       "\n",
       "    fig.rubberband_context.clearRect(\n",
       "        0, 0, fig.canvas.width, fig.canvas.height);\n",
       "\n",
       "    fig.rubberband_context.strokeRect(min_x, min_y, width, height);\n",
       "}\n",
       "\n",
       "mpl.figure.prototype.handle_figure_label = function(fig, msg) {\n",
       "    // Updates the figure title.\n",
       "    fig.header.textContent = msg['label'];\n",
       "}\n",
       "\n",
       "mpl.figure.prototype.handle_cursor = function(fig, msg) {\n",
       "    var cursor = msg['cursor'];\n",
       "    switch(cursor)\n",
       "    {\n",
       "    case 0:\n",
       "        cursor = 'pointer';\n",
       "        break;\n",
       "    case 1:\n",
       "        cursor = 'default';\n",
       "        break;\n",
       "    case 2:\n",
       "        cursor = 'crosshair';\n",
       "        break;\n",
       "    case 3:\n",
       "        cursor = 'move';\n",
       "        break;\n",
       "    }\n",
       "    fig.rubberband_canvas.style.cursor = cursor;\n",
       "}\n",
       "\n",
       "mpl.figure.prototype.handle_message = function(fig, msg) {\n",
       "    fig.message.textContent = msg['message'];\n",
       "}\n",
       "\n",
       "mpl.figure.prototype.handle_draw = function(fig, msg) {\n",
       "    // Request the server to send over a new figure.\n",
       "    fig.send_draw_message();\n",
       "}\n",
       "\n",
       "mpl.figure.prototype.handle_image_mode = function(fig, msg) {\n",
       "    fig.image_mode = msg['mode'];\n",
       "}\n",
       "\n",
       "mpl.figure.prototype.updated_canvas_event = function() {\n",
       "    // Called whenever the canvas gets updated.\n",
       "    this.send_message(\"ack\", {});\n",
       "}\n",
       "\n",
       "// A function to construct a web socket function for onmessage handling.\n",
       "// Called in the figure constructor.\n",
       "mpl.figure.prototype._make_on_message_function = function(fig) {\n",
       "    return function socket_on_message(evt) {\n",
       "        if (evt.data instanceof Blob) {\n",
       "            /* FIXME: We get \"Resource interpreted as Image but\n",
       "             * transferred with MIME type text/plain:\" errors on\n",
       "             * Chrome.  But how to set the MIME type?  It doesn't seem\n",
       "             * to be part of the websocket stream */\n",
       "            evt.data.type = \"image/png\";\n",
       "\n",
       "            /* Free the memory for the previous frames */\n",
       "            if (fig.imageObj.src) {\n",
       "                (window.URL || window.webkitURL).revokeObjectURL(\n",
       "                    fig.imageObj.src);\n",
       "            }\n",
       "\n",
       "            fig.imageObj.src = (window.URL || window.webkitURL).createObjectURL(\n",
       "                evt.data);\n",
       "            fig.updated_canvas_event();\n",
       "            fig.waiting = false;\n",
       "            return;\n",
       "        }\n",
       "        else if (typeof evt.data === 'string' && evt.data.slice(0, 21) == \"data:image/png;base64\") {\n",
       "            fig.imageObj.src = evt.data;\n",
       "            fig.updated_canvas_event();\n",
       "            fig.waiting = false;\n",
       "            return;\n",
       "        }\n",
       "\n",
       "        var msg = JSON.parse(evt.data);\n",
       "        var msg_type = msg['type'];\n",
       "\n",
       "        // Call the  \"handle_{type}\" callback, which takes\n",
       "        // the figure and JSON message as its only arguments.\n",
       "        try {\n",
       "            var callback = fig[\"handle_\" + msg_type];\n",
       "        } catch (e) {\n",
       "            console.log(\"No handler for the '\" + msg_type + \"' message type: \", msg);\n",
       "            return;\n",
       "        }\n",
       "\n",
       "        if (callback) {\n",
       "            try {\n",
       "                // console.log(\"Handling '\" + msg_type + \"' message: \", msg);\n",
       "                callback(fig, msg);\n",
       "            } catch (e) {\n",
       "                console.log(\"Exception inside the 'handler_\" + msg_type + \"' callback:\", e, e.stack, msg);\n",
       "            }\n",
       "        }\n",
       "    };\n",
       "}\n",
       "\n",
       "// from http://stackoverflow.com/questions/1114465/getting-mouse-location-in-canvas\n",
       "mpl.findpos = function(e) {\n",
       "    //this section is from http://www.quirksmode.org/js/events_properties.html\n",
       "    var targ;\n",
       "    if (!e)\n",
       "        e = window.event;\n",
       "    if (e.target)\n",
       "        targ = e.target;\n",
       "    else if (e.srcElement)\n",
       "        targ = e.srcElement;\n",
       "    if (targ.nodeType == 3) // defeat Safari bug\n",
       "        targ = targ.parentNode;\n",
       "\n",
       "    // jQuery normalizes the pageX and pageY\n",
       "    // pageX,Y are the mouse positions relative to the document\n",
       "    // offset() returns the position of the element relative to the document\n",
       "    var x = e.pageX - $(targ).offset().left;\n",
       "    var y = e.pageY - $(targ).offset().top;\n",
       "\n",
       "    return {\"x\": x, \"y\": y};\n",
       "};\n",
       "\n",
       "/*\n",
       " * return a copy of an object with only non-object keys\n",
       " * we need this to avoid circular references\n",
       " * http://stackoverflow.com/a/24161582/3208463\n",
       " */\n",
       "function simpleKeys (original) {\n",
       "  return Object.keys(original).reduce(function (obj, key) {\n",
       "    if (typeof original[key] !== 'object')\n",
       "        obj[key] = original[key]\n",
       "    return obj;\n",
       "  }, {});\n",
       "}\n",
       "\n",
       "mpl.figure.prototype.mouse_event = function(event, name) {\n",
       "    var canvas_pos = mpl.findpos(event)\n",
       "\n",
       "    if (name === 'button_press')\n",
       "    {\n",
       "        this.canvas.focus();\n",
       "        this.canvas_div.focus();\n",
       "    }\n",
       "\n",
       "    var x = canvas_pos.x * mpl.ratio;\n",
       "    var y = canvas_pos.y * mpl.ratio;\n",
       "\n",
       "    this.send_message(name, {x: x, y: y, button: event.button,\n",
       "                             step: event.step,\n",
       "                             guiEvent: simpleKeys(event)});\n",
       "\n",
       "    /* This prevents the web browser from automatically changing to\n",
       "     * the text insertion cursor when the button is pressed.  We want\n",
       "     * to control all of the cursor setting manually through the\n",
       "     * 'cursor' event from matplotlib */\n",
       "    event.preventDefault();\n",
       "    return false;\n",
       "}\n",
       "\n",
       "mpl.figure.prototype._key_event_extra = function(event, name) {\n",
       "    // Handle any extra behaviour associated with a key event\n",
       "}\n",
       "\n",
       "mpl.figure.prototype.key_event = function(event, name) {\n",
       "\n",
       "    // Prevent repeat events\n",
       "    if (name == 'key_press')\n",
       "    {\n",
       "        if (event.which === this._key)\n",
       "            return;\n",
       "        else\n",
       "            this._key = event.which;\n",
       "    }\n",
       "    if (name == 'key_release')\n",
       "        this._key = null;\n",
       "\n",
       "    var value = '';\n",
       "    if (event.ctrlKey && event.which != 17)\n",
       "        value += \"ctrl+\";\n",
       "    if (event.altKey && event.which != 18)\n",
       "        value += \"alt+\";\n",
       "    if (event.shiftKey && event.which != 16)\n",
       "        value += \"shift+\";\n",
       "\n",
       "    value += 'k';\n",
       "    value += event.which.toString();\n",
       "\n",
       "    this._key_event_extra(event, name);\n",
       "\n",
       "    this.send_message(name, {key: value,\n",
       "                             guiEvent: simpleKeys(event)});\n",
       "    return false;\n",
       "}\n",
       "\n",
       "mpl.figure.prototype.toolbar_button_onclick = function(name) {\n",
       "    if (name == 'download') {\n",
       "        this.handle_save(this, null);\n",
       "    } else {\n",
       "        this.send_message(\"toolbar_button\", {name: name});\n",
       "    }\n",
       "};\n",
       "\n",
       "mpl.figure.prototype.toolbar_button_onmouseover = function(tooltip) {\n",
       "    this.message.textContent = tooltip;\n",
       "};\n",
       "mpl.toolbar_items = [[\"Home\", \"Reset original view\", \"fa fa-home icon-home\", \"home\"], [\"Back\", \"Back to previous view\", \"fa fa-arrow-left icon-arrow-left\", \"back\"], [\"Forward\", \"Forward to next view\", \"fa fa-arrow-right icon-arrow-right\", \"forward\"], [\"\", \"\", \"\", \"\"], [\"Pan\", \"Pan axes with left mouse, zoom with right\", \"fa fa-arrows icon-move\", \"pan\"], [\"Zoom\", \"Zoom to rectangle\", \"fa fa-square-o icon-check-empty\", \"zoom\"], [\"\", \"\", \"\", \"\"], [\"Download\", \"Download plot\", \"fa fa-floppy-o icon-save\", \"download\"]];\n",
       "\n",
       "mpl.extensions = [\"eps\", \"jpeg\", \"pdf\", \"png\", \"ps\", \"raw\", \"svg\", \"tif\"];\n",
       "\n",
       "mpl.default_extension = \"png\";var comm_websocket_adapter = function(comm) {\n",
       "    // Create a \"websocket\"-like object which calls the given IPython comm\n",
       "    // object with the appropriate methods. Currently this is a non binary\n",
       "    // socket, so there is still some room for performance tuning.\n",
       "    var ws = {};\n",
       "\n",
       "    ws.close = function() {\n",
       "        comm.close()\n",
       "    };\n",
       "    ws.send = function(m) {\n",
       "        //console.log('sending', m);\n",
       "        comm.send(m);\n",
       "    };\n",
       "    // Register the callback with on_msg.\n",
       "    comm.on_msg(function(msg) {\n",
       "        //console.log('receiving', msg['content']['data'], msg);\n",
       "        // Pass the mpl event to the overridden (by mpl) onmessage function.\n",
       "        ws.onmessage(msg['content']['data'])\n",
       "    });\n",
       "    return ws;\n",
       "}\n",
       "\n",
       "mpl.mpl_figure_comm = function(comm, msg) {\n",
       "    // This is the function which gets called when the mpl process\n",
       "    // starts-up an IPython Comm through the \"matplotlib\" channel.\n",
       "\n",
       "    var id = msg.content.data.id;\n",
       "    // Get hold of the div created by the display call when the Comm\n",
       "    // socket was opened in Python.\n",
       "    var element = $(\"#\" + id);\n",
       "    var ws_proxy = comm_websocket_adapter(comm)\n",
       "\n",
       "    function ondownload(figure, format) {\n",
       "        window.open(figure.imageObj.src);\n",
       "    }\n",
       "\n",
       "    var fig = new mpl.figure(id, ws_proxy,\n",
       "                           ondownload,\n",
       "                           element.get(0));\n",
       "\n",
       "    // Call onopen now - mpl needs it, as it is assuming we've passed it a real\n",
       "    // web socket which is closed, not our websocket->open comm proxy.\n",
       "    ws_proxy.onopen();\n",
       "\n",
       "    fig.parent_element = element.get(0);\n",
       "    fig.cell_info = mpl.find_output_cell(\"<div id='\" + id + \"'></div>\");\n",
       "    if (!fig.cell_info) {\n",
       "        console.error(\"Failed to find cell for figure\", id, fig);\n",
       "        return;\n",
       "    }\n",
       "\n",
       "    var output_index = fig.cell_info[2]\n",
       "    var cell = fig.cell_info[0];\n",
       "\n",
       "};\n",
       "\n",
       "mpl.figure.prototype.handle_close = function(fig, msg) {\n",
       "    var width = fig.canvas.width/mpl.ratio\n",
       "    fig.root.unbind('remove')\n",
       "\n",
       "    // Update the output cell to use the data from the current canvas.\n",
       "    fig.push_to_output();\n",
       "    var dataURL = fig.canvas.toDataURL();\n",
       "    // Re-enable the keyboard manager in IPython - without this line, in FF,\n",
       "    // the notebook keyboard shortcuts fail.\n",
       "    IPython.keyboard_manager.enable()\n",
       "    $(fig.parent_element).html('<img src=\"' + dataURL + '\" width=\"' + width + '\">');\n",
       "    fig.close_ws(fig, msg);\n",
       "}\n",
       "\n",
       "mpl.figure.prototype.close_ws = function(fig, msg){\n",
       "    fig.send_message('closing', msg);\n",
       "    // fig.ws.close()\n",
       "}\n",
       "\n",
       "mpl.figure.prototype.push_to_output = function(remove_interactive) {\n",
       "    // Turn the data on the canvas into data in the output cell.\n",
       "    var width = this.canvas.width/mpl.ratio\n",
       "    var dataURL = this.canvas.toDataURL();\n",
       "    this.cell_info[1]['text/html'] = '<img src=\"' + dataURL + '\" width=\"' + width + '\">';\n",
       "}\n",
       "\n",
       "mpl.figure.prototype.updated_canvas_event = function() {\n",
       "    // Tell IPython that the notebook contents must change.\n",
       "    IPython.notebook.set_dirty(true);\n",
       "    this.send_message(\"ack\", {});\n",
       "    var fig = this;\n",
       "    // Wait a second, then push the new image to the DOM so\n",
       "    // that it is saved nicely (might be nice to debounce this).\n",
       "    setTimeout(function () { fig.push_to_output() }, 1000);\n",
       "}\n",
       "\n",
       "mpl.figure.prototype._init_toolbar = function() {\n",
       "    var fig = this;\n",
       "\n",
       "    var nav_element = $('<div/>')\n",
       "    nav_element.attr('style', 'width: 100%');\n",
       "    this.root.append(nav_element);\n",
       "\n",
       "    // Define a callback function for later on.\n",
       "    function toolbar_event(event) {\n",
       "        return fig.toolbar_button_onclick(event['data']);\n",
       "    }\n",
       "    function toolbar_mouse_event(event) {\n",
       "        return fig.toolbar_button_onmouseover(event['data']);\n",
       "    }\n",
       "\n",
       "    for(var toolbar_ind in mpl.toolbar_items){\n",
       "        var name = mpl.toolbar_items[toolbar_ind][0];\n",
       "        var tooltip = mpl.toolbar_items[toolbar_ind][1];\n",
       "        var image = mpl.toolbar_items[toolbar_ind][2];\n",
       "        var method_name = mpl.toolbar_items[toolbar_ind][3];\n",
       "\n",
       "        if (!name) { continue; };\n",
       "\n",
       "        var button = $('<button class=\"btn btn-default\" href=\"#\" title=\"' + name + '\"><i class=\"fa ' + image + ' fa-lg\"></i></button>');\n",
       "        button.click(method_name, toolbar_event);\n",
       "        button.mouseover(tooltip, toolbar_mouse_event);\n",
       "        nav_element.append(button);\n",
       "    }\n",
       "\n",
       "    // Add the status bar.\n",
       "    var status_bar = $('<span class=\"mpl-message\" style=\"text-align:right; float: right;\"/>');\n",
       "    nav_element.append(status_bar);\n",
       "    this.message = status_bar[0];\n",
       "\n",
       "    // Add the close button to the window.\n",
       "    var buttongrp = $('<div class=\"btn-group inline pull-right\"></div>');\n",
       "    var button = $('<button class=\"btn btn-mini btn-primary\" href=\"#\" title=\"Stop Interaction\"><i class=\"fa fa-power-off icon-remove icon-large\"></i></button>');\n",
       "    button.click(function (evt) { fig.handle_close(fig, {}); } );\n",
       "    button.mouseover('Stop Interaction', toolbar_mouse_event);\n",
       "    buttongrp.append(button);\n",
       "    var titlebar = this.root.find($('.ui-dialog-titlebar'));\n",
       "    titlebar.prepend(buttongrp);\n",
       "}\n",
       "\n",
       "mpl.figure.prototype._root_extra_style = function(el){\n",
       "    var fig = this\n",
       "    el.on(\"remove\", function(){\n",
       "\tfig.close_ws(fig, {});\n",
       "    });\n",
       "}\n",
       "\n",
       "mpl.figure.prototype._canvas_extra_style = function(el){\n",
       "    // this is important to make the div 'focusable\n",
       "    el.attr('tabindex', 0)\n",
       "    // reach out to IPython and tell the keyboard manager to turn it's self\n",
       "    // off when our div gets focus\n",
       "\n",
       "    // location in version 3\n",
       "    if (IPython.notebook.keyboard_manager) {\n",
       "        IPython.notebook.keyboard_manager.register_events(el);\n",
       "    }\n",
       "    else {\n",
       "        // location in version 2\n",
       "        IPython.keyboard_manager.register_events(el);\n",
       "    }\n",
       "\n",
       "}\n",
       "\n",
       "mpl.figure.prototype._key_event_extra = function(event, name) {\n",
       "    var manager = IPython.notebook.keyboard_manager;\n",
       "    if (!manager)\n",
       "        manager = IPython.keyboard_manager;\n",
       "\n",
       "    // Check for shift+enter\n",
       "    if (event.shiftKey && event.which == 13) {\n",
       "        this.canvas_div.blur();\n",
       "        event.shiftKey = false;\n",
       "        // Send a \"J\" for go to next cell\n",
       "        event.which = 74;\n",
       "        event.keyCode = 74;\n",
       "        manager.command_mode();\n",
       "        manager.handle_keydown(event);\n",
       "    }\n",
       "}\n",
       "\n",
       "mpl.figure.prototype.handle_save = function(fig, msg) {\n",
       "    fig.ondownload(fig, null);\n",
       "}\n",
       "\n",
       "\n",
       "mpl.find_output_cell = function(html_output) {\n",
       "    // Return the cell and output element which can be found *uniquely* in the notebook.\n",
       "    // Note - this is a bit hacky, but it is done because the \"notebook_saving.Notebook\"\n",
       "    // IPython event is triggered only after the cells have been serialised, which for\n",
       "    // our purposes (turning an active figure into a static one), is too late.\n",
       "    var cells = IPython.notebook.get_cells();\n",
       "    var ncells = cells.length;\n",
       "    for (var i=0; i<ncells; i++) {\n",
       "        var cell = cells[i];\n",
       "        if (cell.cell_type === 'code'){\n",
       "            for (var j=0; j<cell.output_area.outputs.length; j++) {\n",
       "                var data = cell.output_area.outputs[j];\n",
       "                if (data.data) {\n",
       "                    // IPython >= 3 moved mimebundle to data attribute of output\n",
       "                    data = data.data;\n",
       "                }\n",
       "                if (data['text/html'] == html_output) {\n",
       "                    return [cell, data, j];\n",
       "                }\n",
       "            }\n",
       "        }\n",
       "    }\n",
       "}\n",
       "\n",
       "// Register the function which deals with the matplotlib target/channel.\n",
       "// The kernel may be null if the page has been refreshed.\n",
       "if (IPython.notebook.kernel != null) {\n",
       "    IPython.notebook.kernel.comm_manager.register_target('matplotlib', mpl.mpl_figure_comm);\n",
       "}\n"
      ],
      "text/plain": [
       "<IPython.core.display.Javascript object>"
      ]
     },
     "metadata": {},
     "output_type": "display_data"
    },
    {
     "data": {
      "text/html": [
       "<img src=\"data:image/png;base64,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\" width=\"799.9999880790713\">"
      ],
      "text/plain": [
       "<IPython.core.display.HTML object>"
      ]
     },
     "metadata": {},
     "output_type": "display_data"
    },
    {
     "data": {
      "application/vnd.jupyter.widget-view+json": {
       "model_id": "76de717e72d149ad8f0cd3eb247d09fa",
       "version_major": 2,
       "version_minor": 0
      },
      "text/plain": [
       "interactive(children=(FloatSlider(value=0.5, description='profScl', max=1.5, min=0.5, step=0.05), FloatSlider(…"
      ]
     },
     "metadata": {},
     "output_type": "display_data"
    }
   ],
   "source": [
    "# Run this to see widget, it isn't important to understand the code\n",
    "\n",
    "%matplotlib notebook\n",
    "from ipywidgets import *\n",
    "from matplotlib import pyplot as plt\n",
    "from matplotlib.path import Path\n",
    "from matplotlib.patches import PathPatch\n",
    "import numpy as np\n",
    "from pyomo.environ import *\n",
    "\n",
    "def GiapettoInteractiveGraph( coefSlider = False, constraintSlider = False):\n",
    "\n",
    "    # create model instance\n",
    "    model = ConcreteModel( name = \"Giapetto\" )\n",
    "\n",
    "    # decision variables\n",
    "    model.soldiers = Var( domain = NonNegativeReals )\n",
    "    model.trains = Var( domain = NonNegativeReals )\n",
    "\n",
    "    # objective function\n",
    "    model.c1 = Param(default=3,mutable=True)\n",
    "    model.c2 = Param(default=2,mutable=True)\n",
    "    model.profit = Objective( expr = model.c1 * model.soldiers + model.c2 * model.trains, sense = maximize )\n",
    "\n",
    "    # constraints\n",
    "    model.b1 = Param(default=80,mutable=True)\n",
    "    model.b2 = Param(default=100,mutable=True)\n",
    "    model.b3 = Param(default=40,mutable=True)\n",
    "    model.labor_hours = Constraint( expr = model.soldiers + model.trains <= model.b1 )\n",
    "    model.finishing_hours = Constraint( expr = 2 * model.soldiers + model.trains <= model.b2 )\n",
    "    model.soldier_demand = Constraint( expr = model.soldiers <= model.b3 )\n",
    "\n",
    "    # solver\n",
    "    solver = SolverFactory('glpk')\n",
    "\n",
    "\n",
    "    # use seaborn to change the default graphics to something nicer\n",
    "    # and set a nice color palette\n",
    "    import seaborn as sns\n",
    "    sns.set_palette('Set1')\n",
    "\n",
    "    # create the plot object\n",
    "    fig, ax = plt.subplots(figsize=(8,8)) # change to (6,6) to make figure smaller if needed\n",
    "    s = np.linspace(0, 100)\n",
    "\n",
    "    # add carpentry constraint: trains <= 80 - soldiers\n",
    "    carpentry_line, = plt.plot(s, 80 - s, lw=3, label='carpentry',color='r')\n",
    "    carpentry_fill = plt.fill_between(s, 0, 80 - s, alpha=0.1,color='r')\n",
    "\n",
    "    # add finishing constraint: trains <= 100 - 2*soldiers\n",
    "    finishing_line, = plt.plot(s, 100 - 2 * s, lw=3, label='finishing',color='g')\n",
    "    finishing_fill = plt.fill_between(s, 0, 100 - 2 * s, alpha=0.1,color='g')\n",
    "\n",
    "    # add demains constraint: soldiers <= 40\n",
    "    demand_line, = plt.plot(40 * np.ones_like(s), s, lw=3, label='demand',color='b')\n",
    "    demand_fill = plt.fill_betweenx(s, 0, 40, alpha=0.1,color='b')\n",
    "\n",
    "    # add non-negativity constraints\n",
    "    plt.plot(np.zeros_like(s), s, lw=3, label='t non-negative',color='c')\n",
    "    plt.plot(s, np.zeros_like(s), lw=3, label='s non-negative',color='m')\n",
    "\n",
    "    # level curve for profit P\n",
    "    profit_line, = plt.plot(s, .5*180 - 1.5*s, 'k--', lw = 3, label = 'profit')\n",
    "\n",
    "    # labels and stuff\n",
    "    plt.xlabel('soldiers', fontsize=16)\n",
    "    plt.ylabel('trains', fontsize=16)\n",
    "    plt.xlim(-0.5, 100)\n",
    "    plt.ylim(-0.5, 100)\n",
    "    plt.legend(loc = 'upper right',fontsize=12)\n",
    "\n",
    "    # additional elements\n",
    "    # pt, = plt.plot(20, 60, 'k.', markersize = 20 )\n",
    "    txt = plt.text( 81, 67.5, '= 180', fontsize = 14, zorder=10)\n",
    "    txt2 = plt.text( 60, 60, 'Max Profit = 180', fontsize = 14)\n",
    "\n",
    "    plt.show()\n",
    "\n",
    "    def update( profScl = .5, c1 = 3, c2 = 2, b1 = 80, b2 = 100, b3 = 40):\n",
    "        model.c1 = c1\n",
    "        model.c2 = c2\n",
    "        model.b1 = b1\n",
    "        model.b2 = b2\n",
    "        model.b3 = b3\n",
    "        solver.solve(model)\n",
    "        mxprofit = model.profit()\n",
    "        profit = mxprofit*profScl\n",
    " \n",
    "        profit_line.set_ydata((profit-c1*s)/(c2+.0001)) # hack to avoid div by 0\n",
    "        ax.collections.clear()\n",
    "        carpentry_line.set_ydata(b1-s)\n",
    "        plt.fill_between(s, 0, b1 - s, alpha=0.1,color='r')\n",
    "        finishing_line.set_ydata(b2-2*s)\n",
    "        plt.fill_between(s, 0, b2 - 2 * s, alpha=0.1,color='g')\n",
    "        demand_line.set_xdata(b3*np.ones_like(s))\n",
    "        plt.fill_betweenx(s, 0, b3, alpha=0.1,color='b')    \n",
    "        txt.set_text('= {:3.1f}'.format(profit) )\n",
    "        txt2.set_text('Max Profit = {:3.1f}'.format(mxprofit) )\n",
    "#        pt.set_xdata(model.soldiers())\n",
    "#        pt.set_ydata(model.trains())\n",
    "        fig.canvas.draw()\n",
    "\n",
    "    if (coefSlider and constraintSlider):\n",
    "        interact(update,profScl=(.5,1.5,.05),c1=(0,5,.5),c2=(0,5,.5),b1=(60,120),b2=(70,130),b3=(15,50)); \n",
    "    elif (coefSlider and not constraintSlider):\n",
    "        interact(update,profScl=(.5,1.5,.05),c1=(0,5,.5),c2=(0,5,.5),b1=fixed(80),b2=fixed(100),b3=fixed(40));\n",
    "    elif (not coefSlider and constraintSlider):\n",
    "        interact(update,profScl=(.5,1.5,.05),c1=fixed(3),c2=fixed(2),b1=(75,85),b2=(95,105),b3=(35,45));\n",
    "    else:\n",
    "        interact(update,profScl=(.5,1.5,.05),c1=fixed(3),c2=fixed(2),b1=fixed(80),b2=fixed(100),b3=fixed(40));\n",
    "\n",
    "GiapettoInteractiveGraph(True,True);"
   ]
  },
  {
   "cell_type": "markdown",
   "metadata": {
    "hidden": true
   },
   "source": [
    "(a) Find and interpret the shadow price for the weekly carpentry hours. (**HW2.3a**)"
   ]
  },
  {
   "cell_type": "markdown",
   "metadata": {
    "hidden": true
   },
   "source": [
    "<font color = \"blue\"> *** 2 points -  answer in cell below *** (don't delete this cell) </font>"
   ]
  },
  {
   "cell_type": "markdown",
   "metadata": {
    "hidden": true
   },
   "source": [
    "<font color = \"green\">\n",
    "replace this text with answer, your answer should be green   \n",
    "</font>"
   ]
  },
  {
   "cell_type": "markdown",
   "metadata": {
    "hidden": true
   },
   "source": [
    "(b) Find and interpret the allowable range for the weekly finishing hours. (**HW2.3b**)"
   ]
  },
  {
   "cell_type": "markdown",
   "metadata": {
    "hidden": true
   },
   "source": [
    "<font color = \"blue\"> *** 1 points -  answer in cell below *** (don't delete this cell) </font>"
   ]
  },
  {
   "cell_type": "markdown",
   "metadata": {
    "hidden": true
   },
   "source": [
    "<font color = \"green\">\n",
    "replace this text with answer, your answer should be green   \n",
    "</font>"
   ]
  },
  {
   "cell_type": "markdown",
   "metadata": {
    "hidden": true
   },
   "source": [
    "(c) If everything else stays the same as in the initial problem, how far could the demand for toy soldiers drop before the demand becomes a sensitive parameter? (**HW2.3c**)"
   ]
  },
  {
   "cell_type": "markdown",
   "metadata": {
    "hidden": true
   },
   "source": [
    "<font color = \"blue\"> *** 1 points -  answer in cell below *** (don't delete this cell) </font>"
   ]
  },
  {
   "cell_type": "markdown",
   "metadata": {
    "hidden": true
   },
   "source": [
    "<font color = \"green\">\n",
    "replace this text with answer, your answer should be green   \n",
    "</font>"
   ]
  },
  {
   "cell_type": "markdown",
   "metadata": {
    "hidden": true
   },
   "source": [
    "(d) If everything else stayed the same, but the price of selling the soldier increased to \\\\$28.50, (**HW2.3d**)\n",
    "\n",
    "    (i) what would be the maximum profit? "
   ]
  },
  {
   "cell_type": "markdown",
   "metadata": {
    "hidden": true
   },
   "source": [
    "<font color = \"blue\"> *** 1 points -  answer in cell below *** (don't delete this cell) </font>"
   ]
  },
  {
   "cell_type": "markdown",
   "metadata": {
    "hidden": true
   },
   "source": [
    "<font color = \"green\">\n",
    "replace this text with answer, your answer should be green   \n",
    "</font>"
   ]
  },
  {
   "cell_type": "markdown",
   "metadata": {
    "hidden": true
   },
   "source": [
    "    (ii) how many of each toy should be produced to achieve it,"
   ]
  },
  {
   "cell_type": "markdown",
   "metadata": {
    "hidden": true
   },
   "source": [
    "<font color = \"blue\"> *** 1 points -  answer in cell below *** (don't delete this cell) </font>"
   ]
  },
  {
   "cell_type": "markdown",
   "metadata": {
    "hidden": true
   },
   "source": [
    "<font color = \"green\">\n",
    "replace this text with answer, your answer should be green   \n",
    "</font>"
   ]
  },
  {
   "cell_type": "markdown",
   "metadata": {
    "hidden": true
   },
   "source": [
    "    (iii) and what is the new shadow price for weekly carpentry hours?  Why is this the new shadow price?"
   ]
  },
  {
   "cell_type": "markdown",
   "metadata": {
    "hidden": true
   },
   "source": [
    "<font color = \"blue\"> *** 2 points -  answer in cell below *** (don't delete this cell) </font>"
   ]
  },
  {
   "cell_type": "markdown",
   "metadata": {
    "hidden": true
   },
   "source": [
    "<font color = \"green\">\n",
    "replace this text with answer, your answer should be green   \n",
    "</font>"
   ]
  },
  {
   "cell_type": "markdown",
   "metadata": {
    "heading_collapsed": true
   },
   "source": [
    "# Textbook Problem 4.7-3"
   ]
  },
  {
   "cell_type": "markdown",
   "metadata": {
    "hidden": true
   },
   "source": [
    "You are given the following linear programming problem: \n",
    "\n",
    "Maximize $Z = 4x_1 + 2x_2,$ \n",
    "\n",
    "subject to \n",
    "\n",
    "$\n",
    "\\begin{array}{rcrcr}\n",
    "2x_1 & & & \\leq & 16 \\\\\n",
    "x_1 & + & 3x_2 & \\leq & 17 \\\\\n",
    "         &         & x_2 & \\leq & 5 \n",
    "\\end{array}\n",
    "$\n",
    "\n",
    "and $x_1 \\geq 0, x_2 \\geq 0.$\n",
    "\n",
    "(a) Solve this problem graphically and include a screenshot here. (**HW2.4a**)"
   ]
  },
  {
   "cell_type": "markdown",
   "metadata": {
    "hidden": true
   },
   "source": [
    "<font color = \"blue\"> *** 2 points -  answer in cell below *** (don't delete this cell) </font>"
   ]
  },
  {
   "cell_type": "markdown",
   "metadata": {
    "hidden": true
   },
   "source": [
    "<font color = \"green\">\n",
    "replace this text with answer, your answer should be green   \n",
    "</font>"
   ]
  },
  {
   "cell_type": "markdown",
   "metadata": {
    "hidden": true
   },
   "source": [
    "(b) Use graphical analysis to find the shadow prices for the\n",
    "  resources.  Use PHPSimplex.com/en, DESMOS.com, or graph by hand.  Include a screenshot or image of your work, put it in the images folder and use an HTML image tag to include it in the notebook.  Make sure to clearly identify the shadow prices (**HW2.4b**)"
   ]
  },
  {
   "cell_type": "markdown",
   "metadata": {
    "hidden": true
   },
   "source": [
    "<font color = \"blue\"> *** 2 points -  answer in cell below *** (don't delete this cell) </font>"
   ]
  },
  {
   "cell_type": "markdown",
   "metadata": {
    "hidden": true
   },
   "source": [
    "<font color = \"green\">\n",
    "replace this text with answer, your answer should be green   \n",
    "</font>"
   ]
  },
  {
   "cell_type": "markdown",
   "metadata": {
    "hidden": true
   },
   "source": [
    "(c) Determine how many additional units of resource 1 would need to\n",
    "increase the optimal value of $Z$ by 15. (**HW2.4c**)"
   ]
  },
  {
   "cell_type": "markdown",
   "metadata": {
    "hidden": true
   },
   "source": [
    "<font color = \"blue\"> *** 2 points -  answer in cell below *** (don't delete this cell) </font>"
   ]
  },
  {
   "cell_type": "markdown",
   "metadata": {
    "hidden": true
   },
   "source": [
    "<font color = \"green\">\n",
    "replace this text with answer, your answer should be green   \n",
    "</font>"
   ]
  },
  {
   "cell_type": "code",
   "execution_count": null,
   "metadata": {
    "hidden": true
   },
   "outputs": [],
   "source": []
  },
  {
   "cell_type": "markdown",
   "metadata": {
    "heading_collapsed": true
   },
   "source": [
    "# Textbook Problem 3.5-5"
   ]
  },
  {
   "cell_type": "markdown",
   "metadata": {
    "hidden": true
   },
   "source": [
    "Fred Jonasson manages a family-owned farm. To supplement several food products grown on the farm, Fred also raises pigs for market. He now wishes to determine the quantities of the available types of feed (corn, tankage, and alfalfa) that should be given to each pig. Since pigs will eat any mix of these feed types, the objective is to determine which mix will meet certain nutritional requirements at a minimum cost. The number of units of each type of basic nutritional ingredient contained within a kilogram of each feed type is given in the following table, along with the daily nutritional requirements and feed costs:\n",
    "\n",
    "<table>\n",
    "    <tr>\n",
    "        <th style=\"border-right:thin solid;border-bottom:thin solid;\"> &nbsp; <br> Nutrional <br> Ingredient </th>\n",
    "        <th style=\"border-bottom:thin solid;\"> Kilogram <br> of<br> Corn </th>\n",
    "        <th style=\"border-bottom:thin solid;\"> Kilogram <br> of <br> Tankage </th>\n",
    "        <th style=\"border-bottom:thin solid;\"> Kilogram<br>of<br>Alfalfa</th>\n",
    "        <th style=\"border-left: thin solid;border-bottom:thin solid;\"> Minimum<br>Daily<br>Requirement </th>\n",
    "    </tr>\n",
    "    <tr>\n",
    "        <td style=\"border-right:thin solid;\"> Carbohydrates </td>\n",
    "        <td> 90 </td>\n",
    "        <td> 20 </td>\n",
    "        <td> 40 </td>\n",
    "        <td style=\"border-left:thin solid;\"> 200 </td>\n",
    "    </tr>\n",
    "    <tr>\n",
    "        <td style=\"border-right:thin solid;\"> Protein </td>\n",
    "        <td> 30 </td>\n",
    "        <td> 80 </td>\n",
    "        <td> 60 </td>\n",
    "        <td style=\"border-left:thin solid;\"> 180 </td>\n",
    "    </tr>\n",
    "    <tr>\n",
    "        <td style=\"border-right:thin solid;\"> Vitamins </td>\n",
    "        <td> 10 </td>\n",
    "        <td> 20 </td>\n",
    "        <td> 60 </td>\n",
    "        <td style=\"border-left:thin solid;\"> 150 </td>\n",
    "    </tr>        \n",
    "    <tr>\n",
    "        <td style=\"border-top:thin solid;border-right:thin solid\"> Cost </td>\n",
    "        <td style=\"border-top:thin solid;\"> \\$2.10 </td>\n",
    "        <td style=\"border-top:thin solid;\"> \\$1.80 </td>\n",
    "        <td style=\"border-top:thin solid;\"> \\$1.50 </td>\n",
    "        <td style=\"border-left:thin solid; border-top:thin solid;\"> &nbsp; </td>\n",
    "    </tr>\n",
    "</table>"
   ]
  },
  {
   "cell_type": "markdown",
   "metadata": {
    "hidden": true
   },
   "source": [
    "(a) Formulate a linear programming model for this problem.  LaTeX or handwritten with picture. (**HW2.5a**)"
   ]
  },
  {
   "cell_type": "markdown",
   "metadata": {
    "hidden": true
   },
   "source": [
    "<font color = \"blue\"> *** 2 points -  answer in cell below *** (don't delete this cell) </font>"
   ]
  },
  {
   "cell_type": "markdown",
   "metadata": {
    "hidden": true
   },
   "source": [
    "<font color = \"green\">\n",
    "replace this text with answer, your answer should be green   \n",
    "</font>"
   ]
  },
  {
   "cell_type": "markdown",
   "metadata": {
    "hidden": true
   },
   "source": [
    "(b) Use Pyomo to solve this problem. Your solution should include all necessary code and inputs and it should produce formatted output.  For credit, you must use the abstract approach as we did in the lesson."
   ]
  },
  {
   "cell_type": "markdown",
   "metadata": {
    "hidden": true
   },
   "source": [
    "<font color = \"blue\"> *** 6 points -  answer in cell below *** (don't delete this cell) </font>"
   ]
  },
  {
   "cell_type": "code",
   "execution_count": null,
   "metadata": {
    "hidden": true
   },
   "outputs": [],
   "source": []
  },
  {
   "cell_type": "markdown",
   "metadata": {
    "heading_collapsed": true
   },
   "source": [
    "# Textbook Problem 3.4-15 Revisited"
   ]
  },
  {
   "cell_type": "markdown",
   "metadata": {
    "hidden": true
   },
   "source": [
    "Oxbridge University maintains a powerful mainframe computer\n",
    "  for research use by its faculty, Ph.D. students, and research\n",
    "  associates. During all working hours, an operator must be available\n",
    "  to operate and maintain the computer, as well as to perform some\n",
    "  programming services. Beryl Ingram, the director of the computer\n",
    "  facility, oversees the operation.  \n",
    "\n",
    "  It is now the beginning of the\n",
    "  fall semester, and Beryl is confronted with the problem of assigning\n",
    "  different working hours to her operators. Because all the operators\n",
    "  are currently enrolled in the university, they are available to work\n",
    "  only a limited number of hours\n",
    "  each day, as shown in the following table: \n",
    "  \n",
    "  <img src=\"images/screen-problem5.png\" width=\"440\" height=\"250\">\n",
    "  \n",
    "  There are six operators (four undergraduate students and two\n",
    "  graduate students). They all have different wage rates because of\n",
    "  differences in their experience with computers and in their pro-\n",
    "  gramming ability. The above table shows their wage rates, along with\n",
    "  the maximum number of hours that each can work each day.  \n",
    "\n",
    "  Each\n",
    "  operator is guaranteed a certain minimum number of hours per week\n",
    "  that will maintain an adequate knowledge of the operation. This\n",
    "  level is set arbitrarily at 8 hours per week for the undergraduate\n",
    "  students (K. C., D. H., H. B., and S. C.) and 7 hours per week for\n",
    "  the graduate students (K. S. and N. K.).\n",
    "\n",
    "  The computer facility is to be open for operation from 8 A.M. to 10\n",
    "  P.M. Monday through Friday with exactly one operator on duty during\n",
    "  these hours. On Saturdays and Sundays, the computer is to be\n",
    "  operated by other staff.  Because of a tight budget, Beryl has to\n",
    "  minimize cost. She wishes to determine the number of hours she\n",
    "  should assign to each operator on each day.\n",
    "\n",
    "  Because of a tight budget, Beryl has to minimize cost. She wishes to\n",
    "  determine the number of hours she should assign to each operator on\n",
    "  each day.\n",
    "\n",
    "(a) Formulate an abstract linear programming model for this problem that can be generalized to any number of workers and days.  This is very similar to the \"Supply and Demand\" self-assessment problem:\n",
    "- \"supply\" is the weekly hours worked by each worker, but it's possible for workers to work more than the guaranteed minimum hours each week\n",
    "- \"demand\" is the daily hours that must be staffed\n",
    "- you'll need additional constraints that reflect that each worker has limited availability on each day, on some days they have zero availability\n",
    "\n",
    "Include your mathematical model here.  You can typeset the model with LaTeX or include a clean, cropped picture of your handwritten equations. (**HW2.6a**)"
   ]
  },
  {
   "cell_type": "markdown",
   "metadata": {
    "hidden": true
   },
   "source": [
    "<font color = \"blue\"> *** 4 points -  answer in cell below *** (don't delete this cell) </font>"
   ]
  },
  {
   "cell_type": "markdown",
   "metadata": {
    "hidden": true
   },
   "source": [
    "<font color = \"green\">\n",
    "replace this text with answer, your answer should be green   \n",
    "</font>"
   ]
  },
  {
   "cell_type": "markdown",
   "metadata": {
    "hidden": true
   },
   "source": [
    "(b) Solve this model using Pyomo, coding the data and model separately as done, for example, in the \"Supply and Demand\" Self Assessment problem. For credit, you must use the abstract approach as in the lesson. Your solution should include all necessary code and inputs and it should produce formatted output. (**HW2.6b**)"
   ]
  },
  {
   "cell_type": "markdown",
   "metadata": {
    "hidden": true
   },
   "source": [
    "<font color = \"blue\"> *** 4 points -  answer in cell below *** (don't delete this cell) </font>"
   ]
  },
  {
   "cell_type": "code",
   "execution_count": null,
   "metadata": {
    "hidden": true
   },
   "outputs": [],
   "source": []
  },
  {
   "cell_type": "markdown",
   "metadata": {
    "hidden": true
   },
   "source": [
    "(c) Produce the sensitivity report in Python.  (**HW2.6c**)"
   ]
  },
  {
   "cell_type": "markdown",
   "metadata": {
    "hidden": true
   },
   "source": [
    "<font color = \"blue\"> *** 1 point -  answer in cell below *** (don't delete this cell) </font>"
   ]
  },
  {
   "cell_type": "code",
   "execution_count": null,
   "metadata": {
    "hidden": true
   },
   "outputs": [],
   "source": []
  },
  {
   "cell_type": "markdown",
   "metadata": {
    "hidden": true
   },
   "source": [
    "(d) Report and interpret the shadow price for H.B.'s available hours hours for Monday. (**HW2.6d**)"
   ]
  },
  {
   "cell_type": "markdown",
   "metadata": {
    "hidden": true
   },
   "source": [
    "<font color = \"blue\"> *** 1 point -  answer in cell below *** (don't delete this cell) </font>"
   ]
  },
  {
   "cell_type": "markdown",
   "metadata": {
    "hidden": true
   },
   "source": [
    "<font color = \"green\">\n",
    "replace this text with answer, your answer should be green   \n",
    "</font>"
   ]
  },
  {
   "cell_type": "markdown",
   "metadata": {
    "hidden": true
   },
   "source": [
    "(e) Report and interpret the activity range for H.B.'s available hours hours for Monday. (For constraints, the activity range in the Python/GLPK report is equivalent to the allowable range discussed in the textbook.) (**HW2.6e**)"
   ]
  },
  {
   "cell_type": "markdown",
   "metadata": {
    "hidden": true
   },
   "source": [
    "<font color = \"blue\"> *** 1 point -  answer in cell below *** (don't delete this cell) </font>"
   ]
  },
  {
   "cell_type": "markdown",
   "metadata": {
    "hidden": true
   },
   "source": [
    "<font color = \"green\">\n",
    "replace this text with answer, your answer should be green   \n",
    "</font>"
   ]
  },
  {
   "cell_type": "markdown",
   "metadata": {
    "heading_collapsed": true
   },
   "source": [
    "# Textbook Problem 7.3-7 (parts)"
   ]
  },
  {
   "cell_type": "markdown",
   "metadata": {
    "hidden": true
   },
   "source": [
    "This question is based on the material labeled \"Personnel\n",
    "Scheduling\" beginning on page 57 of the textbook.  Table 3.19 is\n",
    "reproduced here for convenience: \n",
    "\n",
    "<img src=\"images/problem5p5.png\" width=\"640\" height=\"450\"> \n",
    "\n",
    "Management now is considering increasing the level of service\n",
    "provided to customers by increasing one or more of the numbers in the\n",
    "rightmost column of Table 3.19 for the minimum number of agents needed\n",
    "in the various time periods. To guide them in making this decision,\n",
    "they would like to know what impact this change would have on total\n",
    "cost.  (*Note: the letters (a), (b), etc. do not match the letters in the textbook problem.*)\n",
    "\n",
    "(a) Use Pyomo with the GLPK solver to generate the sensitivity report in preparation for addressing the following questions.  Your Pyomo solution should be written in a general way that can be applied to any number time periods and shifts (use the abstract approach).  In the cell below we've included the problem data to get you started.  Note that the \"rows\" in ```periods_covered``` allow you form the mimimum number of agents constraints.  For instance, based on the second \"row\" we know that the constraint for the 8am - 10am time period is $$ 1 x_{s1} + 1 x_{s2} + 0 x_{s3} + 0 x_{s4} + 0 x_{s5} \\geq 79$$ because only agents in shifts 1 and 2 provide coverage for that time period.  (**HW2.7a**)"
   ]
  },
  {
   "cell_type": "markdown",
   "metadata": {
    "hidden": true
   },
   "source": [
    "<font color = \"blue\"> *** 7 points -  answer in cell below *** (don't delete this cell) </font>"
   ]
  },
  {
   "cell_type": "code",
   "execution_count": 1,
   "metadata": {
    "hidden": true
   },
   "outputs": [],
   "source": [
    "# data for problem 7.3-7\n",
    "periods = [\n",
    "    'p6_8', 'p8_10', 'p10_12', 'p12_14', 'p14_16', 'p16_18', 'p18_20',\n",
    "    'p20_22', 'p22_24', 'p24_6'\n",
    "]\n",
    "shifts = ['s1', 's2', 's3', 's4', 's5']\n",
    "daily_cost_per_agent = dict( zip( shifts, [170, 160, 175, 180, 195] ) )\n",
    "min_agents_per_period = dict( zip( periods, [48, 79, 65, 87, 64, 73, 82, 43, 52, 15] ) )\n",
    "                            \n",
    "pc = [[1, 0, 0, 0, 0], [1, 1, 0, 0, 0], [1, 1, 0, 0, 0], [1, 1, 1, 0, 0],\n",
    "     [0, 1, 1, 0, 0], [0, 0, 1, 1, 0], [0, 0, 1, 1, 0], [0, 0, 0, 1, 0],\n",
    "     [0, 0, 0, 1, 1], [0, 0, 0, 0, 1]]\n",
    "periods_covered = { periods[p]: dict(zip( shifts, pc[p][:])) for p in range(len(periods))}\n",
    "\n",
    "# finish the code here:\n"
   ]
  },
  {
   "cell_type": "markdown",
   "metadata": {
    "hidden": true
   },
   "source": [
    "(b) Which of the numbers in\n",
    "the rightmost column of Table 3.19 can be increased without increasing\n",
    "total cost? In each case, indicate how much it can be increased (if it\n",
    "is the only one being changed) without increasing total cost. (**HW2.7b**)"
   ]
  },
  {
   "cell_type": "markdown",
   "metadata": {
    "hidden": true
   },
   "source": [
    "<font color = \"blue\"> *** 2 points -  answer in cell below *** (don't delete this cell) </font>"
   ]
  },
  {
   "cell_type": "markdown",
   "metadata": {
    "hidden": true
   },
   "source": [
    "<font color = \"green\">\n",
    "replace this text with answer, your answer should be green   \n",
    "</font>"
   ]
  },
  {
   "cell_type": "markdown",
   "metadata": {
    "hidden": true
   },
   "source": [
    "(c) For each of the other numbers, how much would the total cost increase per increase of 1 in the number? For each answer, indicate how much the number can be increased (if it is the only one being changed) before the answer is no longer valid.   (**HW2.7c**)"
   ]
  },
  {
   "cell_type": "markdown",
   "metadata": {
    "hidden": true
   },
   "source": [
    "<font color = \"blue\"> *** 2 points -  answer in cell below *** (don't delete this cell) </font>"
   ]
  },
  {
   "cell_type": "markdown",
   "metadata": {
    "hidden": true
   },
   "source": [
    "<font color = \"green\">\n",
    "replace this text with answer, your answer should be green   \n",
    "</font>"
   ]
  },
  {
   "cell_type": "markdown",
   "metadata": {
    "hidden": true
   },
   "source": [
    "(d) Do your answers in part (c) definitely remain valid if all the numbers considered in part (b) are simultaneously increased by one? (What percent of the allowable increase is an increase of 1 for each RHS? Consider Hillier p. 238)  (**HW2.7d**)"
   ]
  },
  {
   "cell_type": "markdown",
   "metadata": {
    "hidden": true
   },
   "source": [
    "<font color = \"blue\"> *** 2 points -  answer in cell below *** (don't delete this cell) </font>"
   ]
  },
  {
   "cell_type": "markdown",
   "metadata": {
    "hidden": true
   },
   "source": [
    "<font color = \"green\">\n",
    "replace this text with answer, your answer should be green   \n",
    "</font>"
   ]
  }
 ],
 "metadata": {
  "kernelspec": {
   "display_name": "Python 3",
   "language": "python",
   "name": "python3"
  },
  "language_info": {
   "codemirror_mode": {
    "name": "ipython",
    "version": 3
   },
   "file_extension": ".py",
   "mimetype": "text/x-python",
   "name": "python",
   "nbconvert_exporter": "python",
   "pygments_lexer": "ipython3",
   "version": "3.7.3"
  },
  "toc": {
   "base_numbering": 1,
   "nav_menu": {},
   "number_sections": true,
   "sideBar": true,
   "skip_h1_title": false,
   "title_cell": "Table of Contents",
   "title_sidebar": "Contents",
   "toc_cell": false,
   "toc_position": {
    "height": "calc(100% - 180px)",
    "left": "10px",
    "top": "150px",
    "width": "204.787px"
   },
   "toc_section_display": true,
   "toc_window_display": true
  },
  "varInspector": {
   "cols": {
    "lenName": 16,
    "lenType": 16,
    "lenVar": 40
   },
   "kernels_config": {
    "python": {
     "delete_cmd_postfix": "",
     "delete_cmd_prefix": "del ",
     "library": "var_list.py",
     "varRefreshCmd": "print(var_dic_list())"
    },
    "r": {
     "delete_cmd_postfix": ") ",
     "delete_cmd_prefix": "rm(",
     "library": "var_list.r",
     "varRefreshCmd": "cat(var_dic_list()) "
    }
   },
   "types_to_exclude": [
    "module",
    "function",
    "builtin_function_or_method",
    "instance",
    "_Feature"
   ],
   "window_display": false
  }
 },
 "nbformat": 4,
 "nbformat_minor": 2
}
